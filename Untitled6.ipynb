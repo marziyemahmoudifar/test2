{
  "nbformat": 4,
  "nbformat_minor": 0,
  "metadata": {
    "colab": {
      "name": "Untitled6.ipynb",
      "provenance": [],
      "authorship_tag": "ABX9TyP2YBPzhszi/85h0mb2uxL+",
      "include_colab_link": true
    },
    "kernelspec": {
      "name": "python3",
      "display_name": "Python 3"
    },
    "language_info": {
      "name": "python"
    },
    "accelerator": "GPU"
  },
  "cells": [
    {
      "cell_type": "markdown",
      "metadata": {
        "id": "view-in-github",
        "colab_type": "text"
      },
      "source": [
        "<a href=\"https://colab.research.google.com/github/marziyemahmoudifar/test2/blob/new1/Untitled6.ipynb\" target=\"_parent\"><img src=\"https://colab.research.google.com/assets/colab-badge.svg\" alt=\"Open In Colab\"/></a>"
      ]
    },
    {
      "cell_type": "code",
      "execution_count": 1,
      "metadata": {
        "colab": {
          "base_uri": "https://localhost:8080/"
        },
        "id": "wHu8n_HvoH8h",
        "outputId": "032f280f-1f91-4814-fb8e-ea242f6ff759"
      },
      "outputs": [
        {
          "output_type": "stream",
          "name": "stdout",
          "text": [
            "Cloning into 'RGBD_fruit_detection_faster-rcnn.pytorch'...\n",
            "remote: Enumerating objects: 232, done.\u001b[K\n",
            "remote: Total 232 (delta 0), reused 0 (delta 0), pack-reused 232\u001b[K\n",
            "Receiving objects: 100% (232/232), 497.21 KiB | 3.79 MiB/s, done.\n",
            "Resolving deltas: 100% (75/75), done.\n"
          ]
        }
      ],
      "source": [
        "\n",
        "!git clone https://github.com/GRAP-UdL-AT/RGBD_fruit_detection_faster-rcnn.pytorch.git"
      ]
    },
    {
      "cell_type": "code",
      "source": [
        "#from google.colab import drive\n",
        "#root = '/content/gdrive/'\n",
        "#drive.mount( root )"
      ],
      "metadata": {
        "colab": {
          "base_uri": "https://localhost:8080/"
        },
        "id": "F2hbqAsYXAhv",
        "outputId": "22bf48d7-822d-4e35-f2aa-92bbdfb9bddc"
      },
      "execution_count": null,
      "outputs": [
        {
          "output_type": "stream",
          "name": "stdout",
          "text": [
            "Mounted at /content/gdrive/\n"
          ]
        }
      ]
    },
    {
      "cell_type": "code",
      "source": [
        "%cd RGBD_fruit_detection_faster-rcnn.pytorch \n",
        "!mkdir data"
      ],
      "metadata": {
        "colab": {
          "base_uri": "https://localhost:8080/"
        },
        "id": "HnWzggSWwW6M",
        "outputId": "31723620-616c-4cd8-e0a3-5129c42246b1"
      },
      "execution_count": 2,
      "outputs": [
        {
          "output_type": "stream",
          "name": "stdout",
          "text": [
            "/content/RGBD_fruit_detection_faster-rcnn.pytorch\n"
          ]
        }
      ]
    },
    {
      "cell_type": "code",
      "source": [
        "\n",
        "%cd data"
      ],
      "metadata": {
        "colab": {
          "base_uri": "https://localhost:8080/"
        },
        "id": "Yup6HaFTxFMt",
        "outputId": "4d2e83f7-23ac-4dca-96c2-c20543caf9b6"
      },
      "execution_count": 3,
      "outputs": [
        {
          "output_type": "stream",
          "name": "stdout",
          "text": [
            "/content/RGBD_fruit_detection_faster-rcnn.pytorch/data\n"
          ]
        }
      ]
    },
    {
      "cell_type": "code",
      "source": [
        "! wget https://drive.google.com/file/d/13TjwDnzduxL8FP29yY41PEhuQmmta9wN/view?usp=sharing"
      ],
      "metadata": {
        "id": "_RJIvKg9irYo",
        "outputId": "b3915ecb-e2b3-4c3d-a1ca-d58d0f9a15bc",
        "colab": {
          "base_uri": "https://localhost:8080/"
        }
      },
      "execution_count": 19,
      "outputs": [
        {
          "output_type": "stream",
          "name": "stdout",
          "text": [
            "--2021-12-17 18:01:04--  https://drive.google.com/file/d/13TjwDnzduxL8FP29yY41PEhuQmmta9wN/view?usp=sharing\n",
            "Resolving drive.google.com (drive.google.com)... 209.85.200.139, 209.85.200.138, 209.85.200.100, ...\n",
            "Connecting to drive.google.com (drive.google.com)|209.85.200.139|:443... connected.\n",
            "HTTP request sent, awaiting response... 200 OK\n",
            "Length: unspecified [text/html]\n",
            "Saving to: ‘view?usp=sharing.1’\n",
            "\n",
            "view?usp=sharing.1      [ <=>                ]  65.04K  --.-KB/s    in 0.002s  \n",
            "\n",
            "2021-12-17 18:01:04 (36.6 MB/s) - ‘view?usp=sharing.1’ saved [66604]\n",
            "\n"
          ]
        }
      ]
    },
    {
      "cell_type": "code",
      "source": [
        "! wget http://www.grap.udl.cat/en/publications/datasets.html"
      ],
      "metadata": {
        "id": "vbQfNdvAhSu2",
        "outputId": "2734fbde-c012-48a7-c248-5d8fa47b392f",
        "colab": {
          "base_uri": "https://localhost:8080/"
        }
      },
      "execution_count": 5,
      "outputs": [
        {
          "output_type": "stream",
          "name": "stdout",
          "text": [
            "--2021-12-17 17:15:09--  http://www.grap.udl.cat/en/publications/datasets.html\n",
            "Resolving www.grap.udl.cat (www.grap.udl.cat)... 193.144.10.118\n",
            "Connecting to www.grap.udl.cat (www.grap.udl.cat)|193.144.10.118|:80... connected.\n",
            "HTTP request sent, awaiting response... 200 OK\n",
            "Length: 14895 (15K) [text/html]\n",
            "Saving to: ‘datasets.html’\n",
            "\n",
            "datasets.html       100%[===================>]  14.55K  --.-KB/s    in 0.1s    \n",
            "\n",
            "2021-12-17 17:15:10 (111 KB/s) - ‘datasets.html’ saved [14895/14895]\n",
            "\n"
          ]
        }
      ]
    },
    {
      "cell_type": "code",
      "source": [
        "! wget https://www.dropbox.com/s/s3brpk0bdq60nyb/vgg16_caffe.pth?dl=0"
      ],
      "metadata": {
        "id": "VJwz2pDBk1P2",
        "outputId": "a29b4657-78c4-49c1-a69a-7bd515904a6a",
        "colab": {
          "base_uri": "https://localhost:8080/"
        }
      },
      "execution_count": 6,
      "outputs": [
        {
          "output_type": "stream",
          "name": "stdout",
          "text": [
            "--2021-12-17 17:15:14--  https://www.dropbox.com/s/s3brpk0bdq60nyb/vgg16_caffe.pth?dl=0\n",
            "Resolving www.dropbox.com (www.dropbox.com)... 162.125.3.18, 2620:100:6018:18::a27d:312\n",
            "Connecting to www.dropbox.com (www.dropbox.com)|162.125.3.18|:443... connected.\n",
            "HTTP request sent, awaiting response... 301 Moved Permanently\n",
            "Location: /s/raw/s3brpk0bdq60nyb/vgg16_caffe.pth [following]\n",
            "--2021-12-17 17:15:14--  https://www.dropbox.com/s/raw/s3brpk0bdq60nyb/vgg16_caffe.pth\n",
            "Reusing existing connection to www.dropbox.com:443.\n",
            "HTTP request sent, awaiting response... 302 Found\n",
            "Location: https://ucd6dcd4e4351544c61772082521.dl.dropboxusercontent.com/cd/0/inline/BcC1Yw6Jb7EUV2vFDOM2ad1U5Q3jq3JShI2NRoS5DqIQckyAm_SOmlWRcQmiUjtDmtk3ozIALi_FK_sibD2Fx9am8IQaNuetf-MRXjnTBIc0Rm2Br69AvbrKoeH4P9aLHuDLDVUdXHK8AIk5bR5YbfIq/file# [following]\n",
            "--2021-12-17 17:15:14--  https://ucd6dcd4e4351544c61772082521.dl.dropboxusercontent.com/cd/0/inline/BcC1Yw6Jb7EUV2vFDOM2ad1U5Q3jq3JShI2NRoS5DqIQckyAm_SOmlWRcQmiUjtDmtk3ozIALi_FK_sibD2Fx9am8IQaNuetf-MRXjnTBIc0Rm2Br69AvbrKoeH4P9aLHuDLDVUdXHK8AIk5bR5YbfIq/file\n",
            "Resolving ucd6dcd4e4351544c61772082521.dl.dropboxusercontent.com (ucd6dcd4e4351544c61772082521.dl.dropboxusercontent.com)... 162.125.3.15, 2620:100:6023:15::a27d:430f\n",
            "Connecting to ucd6dcd4e4351544c61772082521.dl.dropboxusercontent.com (ucd6dcd4e4351544c61772082521.dl.dropboxusercontent.com)|162.125.3.15|:443... connected.\n",
            "HTTP request sent, awaiting response... 302 Found\n",
            "Location: /cd/0/inline2/BcAkta1dR0ik-smwbWgGzcUqOZIkRfGcFMXpPI2SFWG2WncIS2I9OM7qYkiEQm0HXsxDRVqv5vv8kVg5IvzBe-i5rIxL21iyWXbM338zuRf63N9u6YWC4ytxigvr4xN97FL11O8IScMcRkC6isiul5QM6ID17RSX8zQcrFEy2JURAtCZZGG_REuJ5OA_83sjMuYiqo_S0T-hGUSB3ZKhcv0o5mjbi0Ookvnhtig5SR5-npl55aUA6tlFm_Hswl2alTTOWP5MEDClKx4zmPj3-_gOPNsrc7grBoCFQWJ_bFqc4N0VhvD9eiaGhEKZ--NEZ_BVNSBE2wQkYfl6m-YXZMxSSxpmvnV3PgCbsueRCbZ3_5ecZtf2T8G_4SQFFFEFfb0/file [following]\n",
            "--2021-12-17 17:15:15--  https://ucd6dcd4e4351544c61772082521.dl.dropboxusercontent.com/cd/0/inline2/BcAkta1dR0ik-smwbWgGzcUqOZIkRfGcFMXpPI2SFWG2WncIS2I9OM7qYkiEQm0HXsxDRVqv5vv8kVg5IvzBe-i5rIxL21iyWXbM338zuRf63N9u6YWC4ytxigvr4xN97FL11O8IScMcRkC6isiul5QM6ID17RSX8zQcrFEy2JURAtCZZGG_REuJ5OA_83sjMuYiqo_S0T-hGUSB3ZKhcv0o5mjbi0Ookvnhtig5SR5-npl55aUA6tlFm_Hswl2alTTOWP5MEDClKx4zmPj3-_gOPNsrc7grBoCFQWJ_bFqc4N0VhvD9eiaGhEKZ--NEZ_BVNSBE2wQkYfl6m-YXZMxSSxpmvnV3PgCbsueRCbZ3_5ecZtf2T8G_4SQFFFEFfb0/file\n",
            "Reusing existing connection to ucd6dcd4e4351544c61772082521.dl.dropboxusercontent.com:443.\n",
            "HTTP request sent, awaiting response... 200 OK\n",
            "Length: 553433685 (528M) [application/octet-stream]\n",
            "Saving to: ‘vgg16_caffe.pth?dl=0’\n",
            "\n",
            "vgg16_caffe.pth?dl= 100%[===================>] 527.79M  88.3MB/s    in 5.8s    \n",
            "\n",
            "2021-12-17 17:15:21 (90.3 MB/s) - ‘vgg16_caffe.pth?dl=0’ saved [553433685/553433685]\n",
            "\n"
          ]
        }
      ]
    },
    {
      "cell_type": "code",
      "source": [
        "! wget https://filebox.ece.vt.edu/~jw2yang/faster-rcnn/pretrained-base-models/vgg16_caffe.pth"
      ],
      "metadata": {
        "id": "MfaHYk4OlQlZ",
        "outputId": "cbb1ae49-7498-43ec-ff56-aecd88f00563",
        "colab": {
          "base_uri": "https://localhost:8080/"
        }
      },
      "execution_count": 7,
      "outputs": [
        {
          "output_type": "stream",
          "name": "stdout",
          "text": [
            "--2021-12-17 17:15:25--  https://filebox.ece.vt.edu/~jw2yang/faster-rcnn/pretrained-base-models/vgg16_caffe.pth\n",
            "Resolving filebox.ece.vt.edu (filebox.ece.vt.edu)... 128.173.88.43\n",
            "Connecting to filebox.ece.vt.edu (filebox.ece.vt.edu)|128.173.88.43|:443... connected.\n",
            "HTTP request sent, awaiting response... 200 OK\n",
            "Length: 553433685 (528M)\n",
            "Saving to: ‘vgg16_caffe.pth’\n",
            "\n",
            "vgg16_caffe.pth     100%[===================>] 527.79M  9.86MB/s    in 1m 44s  \n",
            "\n",
            "2021-12-17 17:17:10 (5.09 MB/s) - ‘vgg16_caffe.pth’ saved [553433685/553433685]\n",
            "\n"
          ]
        }
      ]
    },
    {
      "cell_type": "code",
      "source": [
        "#!unzip gdrive/My\\ Drive/KFuji_RGB-DS_dataset.zip"
      ],
      "metadata": {
        "colab": {
          "base_uri": "https://localhost:8080/"
        },
        "id": "UvL2PyJiqZip",
        "outputId": "5c1c0de9-c163-42c2-bc63-f58be02334e6"
      },
      "execution_count": null,
      "outputs": [
        {
          "output_type": "stream",
          "name": "stdout",
          "text": [
            "unzip:  cannot find or open gdrive/My Drive/KFuji_RGB-DS_dataset.zip, gdrive/My Drive/KFuji_RGB-DS_dataset.zip.zip or gdrive/My Drive/KFuji_RGB-DS_dataset.zip.ZIP.\n"
          ]
        }
      ]
    },
    {
      "cell_type": "code",
      "source": [
        "!sudo apt update\n",
        "!sudo apt upgrade\n",
        "!sudo apt install python2.7"
      ],
      "metadata": {
        "id": "60YYixbBY2if",
        "outputId": "7bd376ae-ac85-42d6-bbd6-4091b7f34dfb",
        "colab": {
          "base_uri": "https://localhost:8080/"
        }
      },
      "execution_count": 8,
      "outputs": [
        {
          "output_type": "stream",
          "name": "stdout",
          "text": [
            "\u001b[33m\r0% [Working]\u001b[0m\r            \rGet:1 https://cloud.r-project.org/bin/linux/ubuntu bionic-cran40/ InRelease [3,626 B]\n",
            "\u001b[33m\r0% [Connecting to archive.ubuntu.com (91.189.88.142)] [Connecting to security.u\u001b[0m\u001b[33m\r0% [Connecting to archive.ubuntu.com (91.189.88.142)] [Connecting to security.u\u001b[0m\u001b[33m\r0% [1 InRelease gpgv 3,626 B] [Connecting to archive.ubuntu.com (91.189.88.142)\u001b[0m\r                                                                               \rIgn:2 https://developer.download.nvidia.com/compute/cuda/repos/ubuntu1804/x86_64  InRelease\n",
            "\u001b[33m\r0% [1 InRelease gpgv 3,626 B] [Waiting for headers] [Waiting for headers] [Wait\u001b[0m\r                                                                               \rIgn:3 https://developer.download.nvidia.com/compute/machine-learning/repos/ubuntu1804/x86_64  InRelease\n",
            "\u001b[33m\r0% [1 InRelease gpgv 3,626 B] [Waiting for headers] [Waiting for headers] [Wait\u001b[0m\r                                                                               \rGet:4 http://ppa.launchpad.net/c2d4u.team/c2d4u4.0+/ubuntu bionic InRelease [15.9 kB]\n",
            "\u001b[33m\r0% [1 InRelease gpgv 3,626 B] [Waiting for headers] [Waiting for headers] [4 In\u001b[0m\r                                                                               \rGet:5 https://developer.download.nvidia.com/compute/cuda/repos/ubuntu1804/x86_64  Release [696 B]\n",
            "\u001b[33m\r0% [1 InRelease gpgv 3,626 B] [Waiting for headers] [Waiting for headers] [4 In\u001b[0m\u001b[33m\r0% [1 InRelease gpgv 3,626 B] [Waiting for headers] [Waiting for headers] [4 In\u001b[0m\r                                                                               \rHit:6 https://developer.download.nvidia.com/compute/machine-learning/repos/ubuntu1804/x86_64  Release\n",
            "\u001b[33m\r0% [1 InRelease gpgv 3,626 B] [Waiting for headers] [Waiting for headers] [4 In\u001b[0m\r                                                                               \rGet:7 http://security.ubuntu.com/ubuntu bionic-security InRelease [88.7 kB]\n",
            "\u001b[33m\r0% [1 InRelease gpgv 3,626 B] [Waiting for headers] [7 InRelease 14.2 kB/88.7 k\u001b[0m\r                                                                               \rHit:8 http://archive.ubuntu.com/ubuntu bionic InRelease\n",
            "Get:9 https://developer.download.nvidia.com/compute/cuda/repos/ubuntu1804/x86_64  Release.gpg [836 B]\n",
            "Get:10 https://cloud.r-project.org/bin/linux/ubuntu bionic-cran40/ Packages [73.9 kB]\n",
            "Get:11 http://archive.ubuntu.com/ubuntu bionic-updates InRelease [88.7 kB]\n",
            "Hit:13 http://ppa.launchpad.net/cran/libgit2/ubuntu bionic InRelease\n",
            "Get:14 https://developer.download.nvidia.com/compute/cuda/repos/ubuntu1804/x86_64  Packages [833 kB]\n",
            "Get:15 http://ppa.launchpad.net/deadsnakes/ppa/ubuntu bionic InRelease [15.9 kB]\n",
            "Get:16 http://archive.ubuntu.com/ubuntu bionic-backports InRelease [74.6 kB]\n",
            "Hit:17 http://ppa.launchpad.net/graphics-drivers/ppa/ubuntu bionic InRelease\n",
            "Get:18 http://security.ubuntu.com/ubuntu bionic-security/main amd64 Packages [2,461 kB]\n",
            "Get:19 http://archive.ubuntu.com/ubuntu bionic-updates/main amd64 Packages [2,898 kB]\n",
            "Get:20 http://ppa.launchpad.net/c2d4u.team/c2d4u4.0+/ubuntu bionic/main Sources [1,820 kB]\n",
            "Get:21 http://security.ubuntu.com/ubuntu bionic-security/restricted amd64 Packages [691 kB]\n",
            "Get:22 http://security.ubuntu.com/ubuntu bionic-security/universe amd64 Packages [1,452 kB]\n",
            "Get:23 http://archive.ubuntu.com/ubuntu bionic-updates/universe amd64 Packages [2,230 kB]\n",
            "Get:24 http://archive.ubuntu.com/ubuntu bionic-backports/universe amd64 Packages [12.6 kB]\n",
            "Get:25 http://archive.ubuntu.com/ubuntu bionic-backports/main amd64 Packages [11.6 kB]\n",
            "Get:26 http://ppa.launchpad.net/c2d4u.team/c2d4u4.0+/ubuntu bionic/main amd64 Packages [933 kB]\n",
            "Get:27 http://ppa.launchpad.net/deadsnakes/ppa/ubuntu bionic/main amd64 Packages [45.9 kB]\n",
            "Fetched 13.8 MB in 3s (4,514 kB/s)\n",
            "Reading package lists... Done\n",
            "Building dependency tree       \n",
            "Reading state information... Done\n",
            "79 packages can be upgraded. Run 'apt list --upgradable' to see them.\n",
            "Reading package lists... Done\n",
            "Building dependency tree       \n",
            "Reading state information... Done\n",
            "Calculating upgrade... Done\n",
            "The following packages have been kept back:\n",
            "  libcudnn8 libcudnn8-dev libnccl-dev libnccl2\n",
            "The following packages will be upgraded:\n",
            "  base-files binutils binutils-common binutils-x86-64-linux-gnu gnupg2 gzip\n",
            "  libaudit-common libaudit1 libbinutils libc-bin libcublas-dev libcublas10\n",
            "  libcudnn7 libcudnn7-dev libglib2.0-0 libglib2.0-bin libglib2.0-data\n",
            "  libglib2.0-dev libglib2.0-dev-bin libgnutls30 libhogweed4 libldap-2.4-2\n",
            "  libldap-common liblz4-1 libnettle6 libp11-kit0 libpam-modules\n",
            "  libpam-modules-bin libpam-runtime libpam0g libpython3.6 libpython3.6-dev\n",
            "  libpython3.6-minimal libpython3.6-stdlib libsasl2-2 libsasl2-modules-db\n",
            "  libseccomp2 libssl-dev libssl1.1 liburiparser-dev liburiparser1 libzstd1\n",
            "  linux-libc-dev openjdk-11-jdk-headless openjdk-11-jre\n",
            "  openjdk-11-jre-headless openssl python3.6 python3.6-dev python3.6-minimal\n",
            "  r-cran-brio r-cran-cpp11 r-cran-credentials r-cran-devtools r-cran-digest\n",
            "  r-cran-dtplyr r-cran-fs r-cran-gert r-cran-glue r-cran-matrix\n",
            "  r-cran-pkgbuild r-cran-pkgload r-cran-readr r-cran-remotes\n",
            "  r-cran-sessioninfo r-cran-stringi r-cran-testthat r-cran-usethis\n",
            "  r-cran-vroom r-cran-withr r-cran-xml2 tar ubuntu-keyring xserver-common\n",
            "  xserver-xorg-core-hwe-18.04\n",
            "75 upgraded, 0 newly installed, 0 to remove and 4 not upgraded.\n",
            "Need to get 775 MB of archives.\n",
            "After this operation, 70.8 MB of additional disk space will be used.\n",
            "Get:1 https://developer.download.nvidia.com/compute/cuda/repos/ubuntu1804/x86_64  libcublas10 10.2.3.254-1 [43.1 MB]\n",
            "Get:2 https://cloud.r-project.org/bin/linux/ubuntu bionic-cran40/ r-cran-matrix 1.4-0-1.1804.0 [4,261 kB]\n",
            "Get:3 http://ppa.launchpad.net/c2d4u.team/c2d4u4.0+/ubuntu bionic/main amd64 r-cran-brio amd64 1.1.3-1cran1.1804.0 [32.0 kB]\n",
            "Get:4 http://archive.ubuntu.com/ubuntu bionic-updates/main amd64 base-files amd64 10.1ubuntu2.11 [60.4 kB]\n",
            "Get:5 http://ppa.launchpad.net/c2d4u.team/c2d4u4.0+/ubuntu bionic/main amd64 r-cran-cpp11 all 0.4.2-1cran1.1804.0 [216 kB]\n",
            "Get:6 http://archive.ubuntu.com/ubuntu bionic-updates/main amd64 gzip amd64 1.6-5ubuntu1.1 [89.8 kB]\n",
            "Get:7 http://archive.ubuntu.com/ubuntu bionic-updates/main amd64 tar amd64 1.29b-2ubuntu0.2 [234 kB]\n",
            "Get:8 http://archive.ubuntu.com/ubuntu bionic-updates/main amd64 libc-bin amd64 2.27-3ubuntu1.4 [643 kB]\n",
            "Get:9 http://archive.ubuntu.com/ubuntu bionic-updates/main amd64 libaudit-common all 1:2.8.2-1ubuntu1.1 [4,068 B]\n",
            "Get:10 http://archive.ubuntu.com/ubuntu bionic-updates/main amd64 libaudit1 amd64 1:2.8.2-1ubuntu1.1 [38.7 kB]\n",
            "Get:11 http://archive.ubuntu.com/ubuntu bionic-updates/main amd64 libpam0g amd64 1.1.8-3.6ubuntu2.18.04.3 [55.0 kB]\n",
            "Get:12 http://archive.ubuntu.com/ubuntu bionic-updates/main amd64 libpam-modules-bin amd64 1.1.8-3.6ubuntu2.18.04.3 [40.3 kB]\n",
            "Get:13 http://archive.ubuntu.com/ubuntu bionic-updates/main amd64 libpam-modules amd64 1.1.8-3.6ubuntu2.18.04.3 [252 kB]\n",
            "Get:14 https://developer.download.nvidia.com/compute/cuda/repos/ubuntu1804/x86_64  libcublas-dev 10.2.3.254-1 [42.4 MB]\n",
            "Get:15 http://archive.ubuntu.com/ubuntu bionic-updates/main amd64 python3.6-dev amd64 3.6.9-1~18.04ubuntu1.6 [508 kB]\n",
            "Get:16 http://ppa.launchpad.net/c2d4u.team/c2d4u4.0+/ubuntu bionic/main amd64 r-cran-credentials all 1.3.2-1cran1.1804.0 [168 kB]\n",
            "Get:17 http://archive.ubuntu.com/ubuntu bionic-updates/main amd64 libpython3.6-dev amd64 3.6.9-1~18.04ubuntu1.6 [44.9 MB]\n",
            "Get:18 http://ppa.launchpad.net/c2d4u.team/c2d4u4.0+/ubuntu bionic/main amd64 r-cran-fs amd64 1.5.2-1cran1.1804.0 [256 kB]\n",
            "Get:19 http://ppa.launchpad.net/c2d4u.team/c2d4u4.0+/ubuntu bionic/main amd64 r-cran-gert amd64 1.4.3-1cran1.1804.1 [179 kB]\n",
            "Get:20 https://developer.download.nvidia.com/compute/machine-learning/repos/ubuntu1804/x86_64  libcudnn7-dev 7.6.5.32-1+cuda10.2 [165 MB]\n",
            "Get:21 http://ppa.launchpad.net/c2d4u.team/c2d4u4.0+/ubuntu bionic/main amd64 r-cran-glue amd64 1.5.1-1cran1.1804.0 [141 kB]\n",
            "Get:22 http://archive.ubuntu.com/ubuntu bionic-updates/main amd64 libpython3.6 amd64 3.6.9-1~18.04ubuntu1.6 [1,414 kB]\n",
            "Get:23 http://archive.ubuntu.com/ubuntu bionic-updates/main amd64 libssl-dev amd64 1.1.1-1ubuntu2.1~18.04.14 [1,568 kB]\n",
            "Get:24 http://archive.ubuntu.com/ubuntu bionic-updates/main amd64 libssl1.1 amd64 1.1.1-1ubuntu2.1~18.04.14 [1,302 kB]\n",
            "Get:25 http://archive.ubuntu.com/ubuntu bionic-updates/main amd64 python3.6 amd64 3.6.9-1~18.04ubuntu1.6 [203 kB]\n",
            "Get:26 http://archive.ubuntu.com/ubuntu bionic-updates/main amd64 libpython3.6-stdlib amd64 3.6.9-1~18.04ubuntu1.6 [1,712 kB]\n",
            "Get:27 http://ppa.launchpad.net/c2d4u.team/c2d4u4.0+/ubuntu bionic/main amd64 r-cran-withr all 2.4.3-1cran1.1804.0 [209 kB]\n",
            "Get:28 http://archive.ubuntu.com/ubuntu bionic-updates/main amd64 python3.6-minimal amd64 3.6.9-1~18.04ubuntu1.6 [1,609 kB]\n",
            "Get:29 http://archive.ubuntu.com/ubuntu bionic-updates/main amd64 libpython3.6-minimal amd64 3.6.9-1~18.04ubuntu1.6 [534 kB]\n",
            "Get:30 http://archive.ubuntu.com/ubuntu bionic-updates/main amd64 liblz4-1 amd64 0.0~r131-2ubuntu3.1 [48.5 kB]\n",
            "Get:31 http://archive.ubuntu.com/ubuntu bionic-updates/main amd64 libpam-runtime all 1.1.8-3.6ubuntu2.18.04.3 [37.1 kB]\n",
            "Get:32 http://archive.ubuntu.com/ubuntu bionic-updates/main amd64 libzstd1 amd64 1.3.3+dfsg-2ubuntu1.2 [189 kB]\n",
            "Get:33 http://archive.ubuntu.com/ubuntu bionic-updates/main amd64 libnettle6 amd64 3.4.1-0ubuntu0.18.04.1 [111 kB]\n",
            "Get:34 http://archive.ubuntu.com/ubuntu bionic-updates/main amd64 libhogweed4 amd64 3.4.1-0ubuntu0.18.04.1 [140 kB]\n",
            "Get:35 http://archive.ubuntu.com/ubuntu bionic-updates/main amd64 libp11-kit0 amd64 0.23.9-2ubuntu0.1 [187 kB]\n",
            "Get:36 http://archive.ubuntu.com/ubuntu bionic-updates/main amd64 libgnutls30 amd64 3.5.18-1ubuntu1.5 [646 kB]\n",
            "Get:37 http://archive.ubuntu.com/ubuntu bionic-updates/main amd64 libseccomp2 amd64 2.5.1-1ubuntu1~18.04.2 [43.0 kB]\n",
            "Get:38 http://archive.ubuntu.com/ubuntu bionic-updates/main amd64 ubuntu-keyring all 2018.09.18.1~18.04.2 [22.3 kB]\n",
            "Get:39 http://archive.ubuntu.com/ubuntu bionic-updates/main amd64 libglib2.0-dev amd64 2.56.4-0ubuntu0.18.04.9 [1,385 kB]\n",
            "Get:40 http://archive.ubuntu.com/ubuntu bionic-updates/main amd64 libglib2.0-dev-bin amd64 2.56.4-0ubuntu0.18.04.9 [102 kB]\n",
            "Get:41 http://archive.ubuntu.com/ubuntu bionic-updates/main amd64 libglib2.0-data all 2.56.4-0ubuntu0.18.04.9 [4,728 B]\n",
            "Get:42 http://archive.ubuntu.com/ubuntu bionic-updates/main amd64 libglib2.0-bin amd64 2.56.4-0ubuntu0.18.04.9 [68.9 kB]\n",
            "Get:43 http://archive.ubuntu.com/ubuntu bionic-updates/main amd64 libglib2.0-0 amd64 2.56.4-0ubuntu0.18.04.9 [1,169 kB]\n",
            "Get:44 http://archive.ubuntu.com/ubuntu bionic-updates/main amd64 openssl amd64 1.1.1-1ubuntu2.1~18.04.14 [613 kB]\n",
            "Get:45 http://archive.ubuntu.com/ubuntu bionic-updates/main amd64 binutils-x86-64-linux-gnu amd64 2.30-21ubuntu1~18.04.7 [1,839 kB]\n",
            "Get:46 http://archive.ubuntu.com/ubuntu bionic-updates/main amd64 binutils-common amd64 2.30-21ubuntu1~18.04.7 [197 kB]\n",
            "Get:47 http://archive.ubuntu.com/ubuntu bionic-updates/main amd64 binutils amd64 2.30-21ubuntu1~18.04.7 [3,388 B]\n",
            "Get:48 http://archive.ubuntu.com/ubuntu bionic-updates/main amd64 libbinutils amd64 2.30-21ubuntu1~18.04.7 [489 kB]\n",
            "Get:49 http://archive.ubuntu.com/ubuntu bionic-updates/main amd64 libsasl2-modules-db amd64 2.1.27~101-g0780600+dfsg-3ubuntu2.3 [15.0 kB]\n",
            "Get:50 http://archive.ubuntu.com/ubuntu bionic-updates/main amd64 libsasl2-2 amd64 2.1.27~101-g0780600+dfsg-3ubuntu2.3 [49.2 kB]\n",
            "Get:51 http://archive.ubuntu.com/ubuntu bionic-updates/main amd64 libldap-common all 2.4.45+dfsg-1ubuntu1.10 [15.8 kB]\n",
            "Get:52 http://archive.ubuntu.com/ubuntu bionic-updates/main amd64 libldap-2.4-2 amd64 2.4.45+dfsg-1ubuntu1.10 [154 kB]\n",
            "Get:53 http://ppa.launchpad.net/c2d4u.team/c2d4u4.0+/ubuntu bionic/main amd64 r-cran-usethis all 2.1.5-1cran1.1804.0 [745 kB]\n",
            "Get:54 http://archive.ubuntu.com/ubuntu bionic-updates/universe amd64 liburiparser-dev amd64 0.8.4-1+deb9u2build0.18.04.1 [10.1 kB]\n",
            "Get:55 http://archive.ubuntu.com/ubuntu bionic-updates/universe amd64 liburiparser1 amd64 0.8.4-1+deb9u2build0.18.04.1 [38.7 kB]\n",
            "Get:56 http://archive.ubuntu.com/ubuntu bionic-updates/main amd64 linux-libc-dev amd64 4.15.0-163.171 [994 kB]\n",
            "Get:57 http://archive.ubuntu.com/ubuntu bionic-updates/main amd64 openjdk-11-jre amd64 11.0.13+8-0ubuntu1~18.04 [174 kB]\n",
            "Get:58 http://archive.ubuntu.com/ubuntu bionic-updates/main amd64 openjdk-11-jdk-headless amd64 11.0.13+8-0ubuntu1~18.04 [220 MB]\n",
            "Get:59 http://ppa.launchpad.net/c2d4u.team/c2d4u4.0+/ubuntu bionic/main amd64 r-cran-pkgbuild all 1.3.0-1cran1.1804.0 [141 kB]\n",
            "Get:60 http://ppa.launchpad.net/c2d4u.team/c2d4u4.0+/ubuntu bionic/main amd64 r-cran-pkgload all 1.2.4-1cran1.1804.0 [153 kB]\n",
            "Get:61 http://ppa.launchpad.net/c2d4u.team/c2d4u4.0+/ubuntu bionic/main amd64 r-cran-remotes all 2.4.2-1cran1.1804.0 [388 kB]\n",
            "Get:62 http://ppa.launchpad.net/c2d4u.team/c2d4u4.0+/ubuntu bionic/main amd64 r-cran-sessioninfo all 1.2.2-1cran1.1804.0 [184 kB]\n",
            "Get:63 http://ppa.launchpad.net/c2d4u.team/c2d4u4.0+/ubuntu bionic/main amd64 r-cran-digest amd64 0.6.29-1cran1.1804.0 [187 kB]\n",
            "Get:64 http://ppa.launchpad.net/c2d4u.team/c2d4u4.0+/ubuntu bionic/main amd64 r-cran-testthat amd64 3.1.1-1cran1.1804.0 [1,450 kB]\n",
            "Get:65 http://ppa.launchpad.net/c2d4u.team/c2d4u4.0+/ubuntu bionic/main amd64 r-cran-devtools all 2.4.3-1cran1.1804.0 [404 kB]\n",
            "Get:66 https://developer.download.nvidia.com/compute/machine-learning/repos/ubuntu1804/x86_64  libcudnn7 7.6.5.32-1+cuda10.2 [189 MB]\n",
            "Get:67 http://ppa.launchpad.net/c2d4u.team/c2d4u4.0+/ubuntu bionic/main amd64 r-cran-dtplyr all 1.2.0-1cran1.1804.0 [321 kB]\n",
            "Get:68 http://ppa.launchpad.net/c2d4u.team/c2d4u4.0+/ubuntu bionic/main amd64 r-cran-vroom amd64 1.5.7-1cran1.1804.0 [855 kB]\n",
            "Get:69 http://ppa.launchpad.net/c2d4u.team/c2d4u4.0+/ubuntu bionic/main amd64 r-cran-readr amd64 2.1.1-1cran1.1804.0 [810 kB]\n",
            "Get:70 http://ppa.launchpad.net/c2d4u.team/c2d4u4.0+/ubuntu bionic/main amd64 r-cran-stringi amd64 1.7.6-1cran1.1804.0 [804 kB]\n",
            "Get:71 http://ppa.launchpad.net/c2d4u.team/c2d4u4.0+/ubuntu bionic/main amd64 r-cran-xml2 amd64 1.3.3-1cran1.1804.0 [217 kB]\n",
            "Get:72 http://archive.ubuntu.com/ubuntu bionic-updates/main amd64 openjdk-11-jre-headless amd64 11.0.13+8-0ubuntu1~18.04 [37.2 MB]\n",
            "Get:73 http://archive.ubuntu.com/ubuntu bionic-updates/main amd64 xserver-common all 2:1.19.6-1ubuntu4.10 [26.9 kB]\n",
            "Get:74 http://archive.ubuntu.com/ubuntu bionic-updates/main amd64 xserver-xorg-core-hwe-18.04 amd64 2:1.20.8-2ubuntu2.2~18.04.6 [1,335 kB]\n",
            "Get:75 http://archive.ubuntu.com/ubuntu bionic-updates/universe amd64 gnupg2 all 2.2.4-1ubuntu1.4 [5,292 B]\n",
            "Fetched 775 MB in 16s (49.8 MB/s)\n",
            "debconf: unable to initialize frontend: Dialog\n",
            "debconf: (No usable dialog-like program is installed, so the dialog based frontend cannot be used. at /usr/share/perl5/Debconf/FrontEnd/Dialog.pm line 76, <> line 75.)\n",
            "debconf: falling back to frontend: Readline\n",
            "debconf: unable to initialize frontend: Readline\n",
            "debconf: (This frontend requires a controlling tty.)\n",
            "debconf: falling back to frontend: Teletype\n",
            "dpkg-preconfigure: unable to re-open stdin: \n",
            "(Reading database ... 155222 files and directories currently installed.)\n",
            "Preparing to unpack .../base-files_10.1ubuntu2.11_amd64.deb ...\n",
            "Unpacking base-files (10.1ubuntu2.11) over (10.1ubuntu2.10) ...\n",
            "Setting up base-files (10.1ubuntu2.11) ...\n",
            "Installing new version of config file /etc/issue ...\n",
            "Installing new version of config file /etc/issue.net ...\n",
            "Installing new version of config file /etc/lsb-release ...\n",
            "(Reading database ... 155222 files and directories currently installed.)\n",
            "Preparing to unpack .../gzip_1.6-5ubuntu1.1_amd64.deb ...\n",
            "Unpacking gzip (1.6-5ubuntu1.1) over (1.6-5ubuntu1) ...\n",
            "Setting up gzip (1.6-5ubuntu1.1) ...\n",
            "(Reading database ... 155222 files and directories currently installed.)\n",
            "Preparing to unpack .../tar_1.29b-2ubuntu0.2_amd64.deb ...\n",
            "Unpacking tar (1.29b-2ubuntu0.2) over (1.29b-2ubuntu0.1) ...\n",
            "Setting up tar (1.29b-2ubuntu0.2) ...\n",
            "update-alternatives: warning: forcing reinstallation of alternative /usr/sbin/rmt-tar because link group rmt is broken\n",
            "(Reading database ... 155222 files and directories currently installed.)\n",
            "Preparing to unpack .../libc-bin_2.27-3ubuntu1.4_amd64.deb ...\n",
            "Unpacking libc-bin (2.27-3ubuntu1.4) over (2.27-3ubuntu1.3) ...\n",
            "Setting up libc-bin (2.27-3ubuntu1.4) ...\n",
            "/sbin/ldconfig.real: /usr/local/lib/python3.7/dist-packages/ideep4py/lib/libmkldnn.so.0 is not a symbolic link\n",
            "\n",
            "(Reading database ... 155222 files and directories currently installed.)\n",
            "Preparing to unpack .../libaudit-common_1%3a2.8.2-1ubuntu1.1_all.deb ...\n",
            "Unpacking libaudit-common (1:2.8.2-1ubuntu1.1) over (1:2.8.2-1ubuntu1) ...\n",
            "Setting up libaudit-common (1:2.8.2-1ubuntu1.1) ...\n",
            "(Reading database ... 155222 files and directories currently installed.)\n",
            "Preparing to unpack .../libaudit1_1%3a2.8.2-1ubuntu1.1_amd64.deb ...\n",
            "Unpacking libaudit1:amd64 (1:2.8.2-1ubuntu1.1) over (1:2.8.2-1ubuntu1) ...\n",
            "Setting up libaudit1:amd64 (1:2.8.2-1ubuntu1.1) ...\n",
            "(Reading database ... 155222 files and directories currently installed.)\n",
            "Preparing to unpack .../libpam0g_1.1.8-3.6ubuntu2.18.04.3_amd64.deb ...\n",
            "Unpacking libpam0g:amd64 (1.1.8-3.6ubuntu2.18.04.3) over (1.1.8-3.6ubuntu2.18.04.2) ...\n",
            "Setting up libpam0g:amd64 (1.1.8-3.6ubuntu2.18.04.3) ...\n",
            "debconf: unable to initialize frontend: Dialog\n",
            "debconf: (No usable dialog-like program is installed, so the dialog based frontend cannot be used. at /usr/share/perl5/Debconf/FrontEnd/Dialog.pm line 76.)\n",
            "debconf: falling back to frontend: Readline\n",
            "(Reading database ... 155222 files and directories currently installed.)\n",
            "Preparing to unpack .../libpam-modules-bin_1.1.8-3.6ubuntu2.18.04.3_amd64.deb ...\n",
            "Unpacking libpam-modules-bin (1.1.8-3.6ubuntu2.18.04.3) over (1.1.8-3.6ubuntu2.18.04.2) ...\n",
            "Setting up libpam-modules-bin (1.1.8-3.6ubuntu2.18.04.3) ...\n",
            "(Reading database ... 155224 files and directories currently installed.)\n",
            "Preparing to unpack .../libpam-modules_1.1.8-3.6ubuntu2.18.04.3_amd64.deb ...\n",
            "debconf: unable to initialize frontend: Dialog\n",
            "debconf: (No usable dialog-like program is installed, so the dialog based frontend cannot be used. at /usr/share/perl5/Debconf/FrontEnd/Dialog.pm line 76.)\n",
            "debconf: falling back to frontend: Readline\n",
            "Unpacking libpam-modules:amd64 (1.1.8-3.6ubuntu2.18.04.3) over (1.1.8-3.6ubuntu2.18.04.2) ...\n",
            "Setting up libpam-modules:amd64 (1.1.8-3.6ubuntu2.18.04.3) ...\n",
            "(Reading database ... 155228 files and directories currently installed.)\n",
            "Preparing to unpack .../0-python3.6-dev_3.6.9-1~18.04ubuntu1.6_amd64.deb ...\n",
            "Unpacking python3.6-dev (3.6.9-1~18.04ubuntu1.6) over (3.6.9-1~18.04ubuntu1.4) ...\n",
            "Preparing to unpack .../1-libpython3.6-dev_3.6.9-1~18.04ubuntu1.6_amd64.deb ...\n",
            "Unpacking libpython3.6-dev:amd64 (3.6.9-1~18.04ubuntu1.6) over (3.6.9-1~18.04ubuntu1.4) ...\n",
            "Preparing to unpack .../2-libpython3.6_3.6.9-1~18.04ubuntu1.6_amd64.deb ...\n",
            "Unpacking libpython3.6:amd64 (3.6.9-1~18.04ubuntu1.6) over (3.6.9-1~18.04ubuntu1.4) ...\n",
            "Preparing to unpack .../3-libssl-dev_1.1.1-1ubuntu2.1~18.04.14_amd64.deb ...\n",
            "Unpacking libssl-dev:amd64 (1.1.1-1ubuntu2.1~18.04.14) over (1.1.1-1ubuntu2.1~18.04.13) ...\n",
            "Preparing to unpack .../4-libssl1.1_1.1.1-1ubuntu2.1~18.04.14_amd64.deb ...\n",
            "Unpacking libssl1.1:amd64 (1.1.1-1ubuntu2.1~18.04.14) over (1.1.1-1ubuntu2.1~18.04.13) ...\n",
            "Preparing to unpack .../5-python3.6_3.6.9-1~18.04ubuntu1.6_amd64.deb ...\n",
            "Unpacking python3.6 (3.6.9-1~18.04ubuntu1.6) over (3.6.9-1~18.04ubuntu1.4) ...\n",
            "Preparing to unpack .../6-libpython3.6-stdlib_3.6.9-1~18.04ubuntu1.6_amd64.deb ...\n",
            "Unpacking libpython3.6-stdlib:amd64 (3.6.9-1~18.04ubuntu1.6) over (3.6.9-1~18.04ubuntu1.4) ...\n",
            "Preparing to unpack .../7-python3.6-minimal_3.6.9-1~18.04ubuntu1.6_amd64.deb ...\n",
            "Unpacking python3.6-minimal (3.6.9-1~18.04ubuntu1.6) over (3.6.9-1~18.04ubuntu1.4) ...\n",
            "Preparing to unpack .../8-libpython3.6-minimal_3.6.9-1~18.04ubuntu1.6_amd64.deb ...\n",
            "Unpacking libpython3.6-minimal:amd64 (3.6.9-1~18.04ubuntu1.6) over (3.6.9-1~18.04ubuntu1.4) ...\n",
            "Preparing to unpack .../9-liblz4-1_0.0~r131-2ubuntu3.1_amd64.deb ...\n",
            "Unpacking liblz4-1:amd64 (0.0~r131-2ubuntu3.1) over (0.0~r131-2ubuntu3) ...\n",
            "Setting up liblz4-1:amd64 (0.0~r131-2ubuntu3.1) ...\n",
            "(Reading database ... 155228 files and directories currently installed.)\n",
            "Preparing to unpack .../libpam-runtime_1.1.8-3.6ubuntu2.18.04.3_all.deb ...\n",
            "Unpacking libpam-runtime (1.1.8-3.6ubuntu2.18.04.3) over (1.1.8-3.6ubuntu2.18.04.2) ...\n",
            "Setting up libpam-runtime (1.1.8-3.6ubuntu2.18.04.3) ...\n",
            "debconf: unable to initialize frontend: Dialog\n",
            "debconf: (No usable dialog-like program is installed, so the dialog based frontend cannot be used. at /usr/share/perl5/Debconf/FrontEnd/Dialog.pm line 76.)\n",
            "debconf: falling back to frontend: Readline\n",
            "(Reading database ... 155228 files and directories currently installed.)\n",
            "Preparing to unpack .../libzstd1_1.3.3+dfsg-2ubuntu1.2_amd64.deb ...\n",
            "Unpacking libzstd1:amd64 (1.3.3+dfsg-2ubuntu1.2) over (1.3.3+dfsg-2ubuntu1.1) ...\n",
            "Setting up libzstd1:amd64 (1.3.3+dfsg-2ubuntu1.2) ...\n",
            "(Reading database ... 155228 files and directories currently installed.)\n",
            "Preparing to unpack .../libnettle6_3.4.1-0ubuntu0.18.04.1_amd64.deb ...\n",
            "Unpacking libnettle6:amd64 (3.4.1-0ubuntu0.18.04.1) over (3.4-1) ...\n",
            "Setting up libnettle6:amd64 (3.4.1-0ubuntu0.18.04.1) ...\n",
            "(Reading database ... 155228 files and directories currently installed.)\n",
            "Preparing to unpack .../libhogweed4_3.4.1-0ubuntu0.18.04.1_amd64.deb ...\n",
            "Unpacking libhogweed4:amd64 (3.4.1-0ubuntu0.18.04.1) over (3.4-1) ...\n",
            "Setting up libhogweed4:amd64 (3.4.1-0ubuntu0.18.04.1) ...\n",
            "(Reading database ... 155228 files and directories currently installed.)\n",
            "Preparing to unpack .../libp11-kit0_0.23.9-2ubuntu0.1_amd64.deb ...\n",
            "Unpacking libp11-kit0:amd64 (0.23.9-2ubuntu0.1) over (0.23.9-2) ...\n",
            "Setting up libp11-kit0:amd64 (0.23.9-2ubuntu0.1) ...\n",
            "(Reading database ... 155228 files and directories currently installed.)\n",
            "Preparing to unpack .../libgnutls30_3.5.18-1ubuntu1.5_amd64.deb ...\n",
            "Unpacking libgnutls30:amd64 (3.5.18-1ubuntu1.5) over (3.5.18-1ubuntu1.4) ...\n",
            "Setting up libgnutls30:amd64 (3.5.18-1ubuntu1.5) ...\n",
            "(Reading database ... 155228 files and directories currently installed.)\n",
            "Preparing to unpack .../libseccomp2_2.5.1-1ubuntu1~18.04.2_amd64.deb ...\n",
            "Unpacking libseccomp2:amd64 (2.5.1-1ubuntu1~18.04.2) over (2.4.3-1ubuntu3.18.04.3) ...\n",
            "Setting up libseccomp2:amd64 (2.5.1-1ubuntu1~18.04.2) ...\n",
            "(Reading database ... 155228 files and directories currently installed.)\n",
            "Preparing to unpack .../ubuntu-keyring_2018.09.18.1~18.04.2_all.deb ...\n",
            "Unpacking ubuntu-keyring (2018.09.18.1~18.04.2) over (2018.09.18.1~18.04.0) ...\n",
            "Setting up ubuntu-keyring (2018.09.18.1~18.04.2) ...\n",
            "(Reading database ... 155228 files and directories currently installed.)\n",
            "Preparing to unpack .../00-libglib2.0-dev_2.56.4-0ubuntu0.18.04.9_amd64.deb ...\n",
            "Unpacking libglib2.0-dev:amd64 (2.56.4-0ubuntu0.18.04.9) over (2.56.4-0ubuntu0.18.04.8) ...\n",
            "Preparing to unpack .../01-libglib2.0-dev-bin_2.56.4-0ubuntu0.18.04.9_amd64.deb ...\n",
            "Unpacking libglib2.0-dev-bin (2.56.4-0ubuntu0.18.04.9) over (2.56.4-0ubuntu0.18.04.8) ...\n",
            "Preparing to unpack .../02-libglib2.0-data_2.56.4-0ubuntu0.18.04.9_all.deb ...\n",
            "Unpacking libglib2.0-data (2.56.4-0ubuntu0.18.04.9) over (2.56.4-0ubuntu0.18.04.8) ...\n",
            "Preparing to unpack .../03-libglib2.0-bin_2.56.4-0ubuntu0.18.04.9_amd64.deb ...\n",
            "Unpacking libglib2.0-bin (2.56.4-0ubuntu0.18.04.9) over (2.56.4-0ubuntu0.18.04.8) ...\n",
            "Preparing to unpack .../04-libglib2.0-0_2.56.4-0ubuntu0.18.04.9_amd64.deb ...\n",
            "Unpacking libglib2.0-0:amd64 (2.56.4-0ubuntu0.18.04.9) over (2.56.4-0ubuntu0.18.04.8) ...\n",
            "Preparing to unpack .../05-openssl_1.1.1-1ubuntu2.1~18.04.14_amd64.deb ...\n",
            "Unpacking openssl (1.1.1-1ubuntu2.1~18.04.14) over (1.1.1-1ubuntu2.1~18.04.7) ...\n",
            "Preparing to unpack .../06-binutils-x86-64-linux-gnu_2.30-21ubuntu1~18.04.7_amd64.deb ...\n",
            "Unpacking binutils-x86-64-linux-gnu (2.30-21ubuntu1~18.04.7) over (2.30-21ubuntu1~18.04.4) ...\n",
            "Preparing to unpack .../07-binutils-common_2.30-21ubuntu1~18.04.7_amd64.deb ...\n",
            "Unpacking binutils-common:amd64 (2.30-21ubuntu1~18.04.7) over (2.30-21ubuntu1~18.04.4) ...\n",
            "Preparing to unpack .../08-binutils_2.30-21ubuntu1~18.04.7_amd64.deb ...\n",
            "Unpacking binutils (2.30-21ubuntu1~18.04.7) over (2.30-21ubuntu1~18.04.4) ...\n",
            "Preparing to unpack .../09-libbinutils_2.30-21ubuntu1~18.04.7_amd64.deb ...\n",
            "Unpacking libbinutils:amd64 (2.30-21ubuntu1~18.04.7) over (2.30-21ubuntu1~18.04.4) ...\n",
            "Preparing to unpack .../10-libcublas10_10.2.3.254-1_amd64.deb ...\n",
            "Unpacking libcublas10 (10.2.3.254-1) over (10.2.1.243-1) ...\n",
            "Preparing to unpack .../11-libcublas-dev_10.2.3.254-1_amd64.deb ...\n",
            "Unpacking libcublas-dev (10.2.3.254-1) over (10.2.1.243-1) ...\n",
            "Preparing to unpack .../12-libcudnn7-dev_7.6.5.32-1+cuda10.2_amd64.deb ...\n",
            "update-alternatives: removing manually selected alternative - switching libcudnn to auto mode\n",
            "update-alternatives: using /usr/include/x86_64-linux-gnu/cudnn_v8.h to provide /usr/include/cudnn.h (libcudnn) in auto mode\n",
            "Unpacking libcudnn7-dev (7.6.5.32-1+cuda10.2) over (7.6.5.32-1+cuda10.1) ...\n",
            "Preparing to unpack .../13-libcudnn7_7.6.5.32-1+cuda10.2_amd64.deb ...\n",
            "Unpacking libcudnn7 (7.6.5.32-1+cuda10.2) over (7.6.5.32-1+cuda10.1) ...\n",
            "Preparing to unpack .../14-libsasl2-modules-db_2.1.27~101-g0780600+dfsg-3ubuntu2.3_amd64.deb ...\n",
            "Unpacking libsasl2-modules-db:amd64 (2.1.27~101-g0780600+dfsg-3ubuntu2.3) over (2.1.27~101-g0780600+dfsg-3ubuntu2.1) ...\n",
            "Preparing to unpack .../15-libsasl2-2_2.1.27~101-g0780600+dfsg-3ubuntu2.3_amd64.deb ...\n",
            "Unpacking libsasl2-2:amd64 (2.1.27~101-g0780600+dfsg-3ubuntu2.3) over (2.1.27~101-g0780600+dfsg-3ubuntu2.1) ...\n",
            "Preparing to unpack .../16-libldap-common_2.4.45+dfsg-1ubuntu1.10_all.deb ...\n",
            "Unpacking libldap-common (2.4.45+dfsg-1ubuntu1.10) over (2.4.45+dfsg-1ubuntu1.8) ...\n",
            "Preparing to unpack .../17-libldap-2.4-2_2.4.45+dfsg-1ubuntu1.10_amd64.deb ...\n",
            "Unpacking libldap-2.4-2:amd64 (2.4.45+dfsg-1ubuntu1.10) over (2.4.45+dfsg-1ubuntu1.8) ...\n",
            "Preparing to unpack .../18-liburiparser-dev_0.8.4-1+deb9u2build0.18.04.1_amd64.deb ...\n",
            "Unpacking liburiparser-dev (0.8.4-1+deb9u2build0.18.04.1) over (0.8.4-1) ...\n",
            "Preparing to unpack .../19-liburiparser1_0.8.4-1+deb9u2build0.18.04.1_amd64.deb ...\n",
            "Unpacking liburiparser1:amd64 (0.8.4-1+deb9u2build0.18.04.1) over (0.8.4-1) ...\n",
            "Preparing to unpack .../20-linux-libc-dev_4.15.0-163.171_amd64.deb ...\n",
            "Unpacking linux-libc-dev:amd64 (4.15.0-163.171) over (4.15.0-128.131) ...\n",
            "Preparing to unpack .../21-openjdk-11-jre_11.0.13+8-0ubuntu1~18.04_amd64.deb ...\n",
            "Unpacking openjdk-11-jre:amd64 (11.0.13+8-0ubuntu1~18.04) over (11.0.11+9-0ubuntu2~18.04) ...\n",
            "Preparing to unpack .../22-openjdk-11-jdk-headless_11.0.13+8-0ubuntu1~18.04_amd64.deb ...\n",
            "Unpacking openjdk-11-jdk-headless:amd64 (11.0.13+8-0ubuntu1~18.04) over (11.0.11+9-0ubuntu2~18.04) ...\n",
            "Preparing to unpack .../23-openjdk-11-jre-headless_11.0.13+8-0ubuntu1~18.04_amd64.deb ...\n",
            "Unpacking openjdk-11-jre-headless:amd64 (11.0.13+8-0ubuntu1~18.04) over (11.0.11+9-0ubuntu2~18.04) ...\n",
            "Preparing to unpack .../24-r-cran-brio_1.1.3-1cran1.1804.0_amd64.deb ...\n",
            "Unpacking r-cran-brio (1.1.3-1cran1.1804.0) over (1.1.2-1cran1.1804.0) ...\n",
            "Preparing to unpack .../25-r-cran-cpp11_0.4.2-1cran1.1804.0_all.deb ...\n",
            "Unpacking r-cran-cpp11 (0.4.2-1cran1.1804.0) over (0.4.1-1cran1.1804.0) ...\n",
            "Preparing to unpack .../26-r-cran-credentials_1.3.2-1cran1.1804.0_all.deb ...\n",
            "Unpacking r-cran-credentials (1.3.2-1cran1.1804.0) over (1.3.1-1cran1.1804.0) ...\n",
            "Preparing to unpack .../27-r-cran-fs_1.5.2-1cran1.1804.0_amd64.deb ...\n",
            "Unpacking r-cran-fs (1.5.2-1cran1.1804.0) over (1.5.0-1cran1.1804.0) ...\n",
            "Preparing to unpack .../28-r-cran-gert_1.4.3-1cran1.1804.1_amd64.deb ...\n",
            "Unpacking r-cran-gert (1.4.3-1cran1.1804.1) over (1.4.3-1cran1.1804.0) ...\n",
            "Preparing to unpack .../29-r-cran-glue_1.5.1-1cran1.1804.0_amd64.deb ...\n",
            "Unpacking r-cran-glue (1.5.1-1cran1.1804.0) over (1.5.0-1cran1.1804.0) ...\n",
            "Preparing to unpack .../30-r-cran-withr_2.4.3-1cran1.1804.0_all.deb ...\n",
            "Unpacking r-cran-withr (2.4.3-1cran1.1804.0) over (2.4.2-1cran1.1804.0) ...\n",
            "Preparing to unpack .../31-r-cran-usethis_2.1.5-1cran1.1804.0_all.deb ...\n",
            "Unpacking r-cran-usethis (2.1.5-1cran1.1804.0) over (2.1.3-1cran1.1804.0) ...\n",
            "Preparing to unpack .../32-r-cran-pkgbuild_1.3.0-1cran1.1804.0_all.deb ...\n",
            "Unpacking r-cran-pkgbuild (1.3.0-1cran1.1804.0) over (1.2.0-1cran1.1804.0) ...\n",
            "Preparing to unpack .../33-r-cran-pkgload_1.2.4-1cran1.1804.0_all.deb ...\n",
            "Unpacking r-cran-pkgload (1.2.4-1cran1.1804.0) over (1.2.3-1cran1.1804.0) ...\n",
            "Preparing to unpack .../34-r-cran-remotes_2.4.2-1cran1.1804.0_all.deb ...\n",
            "Unpacking r-cran-remotes (2.4.2-1cran1.1804.0) over (2.4.1-1cran1.1804.0) ...\n",
            "Preparing to unpack .../35-r-cran-sessioninfo_1.2.2-1cran1.1804.0_all.deb ...\n",
            "Unpacking r-cran-sessioninfo (1.2.2-1cran1.1804.0) over (1.2.1-1cran1.1804.0) ...\n",
            "Preparing to unpack .../36-r-cran-digest_0.6.29-1cran1.1804.0_amd64.deb ...\n",
            "Unpacking r-cran-digest (0.6.29-1cran1.1804.0) over (0.6.28-1cran1.1804.0) ...\n",
            "Preparing to unpack .../37-r-cran-testthat_3.1.1-1cran1.1804.0_amd64.deb ...\n",
            "Unpacking r-cran-testthat (3.1.1-1cran1.1804.0) over (3.1.0-1cran1.1804.0) ...\n",
            "Preparing to unpack .../38-r-cran-devtools_2.4.3-1cran1.1804.0_all.deb ...\n",
            "Unpacking r-cran-devtools (2.4.3-1cran1.1804.0) over (2.4.2-1cran1.1804.0) ...\n",
            "Preparing to unpack .../39-r-cran-dtplyr_1.2.0-1cran1.1804.0_all.deb ...\n",
            "Unpacking r-cran-dtplyr (1.2.0-1cran1.1804.0) over (1.1.0-1cran1.1804.0) ...\n",
            "Preparing to unpack .../41-r-cran-vroom_1.5.7-1cran1.1804.0_amd64.deb ...\n",
            "Unpacking r-cran-vroom (1.5.7-1cran1.1804.0) over (1.5.6-1cran1.1804.0) ...\n",
            "Preparing to unpack .../42-r-cran-readr_2.1.1-1cran1.1804.0_amd64.deb ...\n",
            "Unpacking r-cran-readr (2.1.1-1cran1.1804.0) over (2.1.0-1cran1.1804.0) ...\n",
            "Preparing to unpack .../43-r-cran-stringi_1.7.6-1cran1.1804.0_amd64.deb ...\n",
            "Unpacking r-cran-stringi (1.7.6-1cran1.1804.0) over (1.7.5-1cran1.1804.0) ...\n",
            "Preparing to unpack .../44-r-cran-xml2_1.3.3-1cran1.1804.0_amd64.deb ...\n",
            "Unpacking r-cran-xml2 (1.3.3-1cran1.1804.0) over (1.3.2-1cran1.1804.0) ...\n",
            "Preparing to unpack .../45-xserver-common_2%3a1.19.6-1ubuntu4.10_all.deb ...\n",
            "Unpacking xserver-common (2:1.19.6-1ubuntu4.10) over (2:1.19.6-1ubuntu4.9) ...\n",
            "Preparing to unpack .../46-xserver-xorg-core-hwe-18.04_2%3a1.20.8-2ubuntu2.2~18.04.6_amd64.deb ...\n",
            "Unpacking xserver-xorg-core-hwe-18.04 (2:1.20.8-2ubuntu2.2~18.04.6) over (2:1.20.8-2ubuntu2.2~18.04.5) ...\n",
            "Preparing to unpack .../47-gnupg2_2.2.4-1ubuntu1.4_all.deb ...\n",
            "Unpacking gnupg2 (2.2.4-1ubuntu1.4) over (2.2.4-1ubuntu1.3) ...\n",
            "Setting up libcudnn7 (7.6.5.32-1+cuda10.2) ...\n",
            "Setting up xserver-common (2:1.19.6-1ubuntu4.10) ...\n",
            "Setting up r-cran-credentials (1.3.2-1cran1.1804.0) ...\n",
            "Setting up r-cran-brio (1.1.3-1cran1.1804.0) ...\n",
            "Setting up r-cran-matrix (1.4-0-1.1804.0) ...\n",
            "Setting up libldap-common (2.4.45+dfsg-1ubuntu1.10) ...\n",
            "Setting up libglib2.0-0:amd64 (2.56.4-0ubuntu0.18.04.9) ...\n",
            "Setting up libsasl2-modules-db:amd64 (2.1.27~101-g0780600+dfsg-3ubuntu2.3) ...\n",
            "Setting up r-cran-withr (2.4.3-1cran1.1804.0) ...\n",
            "Setting up linux-libc-dev:amd64 (4.15.0-163.171) ...\n",
            "Setting up libsasl2-2:amd64 (2.1.27~101-g0780600+dfsg-3ubuntu2.3) ...\n",
            "Setting up libcudnn7-dev (7.6.5.32-1+cuda10.2) ...\n",
            "update-alternatives: using /usr/include/x86_64-linux-gnu/cudnn_v7.h to provide /usr/include/cudnn.h (libcudnn) in manual mode\n",
            "Setting up openjdk-11-jre-headless:amd64 (11.0.13+8-0ubuntu1~18.04) ...\n",
            "Installing new version of config file /etc/java-11-openjdk/security/java.security ...\n",
            "Setting up openjdk-11-jdk-headless:amd64 (11.0.13+8-0ubuntu1~18.04) ...\n",
            "Setting up binutils-common:amd64 (2.30-21ubuntu1~18.04.7) ...\n",
            "Setting up gnupg2 (2.2.4-1ubuntu1.4) ...\n",
            "Setting up libglib2.0-data (2.56.4-0ubuntu0.18.04.9) ...\n",
            "Setting up libcublas10 (10.2.3.254-1) ...\n",
            "Setting up libcublas-dev (10.2.3.254-1) ...\n",
            "Setting up r-cran-sessioninfo (1.2.2-1cran1.1804.0) ...\n",
            "Setting up libldap-2.4-2:amd64 (2.4.45+dfsg-1ubuntu1.10) ...\n",
            "Setting up r-cran-stringi (1.7.6-1cran1.1804.0) ...\n",
            "Setting up r-cran-fs (1.5.2-1cran1.1804.0) ...\n",
            "Setting up libssl1.1:amd64 (1.1.1-1ubuntu2.1~18.04.14) ...\n",
            "debconf: unable to initialize frontend: Dialog\n",
            "debconf: (No usable dialog-like program is installed, so the dialog based frontend cannot be used. at /usr/share/perl5/Debconf/FrontEnd/Dialog.pm line 76.)\n",
            "debconf: falling back to frontend: Readline\n",
            "Setting up r-cran-remotes (2.4.2-1cran1.1804.0) ...\n",
            "Setting up openssl (1.1.1-1ubuntu2.1~18.04.14) ...\n",
            "Setting up r-cran-cpp11 (0.4.2-1cran1.1804.0) ...\n",
            "Setting up r-cran-xml2 (1.3.3-1cran1.1804.0) ...\n",
            "Setting up r-cran-pkgbuild (1.3.0-1cran1.1804.0) ...\n",
            "Setting up libglib2.0-bin (2.56.4-0ubuntu0.18.04.9) ...\n",
            "Setting up r-cran-digest (0.6.29-1cran1.1804.0) ...\n",
            "Setting up xserver-xorg-core-hwe-18.04 (2:1.20.8-2ubuntu2.2~18.04.6) ...\n",
            "Setting up liburiparser1:amd64 (0.8.4-1+deb9u2build0.18.04.1) ...\n",
            "Setting up openjdk-11-jre:amd64 (11.0.13+8-0ubuntu1~18.04) ...\n",
            "Setting up r-cran-glue (1.5.1-1cran1.1804.0) ...\n",
            "Setting up r-cran-gert (1.4.3-1cran1.1804.1) ...\n",
            "Setting up r-cran-pkgload (1.2.4-1cran1.1804.0) ...\n",
            "Setting up libglib2.0-dev-bin (2.56.4-0ubuntu0.18.04.9) ...\n",
            "Setting up libbinutils:amd64 (2.30-21ubuntu1~18.04.7) ...\n",
            "Setting up libssl-dev:amd64 (1.1.1-1ubuntu2.1~18.04.14) ...\n",
            "Setting up libglib2.0-dev:amd64 (2.56.4-0ubuntu0.18.04.9) ...\n",
            "Setting up libpython3.6-minimal:amd64 (3.6.9-1~18.04ubuntu1.6) ...\n",
            "Setting up r-cran-dtplyr (1.2.0-1cran1.1804.0) ...\n",
            "Setting up r-cran-usethis (2.1.5-1cran1.1804.0) ...\n",
            "Setting up liburiparser-dev (0.8.4-1+deb9u2build0.18.04.1) ...\n",
            "Setting up r-cran-testthat (3.1.1-1cran1.1804.0) ...\n",
            "Setting up r-cran-vroom (1.5.7-1cran1.1804.0) ...\n",
            "Setting up binutils-x86-64-linux-gnu (2.30-21ubuntu1~18.04.7) ...\n",
            "Setting up libpython3.6-stdlib:amd64 (3.6.9-1~18.04ubuntu1.6) ...\n",
            "Setting up r-cran-devtools (2.4.3-1cran1.1804.0) ...\n",
            "Setting up python3.6-minimal (3.6.9-1~18.04ubuntu1.6) ...\n",
            "Setting up r-cran-readr (2.1.1-1cran1.1804.0) ...\n",
            "Setting up binutils (2.30-21ubuntu1~18.04.7) ...\n",
            "Setting up libpython3.6:amd64 (3.6.9-1~18.04ubuntu1.6) ...\n",
            "Setting up python3.6 (3.6.9-1~18.04ubuntu1.6) ...\n",
            "Setting up libpython3.6-dev:amd64 (3.6.9-1~18.04ubuntu1.6) ...\n",
            "Setting up python3.6-dev (3.6.9-1~18.04ubuntu1.6) ...\n",
            "Processing triggers for mime-support (3.60ubuntu1) ...\n",
            "Processing triggers for libc-bin (2.27-3ubuntu1.4) ...\n",
            "/sbin/ldconfig.real: /usr/local/lib/python3.7/dist-packages/ideep4py/lib/libmkldnn.so.0 is not a symbolic link\n",
            "\n",
            "Processing triggers for man-db (2.8.3-2ubuntu0.1) ...\n",
            "Processing triggers for hicolor-icon-theme (0.17-2) ...\n",
            "Reading package lists... Done\n",
            "Building dependency tree       \n",
            "Reading state information... Done\n",
            "python2.7 is already the newest version (2.7.17-1~18.04ubuntu1.6).\n",
            "python2.7 set to manually installed.\n",
            "0 upgraded, 0 newly installed, 0 to remove and 4 not upgraded.\n"
          ]
        }
      ]
    },
    {
      "cell_type": "code",
      "source": [
        "!python --version"
      ],
      "metadata": {
        "colab": {
          "base_uri": "https://localhost:8080/"
        },
        "id": "wDM598VurMgm",
        "outputId": "1a0bb9f8-5183-4d64-b2da-e32d88330125"
      },
      "execution_count": 9,
      "outputs": [
        {
          "output_type": "stream",
          "name": "stdout",
          "text": [
            "Python 3.7.12\n"
          ]
        }
      ]
    },
    {
      "cell_type": "code",
      "source": [
        "!pip install PyDrive"
      ],
      "metadata": {
        "id": "NrGYFZ3Qhqwy",
        "outputId": "15a17fc7-85d2-4cbc-ccf3-fb814c3fde24",
        "colab": {
          "base_uri": "https://localhost:8080/"
        }
      },
      "execution_count": 10,
      "outputs": [
        {
          "output_type": "stream",
          "name": "stdout",
          "text": [
            "Requirement already satisfied: PyDrive in /usr/local/lib/python3.7/dist-packages (1.3.1)\n",
            "Requirement already satisfied: google-api-python-client>=1.2 in /usr/local/lib/python3.7/dist-packages (from PyDrive) (1.12.8)\n",
            "Requirement already satisfied: PyYAML>=3.0 in /usr/local/lib/python3.7/dist-packages (from PyDrive) (3.13)\n",
            "Requirement already satisfied: oauth2client>=4.0.0 in /usr/local/lib/python3.7/dist-packages (from PyDrive) (4.1.3)\n",
            "Requirement already satisfied: six<2dev,>=1.13.0 in /usr/local/lib/python3.7/dist-packages (from google-api-python-client>=1.2->PyDrive) (1.15.0)\n",
            "Requirement already satisfied: uritemplate<4dev,>=3.0.0 in /usr/local/lib/python3.7/dist-packages (from google-api-python-client>=1.2->PyDrive) (3.0.1)\n",
            "Requirement already satisfied: google-api-core<2dev,>=1.21.0 in /usr/local/lib/python3.7/dist-packages (from google-api-python-client>=1.2->PyDrive) (1.26.3)\n",
            "Requirement already satisfied: google-auth>=1.16.0 in /usr/local/lib/python3.7/dist-packages (from google-api-python-client>=1.2->PyDrive) (1.35.0)\n",
            "Requirement already satisfied: google-auth-httplib2>=0.0.3 in /usr/local/lib/python3.7/dist-packages (from google-api-python-client>=1.2->PyDrive) (0.0.4)\n",
            "Requirement already satisfied: httplib2<1dev,>=0.15.0 in /usr/local/lib/python3.7/dist-packages (from google-api-python-client>=1.2->PyDrive) (0.17.4)\n",
            "Requirement already satisfied: protobuf>=3.12.0 in /usr/local/lib/python3.7/dist-packages (from google-api-core<2dev,>=1.21.0->google-api-python-client>=1.2->PyDrive) (3.17.3)\n",
            "Requirement already satisfied: googleapis-common-protos<2.0dev,>=1.6.0 in /usr/local/lib/python3.7/dist-packages (from google-api-core<2dev,>=1.21.0->google-api-python-client>=1.2->PyDrive) (1.53.0)\n",
            "Requirement already satisfied: setuptools>=40.3.0 in /usr/local/lib/python3.7/dist-packages (from google-api-core<2dev,>=1.21.0->google-api-python-client>=1.2->PyDrive) (57.4.0)\n",
            "Requirement already satisfied: pytz in /usr/local/lib/python3.7/dist-packages (from google-api-core<2dev,>=1.21.0->google-api-python-client>=1.2->PyDrive) (2018.9)\n",
            "Requirement already satisfied: packaging>=14.3 in /usr/local/lib/python3.7/dist-packages (from google-api-core<2dev,>=1.21.0->google-api-python-client>=1.2->PyDrive) (21.3)\n",
            "Requirement already satisfied: requests<3.0.0dev,>=2.18.0 in /usr/local/lib/python3.7/dist-packages (from google-api-core<2dev,>=1.21.0->google-api-python-client>=1.2->PyDrive) (2.23.0)\n",
            "Requirement already satisfied: rsa<5,>=3.1.4 in /usr/local/lib/python3.7/dist-packages (from google-auth>=1.16.0->google-api-python-client>=1.2->PyDrive) (4.8)\n",
            "Requirement already satisfied: pyasn1-modules>=0.2.1 in /usr/local/lib/python3.7/dist-packages (from google-auth>=1.16.0->google-api-python-client>=1.2->PyDrive) (0.2.8)\n",
            "Requirement already satisfied: cachetools<5.0,>=2.0.0 in /usr/local/lib/python3.7/dist-packages (from google-auth>=1.16.0->google-api-python-client>=1.2->PyDrive) (4.2.4)\n",
            "Requirement already satisfied: pyasn1>=0.1.7 in /usr/local/lib/python3.7/dist-packages (from oauth2client>=4.0.0->PyDrive) (0.4.8)\n",
            "Requirement already satisfied: pyparsing!=3.0.5,>=2.0.2 in /usr/local/lib/python3.7/dist-packages (from packaging>=14.3->google-api-core<2dev,>=1.21.0->google-api-python-client>=1.2->PyDrive) (3.0.6)\n",
            "Requirement already satisfied: certifi>=2017.4.17 in /usr/local/lib/python3.7/dist-packages (from requests<3.0.0dev,>=2.18.0->google-api-core<2dev,>=1.21.0->google-api-python-client>=1.2->PyDrive) (2021.10.8)\n",
            "Requirement already satisfied: urllib3!=1.25.0,!=1.25.1,<1.26,>=1.21.1 in /usr/local/lib/python3.7/dist-packages (from requests<3.0.0dev,>=2.18.0->google-api-core<2dev,>=1.21.0->google-api-python-client>=1.2->PyDrive) (1.24.3)\n",
            "Requirement already satisfied: idna<3,>=2.5 in /usr/local/lib/python3.7/dist-packages (from requests<3.0.0dev,>=2.18.0->google-api-core<2dev,>=1.21.0->google-api-python-client>=1.2->PyDrive) (2.10)\n",
            "Requirement already satisfied: chardet<4,>=3.0.2 in /usr/local/lib/python3.7/dist-packages (from requests<3.0.0dev,>=2.18.0->google-api-core<2dev,>=1.21.0->google-api-python-client>=1.2->PyDrive) (3.0.4)\n"
          ]
        }
      ]
    },
    {
      "cell_type": "code",
      "source": [
        "from pydrive.auth import GoogleAuth\n",
        "from pydrive.drive import GoogleDrive\n",
        "from google.colab import auth\n",
        "from oauth2client.client import GoogleCredentials"
      ],
      "metadata": {
        "id": "mlJHd0Exruqt"
      },
      "execution_count": 11,
      "outputs": []
    },
    {
      "cell_type": "code",
      "source": [
        "auth.authenticate_user()\n",
        "gauth = GoogleAuth()\n",
        "gauth.credentials = GoogleCredentials.get_application_default()\n",
        "drive = GoogleDrive(gauth)"
      ],
      "metadata": {
        "id": "noLDRqS3h8Gu"
      },
      "execution_count": 12,
      "outputs": []
    },
    {
      "cell_type": "code",
      "source": [
        "downloaded = drive.CreateFile({'13TjwDnzduxL8FP29yY41PEhuQmmta9wN':\"your_file_ID\"})\n"
      ],
      "metadata": {
        "id": "WNpHJjhviRW_"
      },
      "execution_count": 17,
      "outputs": []
    }
  ]
}