{
  "nbformat": 4,
  "nbformat_minor": 0,
  "metadata": {
    "colab": {
      "name": "Untitled6.ipynb",
      "provenance": [],
      "authorship_tag": "ABX9TyOZQYfNT0IWg/uVCqv8CqRk",
      "include_colab_link": true
    },
    "kernelspec": {
      "name": "python3",
      "display_name": "Python 3"
    },
    "language_info": {
      "name": "python"
    },
    "accelerator": "GPU"
  },
  "cells": [
    {
      "cell_type": "markdown",
      "metadata": {
        "id": "view-in-github",
        "colab_type": "text"
      },
      "source": [
        "<a href=\"https://colab.research.google.com/github/marziyemahmoudifar/test2/blob/new1/Untitled6.ipynb\" target=\"_parent\"><img src=\"https://colab.research.google.com/assets/colab-badge.svg\" alt=\"Open In Colab\"/></a>"
      ]
    },
    {
      "cell_type": "code",
      "execution_count": 1,
      "metadata": {
        "colab": {
          "base_uri": "https://localhost:8080/"
        },
        "id": "wHu8n_HvoH8h",
        "outputId": "adf7be0f-ad02-4ba5-e28d-c6ca630fe225"
      },
      "outputs": [
        {
          "output_type": "stream",
          "name": "stdout",
          "text": [
            "Cloning into 'RGBD_fruit_detection_faster-rcnn.pytorch'...\n",
            "remote: Enumerating objects: 232, done.\u001b[K\n",
            "remote: Total 232 (delta 0), reused 0 (delta 0), pack-reused 232\u001b[K\n",
            "Receiving objects: 100% (232/232), 497.21 KiB | 1.17 MiB/s, done.\n",
            "Resolving deltas: 100% (75/75), done.\n"
          ]
        }
      ],
      "source": [
        "\n",
        "!git clone https://github.com/GRAP-UdL-AT/RGBD_fruit_detection_faster-rcnn.pytorch.git"
      ]
    },
    {
      "cell_type": "code",
      "source": [
        "#from google.colab import drive\n",
        "#root = '/content/gdrive/'\n",
        "#drive.mount( root )"
      ],
      "metadata": {
        "colab": {
          "base_uri": "https://localhost:8080/"
        },
        "id": "F2hbqAsYXAhv",
        "outputId": "22bf48d7-822d-4e35-f2aa-92bbdfb9bddc"
      },
      "execution_count": null,
      "outputs": [
        {
          "output_type": "stream",
          "name": "stdout",
          "text": [
            "Mounted at /content/gdrive/\n"
          ]
        }
      ]
    },
    {
      "cell_type": "code",
      "source": [
        "%cd RGBD_fruit_detection_faster-rcnn.pytorch \n",
        "!mkdir data"
      ],
      "metadata": {
        "colab": {
          "base_uri": "https://localhost:8080/"
        },
        "id": "HnWzggSWwW6M",
        "outputId": "26595c99-132c-4594-bbdb-913502da62fa"
      },
      "execution_count": 2,
      "outputs": [
        {
          "output_type": "stream",
          "name": "stdout",
          "text": [
            "/content/RGBD_fruit_detection_faster-rcnn.pytorch\n"
          ]
        }
      ]
    },
    {
      "cell_type": "code",
      "source": [
        "\n",
        "%cd data"
      ],
      "metadata": {
        "colab": {
          "base_uri": "https://localhost:8080/"
        },
        "id": "Yup6HaFTxFMt",
        "outputId": "1676f5d6-d609-4507-8bf5-3b7e9d0aee2d"
      },
      "execution_count": 3,
      "outputs": [
        {
          "output_type": "stream",
          "name": "stdout",
          "text": [
            "/content/RGBD_fruit_detection_faster-rcnn.pytorch/data\n"
          ]
        }
      ]
    },
    {
      "cell_type": "code",
      "source": [
        "! wget https://zenodo.org/record/3715991/files/KFuji_RGB-DS_dataset.zip?download=1"
      ],
      "metadata": {
        "id": "vbQfNdvAhSu2",
        "outputId": "d37c782a-bd68-4d87-c533-479bdf6c50db",
        "colab": {
          "base_uri": "https://localhost:8080/"
        }
      },
      "execution_count": 4,
      "outputs": [
        {
          "output_type": "stream",
          "name": "stdout",
          "text": [
            "--2021-12-26 09:08:57--  https://zenodo.org/record/3715991/files/KFuji_RGB-DS_dataset.zip?download=1\n",
            "Resolving zenodo.org (zenodo.org)... 137.138.76.77\n",
            "Connecting to zenodo.org (zenodo.org)|137.138.76.77|:443... connected.\n",
            "HTTP request sent, awaiting response... 200 OK\n",
            "Length: 3113452347 (2.9G) [application/octet-stream]\n",
            "Saving to: ‘KFuji_RGB-DS_dataset.zip?download=1’\n",
            "\n",
            "KFuji_RGB-DS_datase 100%[===================>]   2.90G  10.9MB/s    in 5m 44s  \n",
            "\n",
            "2021-12-26 09:14:43 (8.63 MB/s) - ‘KFuji_RGB-DS_dataset.zip?download=1’ saved [3113452347/3113452347]\n",
            "\n"
          ]
        }
      ]
    },
    {
      "cell_type": "code",
      "source": [
        "! wget https://www.dropbox.com/s/s3brpk0bdq60nyb/vgg16_caffe.pth?dl=0"
      ],
      "metadata": {
        "id": "VJwz2pDBk1P2",
        "outputId": "b950eec3-44ae-4e4a-9574-db2f851ffe7b",
        "colab": {
          "base_uri": "https://localhost:8080/"
        }
      },
      "execution_count": 5,
      "outputs": [
        {
          "output_type": "stream",
          "name": "stdout",
          "text": [
            "--2021-12-26 09:14:45--  https://www.dropbox.com/s/s3brpk0bdq60nyb/vgg16_caffe.pth?dl=0\n",
            "Resolving www.dropbox.com (www.dropbox.com)... 162.125.80.18, 2620:100:6035:18::a27d:5512\n",
            "Connecting to www.dropbox.com (www.dropbox.com)|162.125.80.18|:443... connected.\n",
            "HTTP request sent, awaiting response... 301 Moved Permanently\n",
            "Location: /s/raw/s3brpk0bdq60nyb/vgg16_caffe.pth [following]\n",
            "--2021-12-26 09:14:45--  https://www.dropbox.com/s/raw/s3brpk0bdq60nyb/vgg16_caffe.pth\n",
            "Reusing existing connection to www.dropbox.com:443.\n",
            "HTTP request sent, awaiting response... 302 Found\n",
            "Location: https://ucaf049b72586d6df1f8282605af.dl.dropboxusercontent.com/cd/0/inline/BckGxhpgzRFvkkXEE1J2OZQUTxMraEdVlB4CsG6hUi4geM648QVAqi4jOXmzW9YnCtvCcJ5KoJX2r_AILDt-KzLaIRN4Xe488G9kH8e3i5L6tE3A_k0-8B3U28EkFde9LiARGepaLzKvMbiWo0s5jGDZ/file# [following]\n",
            "--2021-12-26 09:14:46--  https://ucaf049b72586d6df1f8282605af.dl.dropboxusercontent.com/cd/0/inline/BckGxhpgzRFvkkXEE1J2OZQUTxMraEdVlB4CsG6hUi4geM648QVAqi4jOXmzW9YnCtvCcJ5KoJX2r_AILDt-KzLaIRN4Xe488G9kH8e3i5L6tE3A_k0-8B3U28EkFde9LiARGepaLzKvMbiWo0s5jGDZ/file\n",
            "Resolving ucaf049b72586d6df1f8282605af.dl.dropboxusercontent.com (ucaf049b72586d6df1f8282605af.dl.dropboxusercontent.com)... 162.125.81.15, 2620:100:6035:15::a27d:550f\n",
            "Connecting to ucaf049b72586d6df1f8282605af.dl.dropboxusercontent.com (ucaf049b72586d6df1f8282605af.dl.dropboxusercontent.com)|162.125.81.15|:443... connected.\n",
            "HTTP request sent, awaiting response... 302 Found\n",
            "Location: /cd/0/inline2/Bcn8UUxeSmfFfIp72xoh1fEN0Gs78g6v1SXwZk5FzehGTQqoWS8Ja5ZDX4yEwx6ToOMz2dFOK5ryGeh3NjKaEZxu0lIMaMWQXOx9QWSJsfilILi5AXRLMW_MG1voXBsLF2sm3Z2cKkG0Nptbc6alzZWicH31rJm4Y0OMLVnrlCRBRpUSxS27-P-t3Af8qIDV68NxUGWfMjXj941JHFXh0E86t7Vm02J6QnZ42R6L-rFMDhwyqfq5lHUrk5eu-fAS7qTxqdKdYSOoN6ybI_tvrWXk05T8h9mGFUyfu_I_LNhvDUj2700jGyo1SvpFuvRvzgVbE_bkNRbeshgblYjbq_mRtFA1vkHoubnbxlQ79V9lhdiKvdg1st4PcjCODvzlxfo/file [following]\n",
            "--2021-12-26 09:14:47--  https://ucaf049b72586d6df1f8282605af.dl.dropboxusercontent.com/cd/0/inline2/Bcn8UUxeSmfFfIp72xoh1fEN0Gs78g6v1SXwZk5FzehGTQqoWS8Ja5ZDX4yEwx6ToOMz2dFOK5ryGeh3NjKaEZxu0lIMaMWQXOx9QWSJsfilILi5AXRLMW_MG1voXBsLF2sm3Z2cKkG0Nptbc6alzZWicH31rJm4Y0OMLVnrlCRBRpUSxS27-P-t3Af8qIDV68NxUGWfMjXj941JHFXh0E86t7Vm02J6QnZ42R6L-rFMDhwyqfq5lHUrk5eu-fAS7qTxqdKdYSOoN6ybI_tvrWXk05T8h9mGFUyfu_I_LNhvDUj2700jGyo1SvpFuvRvzgVbE_bkNRbeshgblYjbq_mRtFA1vkHoubnbxlQ79V9lhdiKvdg1st4PcjCODvzlxfo/file\n",
            "Reusing existing connection to ucaf049b72586d6df1f8282605af.dl.dropboxusercontent.com:443.\n",
            "HTTP request sent, awaiting response... 200 OK\n",
            "Length: 553433685 (528M) [application/octet-stream]\n",
            "Saving to: ‘vgg16_caffe.pth?dl=0’\n",
            "\n",
            "vgg16_caffe.pth?dl= 100%[===================>] 527.79M  12.0MB/s    in 42s     \n",
            "\n",
            "2021-12-26 09:15:29 (12.6 MB/s) - ‘vgg16_caffe.pth?dl=0’ saved [553433685/553433685]\n",
            "\n"
          ]
        }
      ]
    },
    {
      "cell_type": "code",
      "source": [
        "! wget https://filebox.ece.vt.edu/~jw2yang/faster-rcnn/pretrained-base-models/vgg16_caffe.pth"
      ],
      "metadata": {
        "id": "MfaHYk4OlQlZ",
        "outputId": "36405627-69fe-4187-c384-fd72479cf21f",
        "colab": {
          "base_uri": "https://localhost:8080/"
        }
      },
      "execution_count": 6,
      "outputs": [
        {
          "output_type": "stream",
          "name": "stdout",
          "text": [
            "--2021-12-26 09:15:35--  https://filebox.ece.vt.edu/~jw2yang/faster-rcnn/pretrained-base-models/vgg16_caffe.pth\n",
            "Resolving filebox.ece.vt.edu (filebox.ece.vt.edu)... 128.173.88.43\n",
            "Connecting to filebox.ece.vt.edu (filebox.ece.vt.edu)|128.173.88.43|:443... connected.\n",
            "HTTP request sent, awaiting response... 200 OK\n",
            "Length: 553433685 (528M)\n",
            "Saving to: ‘vgg16_caffe.pth’\n",
            "\n",
            "vgg16_caffe.pth     100%[===================>] 527.79M  10.6MB/s    in 70s     \n",
            "\n",
            "2021-12-26 09:16:46 (7.53 MB/s) - ‘vgg16_caffe.pth’ saved [553433685/553433685]\n",
            "\n"
          ]
        }
      ]
    },
    {
      "cell_type": "code",
      "source": [
        "cd .."
      ],
      "metadata": {
        "id": "HDSRxdLPB8wL",
        "outputId": "64e49c7d-3299-4aac-d75c-13cbfe78c1af",
        "colab": {
          "base_uri": "https://localhost:8080/"
        }
      },
      "execution_count": 9,
      "outputs": [
        {
          "output_type": "stream",
          "name": "stdout",
          "text": [
            "/content/RGBD_fruit_detection_faster-rcnn.pytorch\n"
          ]
        }
      ]
    },
    {
      "cell_type": "code",
      "source": [
        "! pip install -r requirements.txt"
      ],
      "metadata": {
        "id": "KvxIzcg5AtTx",
        "outputId": "0aa687f7-9b20-422a-cba0-6dd98274f3c7",
        "colab": {
          "base_uri": "https://localhost:8080/"
        }
      },
      "execution_count": 10,
      "outputs": [
        {
          "output_type": "stream",
          "name": "stdout",
          "text": [
            "Requirement already satisfied: cython in /usr/local/lib/python3.7/dist-packages (from -r requirements.txt (line 1)) (0.29.24)\n",
            "Requirement already satisfied: cffi in /usr/local/lib/python3.7/dist-packages (from -r requirements.txt (line 2)) (1.15.0)\n",
            "Requirement already satisfied: opencv-python in /usr/local/lib/python3.7/dist-packages (from -r requirements.txt (line 3)) (4.1.2.30)\n",
            "Requirement already satisfied: scipy in /usr/local/lib/python3.7/dist-packages (from -r requirements.txt (line 4)) (1.4.1)\n",
            "Requirement already satisfied: easydict in /usr/local/lib/python3.7/dist-packages (from -r requirements.txt (line 5)) (1.9)\n",
            "Requirement already satisfied: matplotlib in /usr/local/lib/python3.7/dist-packages (from -r requirements.txt (line 6)) (3.2.2)\n",
            "Requirement already satisfied: pyyaml in /usr/local/lib/python3.7/dist-packages (from -r requirements.txt (line 7)) (3.13)\n",
            "Requirement already satisfied: pycparser in /usr/local/lib/python3.7/dist-packages (from cffi->-r requirements.txt (line 2)) (2.21)\n",
            "Requirement already satisfied: numpy>=1.14.5 in /usr/local/lib/python3.7/dist-packages (from opencv-python->-r requirements.txt (line 3)) (1.19.5)\n",
            "Requirement already satisfied: kiwisolver>=1.0.1 in /usr/local/lib/python3.7/dist-packages (from matplotlib->-r requirements.txt (line 6)) (1.3.2)\n",
            "Requirement already satisfied: pyparsing!=2.0.4,!=2.1.2,!=2.1.6,>=2.0.1 in /usr/local/lib/python3.7/dist-packages (from matplotlib->-r requirements.txt (line 6)) (3.0.6)\n",
            "Requirement already satisfied: cycler>=0.10 in /usr/local/lib/python3.7/dist-packages (from matplotlib->-r requirements.txt (line 6)) (0.11.0)\n",
            "Requirement already satisfied: python-dateutil>=2.1 in /usr/local/lib/python3.7/dist-packages (from matplotlib->-r requirements.txt (line 6)) (2.8.2)\n",
            "Requirement already satisfied: six>=1.5 in /usr/local/lib/python3.7/dist-packages (from python-dateutil>=2.1->matplotlib->-r requirements.txt (line 6)) (1.15.0)\n"
          ]
        }
      ]
    },
    {
      "cell_type": "code",
      "source": [
        "%cd lib"
      ],
      "metadata": {
        "id": "EyXYVBCWFUb_",
        "outputId": "5c60faed-ee20-4a89-ec78-d61264f294fc",
        "colab": {
          "base_uri": "https://localhost:8080/"
        }
      },
      "execution_count": 19,
      "outputs": [
        {
          "output_type": "stream",
          "name": "stdout",
          "text": [
            "/content/RGBD_fruit_detection_faster-rcnn.pytorch/lib\n"
          ]
        }
      ]
    },
    {
      "cell_type": "code",
      "source": [
        "srun --gres=gpu:pascal:1,gmem:6G --mem 12G sh make.sh"
      ],
      "metadata": {
        "id": "YRDN8SmsKfR3",
        "outputId": "5b7de18b-f4e7-44d7-8a8c-7b079fd58bd0",
        "colab": {
          "base_uri": "https://localhost:8080/",
          "height": 130
        }
      },
      "execution_count": 21,
      "outputs": [
        {
          "output_type": "error",
          "ename": "SyntaxError",
          "evalue": "ignored",
          "traceback": [
            "\u001b[0;36m  File \u001b[0;32m\"<ipython-input-21-7bd825f08036>\"\u001b[0;36m, line \u001b[0;32m1\u001b[0m\n\u001b[0;31m    srun --gres=gpu:pascal:1,gmem:6G --mem 12G sh make.sh\u001b[0m\n\u001b[0m                   ^\u001b[0m\n\u001b[0;31mSyntaxError\u001b[0m\u001b[0;31m:\u001b[0m invalid syntax\n"
          ]
        }
      ]
    },
    {
      "cell_type": "code",
      "source": [
        "from __future__ import print_function\n",
        "# --------------------------------------------------------\n",
        "# Pytorch multi-GPU Faster R-CNN\n",
        "# Re-written by Jordi Gené-Mola, based on code from Ross Girshick\n",
        "# --------------------------------------------------------\n",
        "\n",
        "import os\n",
        "from os.path import join as pjoin\n",
        "import numpy as np\n",
        "from distutils.core import setup\n",
        "from distutils.extension import Extension\n",
        "from Cython.Distutils import build_ext\n",
        "\n",
        "\n",
        "def find_in_path(name, path):\n",
        "\n",
        "    for dir in path.split(os.pathsep):\n",
        "        binpath = pjoin(dir, name)\n",
        "        if os.path.exists(binpath):\n",
        "            return os.path.abspath(binpath)\n",
        "    return None\n",
        "\n",
        "\n",
        "\n",
        "# Obtain the numpy include directory.  This logic works across numpy versions.\n",
        "try:\n",
        "    numpy_include = np.get_include()\n",
        "except AttributeError:\n",
        "    numpy_include = np.get_numpy_include()\n",
        "\n",
        "\n",
        "def customize_compiler_for_nvcc(self):\n",
        "\n",
        "    # tell the compiler it can processes .cu\n",
        "    self.src_extensions.append('.cu')\n",
        "\n",
        "    # save references to the default compiler_so and _comple methods\n",
        "    default_compiler_so = self.compiler_so\n",
        "    super = self._compile\n",
        "\n",
        "    # now redefine the _compile method. This gets executed for each\n",
        "    # object but distutils doesn't have the ability to change compilers\n",
        "    # based on source extension: we add it.\n",
        "    def _compile(obj, src, ext, cc_args, extra_postargs, pp_opts):\n",
        "        print(extra_postargs)\n",
        "        if os.path.splitext(src)[1] == '.cu':\n",
        "            # use the cuda for .cu files\n",
        "            self.set_executable('compiler_so', CUDA['nvcc'])\n",
        "            # use only a subset of the extra_postargs, which are 1-1 translated\n",
        "            # from the extra_compile_args in the Extension class\n",
        "            postargs = extra_postargs['nvcc']\n",
        "        else:\n",
        "            postargs = extra_postargs['gcc']\n",
        "\n",
        "        super(obj, src, ext, cc_args, postargs, pp_opts)\n",
        "        # reset the default compiler_so, which we might have changed for cuda\n",
        "        self.compiler_so = default_compiler_so\n",
        "\n",
        "    # inject our redefined _compile method into the class\n",
        "    self._compile = _compile\n",
        "\n",
        "\n",
        "# run the customize_compiler\n",
        "class custom_build_ext(build_ext):\n",
        "    def build_extensions(self):\n",
        "        customize_compiler_for_nvcc(self.compiler)\n",
        "        build_ext.build_extensions(self)\n",
        "\n",
        "\n",
        "ext_modules = [\n",
        "    Extension(\n",
        "        \"model.utils.cython_bbox\",\n",
        "        [\"model/utils/bbox.pyx\"],\n",
        "        extra_compile_args={'gcc': [\"-Wno-cpp\", \"-Wno-unused-function\"]},\n",
        "        include_dirs=[numpy_include]\n",
        "    ),\n",
        "    Extension(\n",
        "        'pycocotools._mask',\n",
        "        sources=['pycocotools/maskApi.c', 'pycocotools/_mask.pyx'],\n",
        "        include_dirs=[numpy_include, 'pycocotools'],\n",
        "        extra_compile_args={\n",
        "            'gcc': ['-Wno-cpp', '-Wno-unused-function', '-std=c99']},\n",
        "    ),\n",
        "]\n",
        "\n",
        "setup(\n",
        "    name='faster_rcnn',\n",
        "    ext_modules=ext_modules,\n",
        "    # inject our custom trigger\n",
        "    cmdclass={'build_ext': custom_build_ext},\n",
        ")\n"
      ],
      "metadata": {
        "id": "hSIKD_33FHGH",
        "outputId": "5d467cbd-b5b4-4aa5-accb-6b18b6cc3a47",
        "colab": {
          "base_uri": "https://localhost:8080/",
          "height": 255
        }
      },
      "execution_count": 16,
      "outputs": [
        {
          "output_type": "error",
          "ename": "SystemExit",
          "evalue": "ignored",
          "traceback": [
            "An exception has occurred, use %tb to see the full traceback.\n",
            "\u001b[0;31mSystemExit\u001b[0m\u001b[0;31m:\u001b[0m usage: ipykernel_launcher.py [global_opts] cmd1 [cmd1_opts] [cmd2 [cmd2_opts] ...]\n   or: ipykernel_launcher.py --help [cmd1 cmd2 ...]\n   or: ipykernel_launcher.py --help-commands\n   or: ipykernel_launcher.py cmd --help\n\nerror: option -f not recognized\n"
          ]
        },
        {
          "output_type": "stream",
          "name": "stderr",
          "text": [
            "/usr/local/lib/python3.7/dist-packages/IPython/core/interactiveshell.py:2890: UserWarning: To exit: use 'exit', 'quit', or Ctrl-D.\n",
            "  warn(\"To exit: use 'exit', 'quit', or Ctrl-D.\", stacklevel=1)\n"
          ]
        }
      ]
    },
    {
      "cell_type": "code",
      "source": [
        "import os.path as osp\n",
        "import sys\n",
        "\n",
        "def add_path(path):\n",
        "    if path not in sys.path:\n",
        "        sys.path.insert(0, path)\n",
        "\n",
        "this_dir = osp.dirname(__file__)\n",
        "\n",
        "# Add lib to PYTHONPATH\n",
        "lib_path = osp.join(this_dir, 'lib')\n",
        "add_path(lib_path)\n",
        "\n",
        "coco_path = osp.join(this_dir, 'data', 'coco', 'PythonAPI')\n",
        "add_path(coco_path)\n"
      ],
      "metadata": {
        "id": "D5BEZFvaEXvt",
        "outputId": "0d85ccb7-b626-4fc8-d296-31c6cac8f8cd",
        "colab": {
          "base_uri": "https://localhost:8080/",
          "height": 235
        }
      },
      "execution_count": 15,
      "outputs": [
        {
          "output_type": "error",
          "ename": "NameError",
          "evalue": "ignored",
          "traceback": [
            "\u001b[0;31m---------------------------------------------------------------------------\u001b[0m",
            "\u001b[0;31mNameError\u001b[0m                                 Traceback (most recent call last)",
            "\u001b[0;32m<ipython-input-15-120fbe8555af>\u001b[0m in \u001b[0;36m<module>\u001b[0;34m()\u001b[0m\n\u001b[1;32m      6\u001b[0m         \u001b[0msys\u001b[0m\u001b[0;34m.\u001b[0m\u001b[0mpath\u001b[0m\u001b[0;34m.\u001b[0m\u001b[0minsert\u001b[0m\u001b[0;34m(\u001b[0m\u001b[0;36m0\u001b[0m\u001b[0;34m,\u001b[0m \u001b[0mpath\u001b[0m\u001b[0;34m)\u001b[0m\u001b[0;34m\u001b[0m\u001b[0;34m\u001b[0m\u001b[0m\n\u001b[1;32m      7\u001b[0m \u001b[0;34m\u001b[0m\u001b[0m\n\u001b[0;32m----> 8\u001b[0;31m \u001b[0mthis_dir\u001b[0m \u001b[0;34m=\u001b[0m \u001b[0mosp\u001b[0m\u001b[0;34m.\u001b[0m\u001b[0mdirname\u001b[0m\u001b[0;34m(\u001b[0m\u001b[0m__file__\u001b[0m\u001b[0;34m)\u001b[0m\u001b[0;34m\u001b[0m\u001b[0;34m\u001b[0m\u001b[0m\n\u001b[0m\u001b[1;32m      9\u001b[0m \u001b[0;34m\u001b[0m\u001b[0m\n\u001b[1;32m     10\u001b[0m \u001b[0;31m# Add lib to PYTHONPATH\u001b[0m\u001b[0;34m\u001b[0m\u001b[0;34m\u001b[0m\u001b[0;34m\u001b[0m\u001b[0m\n",
            "\u001b[0;31mNameError\u001b[0m: name '__file__' is not defined"
          ]
        }
      ]
    }
  ]
}