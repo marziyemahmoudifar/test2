{
  "nbformat": 4,
  "nbformat_minor": 0,
  "metadata": {
    "colab": {
      "name": "Untitled6.ipynb",
      "provenance": [],
      "authorship_tag": "ABX9TyM7BX9BhHhYkvZqJlg2MXK3",
      "include_colab_link": true
    },
    "kernelspec": {
      "name": "python3",
      "display_name": "Python 3"
    },
    "language_info": {
      "name": "python"
    },
    "accelerator": "GPU"
  },
  "cells": [
    {
      "cell_type": "markdown",
      "metadata": {
        "id": "view-in-github",
        "colab_type": "text"
      },
      "source": [
        "<a href=\"https://colab.research.google.com/github/marziyemahmoudifar/test2/blob/new1/Untitled6.ipynb\" target=\"_parent\"><img src=\"https://colab.research.google.com/assets/colab-badge.svg\" alt=\"Open In Colab\"/></a>"
      ]
    },
    {
      "cell_type": "code",
      "execution_count": 2,
      "metadata": {
        "colab": {
          "base_uri": "https://localhost:8080/"
        },
        "id": "wHu8n_HvoH8h",
        "outputId": "07bae278-72c7-4db7-c91e-ea8c2bcc04ce"
      },
      "outputs": [
        {
          "output_type": "stream",
          "name": "stdout",
          "text": [
            "Cloning into 'RGBD_fruit_detection_faster-rcnn.pytorch'...\n",
            "remote: Enumerating objects: 232, done.\u001b[K\n",
            "remote: Total 232 (delta 0), reused 0 (delta 0), pack-reused 232\u001b[K\n",
            "Receiving objects: 100% (232/232), 497.21 KiB | 3.85 MiB/s, done.\n",
            "Resolving deltas: 100% (75/75), done.\n"
          ]
        }
      ],
      "source": [
        "\n",
        "!git clone https://github.com/GRAP-UdL-AT/RGBD_fruit_detection_faster-rcnn.pytorch.git"
      ]
    },
    {
      "cell_type": "code",
      "source": [
        "#from google.colab import drive\n",
        "#root = '/content/gdrive/'\n",
        "#drive.mount( root )"
      ],
      "metadata": {
        "colab": {
          "base_uri": "https://localhost:8080/"
        },
        "id": "F2hbqAsYXAhv",
        "outputId": "22bf48d7-822d-4e35-f2aa-92bbdfb9bddc"
      },
      "execution_count": null,
      "outputs": [
        {
          "output_type": "stream",
          "name": "stdout",
          "text": [
            "Mounted at /content/gdrive/\n"
          ]
        }
      ]
    },
    {
      "cell_type": "code",
      "source": [
        "%cd RGBD_fruit_detection_faster-rcnn.pytorch \n",
        "!mkdir data"
      ],
      "metadata": {
        "colab": {
          "base_uri": "https://localhost:8080/"
        },
        "id": "HnWzggSWwW6M",
        "outputId": "ef05e2a4-8063-4324-d658-02752f14e8c9"
      },
      "execution_count": 3,
      "outputs": [
        {
          "output_type": "stream",
          "name": "stdout",
          "text": [
            "/content/RGBD_fruit_detection_faster-rcnn.pytorch\n"
          ]
        }
      ]
    },
    {
      "cell_type": "code",
      "source": [
        "\n",
        "%cd data"
      ],
      "metadata": {
        "colab": {
          "base_uri": "https://localhost:8080/"
        },
        "id": "Yup6HaFTxFMt",
        "outputId": "08d81f36-6b79-41c9-b0eb-c9058497528f"
      },
      "execution_count": 4,
      "outputs": [
        {
          "output_type": "stream",
          "name": "stdout",
          "text": [
            "/content/RGBD_fruit_detection_faster-rcnn.pytorch/data\n"
          ]
        }
      ]
    },
    {
      "cell_type": "code",
      "source": [
        "! wget https://zenodo.org/record/3715991/files/KFuji_RGB-DS_dataset.zip?download=1"
      ],
      "metadata": {
        "id": "vbQfNdvAhSu2",
        "outputId": "c133dc4a-3ef4-4894-c6a2-25f651912b2d",
        "colab": {
          "base_uri": "https://localhost:8080/"
        }
      },
      "execution_count": 5,
      "outputs": [
        {
          "output_type": "stream",
          "name": "stdout",
          "text": [
            "--2021-12-24 08:50:06--  https://zenodo.org/record/3715991/files/KFuji_RGB-DS_dataset.zip?download=1\n",
            "Resolving zenodo.org (zenodo.org)... 137.138.76.77\n",
            "Connecting to zenodo.org (zenodo.org)|137.138.76.77|:443... connected.\n",
            "HTTP request sent, awaiting response... 200 OK\n",
            "Length: 3113452347 (2.9G) [application/octet-stream]\n",
            "Saving to: ‘KFuji_RGB-DS_dataset.zip?download=1’\n",
            "\n",
            "KFuji_RGB-DS_datase 100%[===================>]   2.90G  24.7MB/s    in 2m 6s   \n",
            "\n",
            "2021-12-24 08:52:13 (23.5 MB/s) - ‘KFuji_RGB-DS_dataset.zip?download=1’ saved [3113452347/3113452347]\n",
            "\n"
          ]
        }
      ]
    },
    {
      "cell_type": "code",
      "source": [
        "! wget https://www.dropbox.com/s/s3brpk0bdq60nyb/vgg16_caffe.pth?dl=0"
      ],
      "metadata": {
        "id": "VJwz2pDBk1P2",
        "outputId": "e4517faa-0eec-43e6-872a-acc562466e3c",
        "colab": {
          "base_uri": "https://localhost:8080/"
        }
      },
      "execution_count": 6,
      "outputs": [
        {
          "output_type": "stream",
          "name": "stdout",
          "text": [
            "--2021-12-24 08:52:21--  https://www.dropbox.com/s/s3brpk0bdq60nyb/vgg16_caffe.pth?dl=0\n",
            "Resolving www.dropbox.com (www.dropbox.com)... 162.125.3.18, 2620:100:6018:18::a27d:312\n",
            "Connecting to www.dropbox.com (www.dropbox.com)|162.125.3.18|:443... connected.\n",
            "HTTP request sent, awaiting response... 301 Moved Permanently\n",
            "Location: /s/raw/s3brpk0bdq60nyb/vgg16_caffe.pth [following]\n",
            "--2021-12-24 08:52:22--  https://www.dropbox.com/s/raw/s3brpk0bdq60nyb/vgg16_caffe.pth\n",
            "Reusing existing connection to www.dropbox.com:443.\n",
            "HTTP request sent, awaiting response... 302 Found\n",
            "Location: https://uc3159ffc553ee01533f88e353ff.dl.dropboxusercontent.com/cd/0/inline/BcfR20KQlUSxJE6aMhAUln8KtD_2UTLgqH9djYMTht-B2SgtTLM-mN3wW4lGJ0unPx4hZsrNfCwykBcCfEGRptTaaOTSzcuRRtdczXRLO9CX5KlsWsIkKoDBH_trxdFrYmpU-PWHbssYT6uGnKNcDnZ8/file# [following]\n",
            "--2021-12-24 08:52:22--  https://uc3159ffc553ee01533f88e353ff.dl.dropboxusercontent.com/cd/0/inline/BcfR20KQlUSxJE6aMhAUln8KtD_2UTLgqH9djYMTht-B2SgtTLM-mN3wW4lGJ0unPx4hZsrNfCwykBcCfEGRptTaaOTSzcuRRtdczXRLO9CX5KlsWsIkKoDBH_trxdFrYmpU-PWHbssYT6uGnKNcDnZ8/file\n",
            "Resolving uc3159ffc553ee01533f88e353ff.dl.dropboxusercontent.com (uc3159ffc553ee01533f88e353ff.dl.dropboxusercontent.com)... 162.125.3.15, 2620:100:6018:15::a27d:30f\n",
            "Connecting to uc3159ffc553ee01533f88e353ff.dl.dropboxusercontent.com (uc3159ffc553ee01533f88e353ff.dl.dropboxusercontent.com)|162.125.3.15|:443... connected.\n",
            "HTTP request sent, awaiting response... 302 Found\n",
            "Location: /cd/0/inline2/BceJAAEvyurxfW5HT86c3mkNy-2IJI16ajR2eYrgHNfmWZRLZN6DXQ_Xk1t8cgUxMWAloqaGNhO0jMo8CXTYSWossnhIq-U8lYDS9Q4y5vspdJpFibhk5JaSOznLRriq1FXkrlwBVCjBR0ZX-YPS_cvYFO7d3cbJm56DsdNedKUR7pqodJQcP2DOicL0U4e2GzRoY32st6dkriQ37e7ggoFYl6v9CJa-Q4BvKjyS3-r2CxtvU0091GxEzfWJXWvpMJWLWxC9R94W9ueQ7-ZQaEXTRY-TQr61lOe10kXr51WXJxB2GpLKJPHP0HLVTyolPUWkKST559JvxihjUWZ2zO_MfIhsV3gbXqFf_1luiVbf2t29TbC4WrDD9jYkjaYDnxY/file [following]\n",
            "--2021-12-24 08:52:22--  https://uc3159ffc553ee01533f88e353ff.dl.dropboxusercontent.com/cd/0/inline2/BceJAAEvyurxfW5HT86c3mkNy-2IJI16ajR2eYrgHNfmWZRLZN6DXQ_Xk1t8cgUxMWAloqaGNhO0jMo8CXTYSWossnhIq-U8lYDS9Q4y5vspdJpFibhk5JaSOznLRriq1FXkrlwBVCjBR0ZX-YPS_cvYFO7d3cbJm56DsdNedKUR7pqodJQcP2DOicL0U4e2GzRoY32st6dkriQ37e7ggoFYl6v9CJa-Q4BvKjyS3-r2CxtvU0091GxEzfWJXWvpMJWLWxC9R94W9ueQ7-ZQaEXTRY-TQr61lOe10kXr51WXJxB2GpLKJPHP0HLVTyolPUWkKST559JvxihjUWZ2zO_MfIhsV3gbXqFf_1luiVbf2t29TbC4WrDD9jYkjaYDnxY/file\n",
            "Reusing existing connection to uc3159ffc553ee01533f88e353ff.dl.dropboxusercontent.com:443.\n",
            "HTTP request sent, awaiting response... 200 OK\n",
            "Length: 553433685 (528M) [application/octet-stream]\n",
            "Saving to: ‘vgg16_caffe.pth?dl=0’\n",
            "\n",
            "vgg16_caffe.pth?dl= 100%[===================>] 527.79M  83.7MB/s    in 6.6s    \n",
            "\n",
            "2021-12-24 08:52:30 (79.8 MB/s) - ‘vgg16_caffe.pth?dl=0’ saved [553433685/553433685]\n",
            "\n"
          ]
        }
      ]
    },
    {
      "cell_type": "code",
      "source": [
        "! wget https://filebox.ece.vt.edu/~jw2yang/faster-rcnn/pretrained-base-models/vgg16_caffe.pth"
      ],
      "metadata": {
        "id": "MfaHYk4OlQlZ",
        "outputId": "42dc388c-bf6e-43c2-af92-e1f96dfaad14",
        "colab": {
          "base_uri": "https://localhost:8080/"
        }
      },
      "execution_count": 7,
      "outputs": [
        {
          "output_type": "stream",
          "name": "stdout",
          "text": [
            "--2021-12-24 08:52:43--  https://filebox.ece.vt.edu/~jw2yang/faster-rcnn/pretrained-base-models/vgg16_caffe.pth\n",
            "Resolving filebox.ece.vt.edu (filebox.ece.vt.edu)... 128.173.88.43\n",
            "Connecting to filebox.ece.vt.edu (filebox.ece.vt.edu)|128.173.88.43|:443... connected.\n",
            "HTTP request sent, awaiting response... 200 OK\n",
            "Length: 553433685 (528M)\n",
            "Saving to: ‘vgg16_caffe.pth’\n",
            "\n",
            "vgg16_caffe.pth     100%[===================>] 527.79M  29.3MB/s    in 18s     \n",
            "\n",
            "2021-12-24 08:53:02 (29.0 MB/s) - ‘vgg16_caffe.pth’ saved [553433685/553433685]\n",
            "\n"
          ]
        }
      ]
    },
    {
      "cell_type": "code",
      "source": [
        "import torch"
      ],
      "metadata": {
        "id": "_IT1OFlRspOZ"
      },
      "execution_count": 19,
      "outputs": []
    },
    {
      "cell_type": "code",
      "source": [
        "print(torch.__version__)"
      ],
      "metadata": {
        "id": "TAkPrD-frV66",
        "outputId": "14d0cf5e-2520-4fe3-8908-08764f80ae2f",
        "colab": {
          "base_uri": "https://localhost:8080/"
        }
      },
      "execution_count": 20,
      "outputs": [
        {
          "output_type": "stream",
          "name": "stdout",
          "text": [
            "1.10.0+cu111\n"
          ]
        }
      ]
    }
  ]
}