{
  "nbformat": 4,
  "nbformat_minor": 0,
  "metadata": {
    "colab": {
      "name": "Untitled8.ipynb",
      "provenance": [],
      "authorship_tag": "ABX9TyPI14OdimperACFWIWpOvMn",
      "include_colab_link": true
    },
    "kernelspec": {
      "name": "python3",
      "display_name": "Python 3"
    },
    "language_info": {
      "name": "python"
    },
    "accelerator": "GPU"
  },
  "cells": [
    {
      "cell_type": "markdown",
      "metadata": {
        "id": "view-in-github",
        "colab_type": "text"
      },
      "source": [
        "<a href=\"https://colab.research.google.com/github/marziyemahmoudifar/test2/blob/new1/Untitled8.ipynb\" target=\"_parent\"><img src=\"https://colab.research.google.com/assets/colab-badge.svg\" alt=\"Open In Colab\"/></a>"
      ]
    },
    {
      "cell_type": "code",
      "execution_count": 6,
      "metadata": {
        "colab": {
          "base_uri": "https://localhost:8080/"
        },
        "id": "tsOhukMqePmw",
        "outputId": "9d764aff-dcfd-4c99-a360-2d5ad8220346"
      },
      "outputs": [
        {
          "output_type": "stream",
          "name": "stdout",
          "text": [
            "Cloning into 'RGBD_fruit_detection_faster-rcnn.pytorch'...\n",
            "remote: Enumerating objects: 232, done.\u001b[K\n",
            "Receiving objects:   0% (1/232)   \rReceiving objects:   1% (3/232)   \rReceiving objects:   2% (5/232)   \rReceiving objects:   3% (7/232)   \rReceiving objects:   4% (10/232)   \rReceiving objects:   5% (12/232)   \rReceiving objects:   6% (14/232)   \rReceiving objects:   7% (17/232)   \rReceiving objects:   8% (19/232)   \rReceiving objects:   9% (21/232)   \rReceiving objects:  10% (24/232)   \rReceiving objects:  11% (26/232)   \rReceiving objects:  12% (28/232)   \rReceiving objects:  13% (31/232)   \rReceiving objects:  14% (33/232)   \rReceiving objects:  15% (35/232)   \rReceiving objects:  16% (38/232)   \rReceiving objects:  17% (40/232)   \rReceiving objects:  18% (42/232)   \rReceiving objects:  19% (45/232)   \rReceiving objects:  20% (47/232)   \rReceiving objects:  21% (49/232)   \rReceiving objects:  22% (52/232)   \rReceiving objects:  23% (54/232)   \rReceiving objects:  24% (56/232)   \rReceiving objects:  25% (58/232)   \rReceiving objects:  26% (61/232)   \rReceiving objects:  27% (63/232)   \rReceiving objects:  28% (65/232)   \rReceiving objects:  29% (68/232)   \rReceiving objects:  30% (70/232)   \rReceiving objects:  31% (72/232)   \rReceiving objects:  32% (75/232)   \rReceiving objects:  33% (77/232)   \rReceiving objects:  34% (79/232)   \rReceiving objects:  35% (82/232)   \rReceiving objects:  36% (84/232)   \rReceiving objects:  37% (86/232)   \rReceiving objects:  38% (89/232)   \rReceiving objects:  39% (91/232)   \rReceiving objects:  40% (93/232)   \rReceiving objects:  41% (96/232)   \rReceiving objects:  42% (98/232)   \rReceiving objects:  43% (100/232)   \rReceiving objects:  44% (103/232)   \rReceiving objects:  45% (105/232)   \rReceiving objects:  46% (107/232)   \rReceiving objects:  47% (110/232)   \rReceiving objects:  48% (112/232)   \rReceiving objects:  49% (114/232)   \rReceiving objects:  50% (116/232)   \rReceiving objects:  51% (119/232)   \rReceiving objects:  52% (121/232)   \rReceiving objects:  53% (123/232)   \rReceiving objects:  54% (126/232)   \rReceiving objects:  55% (128/232)   \rReceiving objects:  56% (130/232)   \rReceiving objects:  57% (133/232)   \rReceiving objects:  58% (135/232)   \rReceiving objects:  59% (137/232)   \rReceiving objects:  60% (140/232)   \rReceiving objects:  61% (142/232)   \rReceiving objects:  62% (144/232)   \rReceiving objects:  63% (147/232)   \rReceiving objects:  64% (149/232)   \rReceiving objects:  65% (151/232)   \rReceiving objects:  66% (154/232)   \rReceiving objects:  67% (156/232)   \rReceiving objects:  68% (158/232)   \rReceiving objects:  69% (161/232)   \rReceiving objects:  70% (163/232)   \rReceiving objects:  71% (165/232)   \rReceiving objects:  72% (168/232)   \rReceiving objects:  73% (170/232)   \rReceiving objects:  74% (172/232)   \rReceiving objects:  75% (174/232)   \rReceiving objects:  76% (177/232)   \rReceiving objects:  77% (179/232)   \rReceiving objects:  78% (181/232)   \rReceiving objects:  79% (184/232)   \rReceiving objects:  80% (186/232)   \rReceiving objects:  81% (188/232)   \rReceiving objects:  82% (191/232)   \rReceiving objects:  83% (193/232)   \rremote: Total 232 (delta 0), reused 0 (delta 0), pack-reused 232\u001b[K\n",
            "Receiving objects:  84% (195/232)   \rReceiving objects:  85% (198/232)   \rReceiving objects:  86% (200/232)   \rReceiving objects:  87% (202/232)   \rReceiving objects:  88% (205/232)   \rReceiving objects:  89% (207/232)   \rReceiving objects:  90% (209/232)   \rReceiving objects:  91% (212/232)   \rReceiving objects:  92% (214/232)   \rReceiving objects:  93% (216/232)   \rReceiving objects:  94% (219/232)   \rReceiving objects:  95% (221/232)   \rReceiving objects:  96% (223/232)   \rReceiving objects:  97% (226/232)   \rReceiving objects:  98% (228/232)   \rReceiving objects:  99% (230/232)   \rReceiving objects: 100% (232/232)   \rReceiving objects: 100% (232/232), 497.21 KiB | 7.89 MiB/s, done.\n",
            "Resolving deltas:   0% (0/75)   \rResolving deltas:  10% (8/75)   \rResolving deltas:  16% (12/75)   \rResolving deltas:  17% (13/75)   \rResolving deltas:  22% (17/75)   \rResolving deltas:  24% (18/75)   \rResolving deltas:  49% (37/75)   \rResolving deltas:  50% (38/75)   \rResolving deltas:  53% (40/75)   \rResolving deltas:  56% (42/75)   \rResolving deltas:  57% (43/75)   \rResolving deltas:  64% (48/75)   \rResolving deltas:  65% (49/75)   \rResolving deltas:  66% (50/75)   \rResolving deltas:  69% (52/75)   \rResolving deltas:  74% (56/75)   \rResolving deltas:  76% (57/75)   \rResolving deltas:  78% (59/75)   \rResolving deltas:  80% (60/75)   \rResolving deltas:  85% (64/75)   \rResolving deltas:  86% (65/75)   \rResolving deltas:  88% (66/75)   \rResolving deltas:  89% (67/75)   \rResolving deltas:  92% (69/75)   \rResolving deltas:  93% (70/75)   \rResolving deltas:  94% (71/75)   \rResolving deltas:  96% (72/75)   \rResolving deltas:  98% (74/75)   \rResolving deltas: 100% (75/75)   \rResolving deltas: 100% (75/75), done.\n"
          ]
        }
      ],
      "source": [
        "!git clone https://github.com/GRAP-UdL-AT/RGBD_fruit_detection_faster-rcnn.pytorch.git"
      ]
    },
    {
      "cell_type": "code",
      "source": [
        "%cd RGBD_fruit_detection_faster-rcnn.pytorch "
      ],
      "metadata": {
        "colab": {
          "base_uri": "https://localhost:8080/"
        },
        "id": "d38wDLrCekVI",
        "outputId": "c3941000-ceba-4eca-d6b3-c616db855e38"
      },
      "execution_count": 8,
      "outputs": [
        {
          "output_type": "stream",
          "name": "stdout",
          "text": [
            "/content/RGBD_fruit_detection_faster-rcnn.pytorch/RGBD_fruit_detection_faster-rcnn.pytorch\n"
          ]
        }
      ]
    },
    {
      "cell_type": "code",
      "source": [
        "mkdir data"
      ],
      "metadata": {
        "id": "fejB2_eZfBZq"
      },
      "execution_count": 12,
      "outputs": []
    },
    {
      "cell_type": "code",
      "source": [
        "!find . -name \"*.pyc\" -exec rm -f {} \\;"
      ],
      "metadata": {
        "id": "1D85QB4Tj5eX"
      },
      "execution_count": 18,
      "outputs": []
    },
    {
      "cell_type": "code",
      "source": [
        "from google.colab import drive\n",
        "\n",
        "drive.mount('/content/gdrive')"
      ],
      "metadata": {
        "colab": {
          "base_uri": "https://localhost:8080/"
        },
        "id": "lQeEt_WMtbBK",
        "outputId": "cfa86099-4c79-4a9a-cc8f-55b7a7f397a1"
      },
      "execution_count": 24,
      "outputs": [
        {
          "output_type": "stream",
          "name": "stdout",
          "text": [
            "Mounted at /content/gdrive\n"
          ]
        }
      ]
    },
    {
      "cell_type": "code",
      "source": [
        "!mv \"/content/gdrive/MyDrive/pycocotools\" \"/content/RGBD_fruit_detection_faster-rcnn.pytorch/lib\""
      ],
      "metadata": {
        "id": "vYtOVFs4vYTb"
      },
      "execution_count": 26,
      "outputs": []
    },
    {
      "cell_type": "code",
      "source": [
        "! sudo apt install g++-5"
      ],
      "metadata": {
        "colab": {
          "base_uri": "https://localhost:8080/"
        },
        "id": "jLdjeaIY0zca",
        "outputId": "d7031241-0b05-4256-82c9-199b79243cdb"
      },
      "execution_count": 40,
      "outputs": [
        {
          "output_type": "stream",
          "name": "stdout",
          "text": [
            "Reading package lists... Done\n",
            "Building dependency tree       \n",
            "Reading state information... Done\n",
            "The following additional packages will be installed:\n",
            "  cpp-5 gcc-5 gcc-5-base libasan2 libgcc-5-dev libisl15 libmpx0\n",
            "  libstdc++-5-dev\n",
            "Suggested packages:\n",
            "  gcc-5-locales g++-5-multilib gcc-5-doc libstdc++6-5-dbg gcc-5-multilib\n",
            "  libgcc1-dbg libgomp1-dbg libitm1-dbg libatomic1-dbg libasan2-dbg\n",
            "  liblsan0-dbg libtsan0-dbg libubsan0-dbg libcilkrts5-dbg libmpx0-dbg\n",
            "  libquadmath0-dbg libstdc++-5-doc\n",
            "The following NEW packages will be installed:\n",
            "  cpp-5 g++-5 gcc-5 gcc-5-base libasan2 libgcc-5-dev libisl15 libmpx0\n",
            "  libstdc++-5-dev\n",
            "0 upgraded, 9 newly installed, 0 to remove and 37 not upgraded.\n",
            "Need to get 29.1 MB of archives.\n",
            "After this operation, 100 MB of additional disk space will be used.\n",
            "Get:1 http://archive.ubuntu.com/ubuntu bionic/universe amd64 gcc-5-base amd64 5.5.0-12ubuntu1 [17.1 kB]\n",
            "Get:2 http://archive.ubuntu.com/ubuntu bionic/universe amd64 libisl15 amd64 0.18-4 [548 kB]\n",
            "Get:3 http://archive.ubuntu.com/ubuntu bionic/universe amd64 cpp-5 amd64 5.5.0-12ubuntu1 [7,785 kB]\n",
            "Get:4 http://archive.ubuntu.com/ubuntu bionic/universe amd64 libasan2 amd64 5.5.0-12ubuntu1 [264 kB]\n",
            "Get:5 http://archive.ubuntu.com/ubuntu bionic/universe amd64 libmpx0 amd64 5.5.0-12ubuntu1 [9,888 B]\n",
            "Get:6 http://archive.ubuntu.com/ubuntu bionic/universe amd64 libgcc-5-dev amd64 5.5.0-12ubuntu1 [2,224 kB]\n",
            "Get:7 http://archive.ubuntu.com/ubuntu bionic/universe amd64 gcc-5 amd64 5.5.0-12ubuntu1 [8,357 kB]\n",
            "Get:8 http://archive.ubuntu.com/ubuntu bionic/universe amd64 libstdc++-5-dev amd64 5.5.0-12ubuntu1 [1,415 kB]\n",
            "Get:9 http://archive.ubuntu.com/ubuntu bionic/universe amd64 g++-5 amd64 5.5.0-12ubuntu1 [8,450 kB]\n",
            "Fetched 29.1 MB in 2s (15.7 MB/s)\n",
            "debconf: unable to initialize frontend: Dialog\n",
            "debconf: (No usable dialog-like program is installed, so the dialog based frontend cannot be used. at /usr/share/perl5/Debconf/FrontEnd/Dialog.pm line 76, <> line 9.)\n",
            "debconf: falling back to frontend: Readline\n",
            "debconf: unable to initialize frontend: Readline\n",
            "debconf: (This frontend requires a controlling tty.)\n",
            "debconf: falling back to frontend: Teletype\n",
            "dpkg-preconfigure: unable to re-open stdin: \n",
            "Selecting previously unselected package gcc-5-base:amd64.\n",
            "(Reading database ... 155229 files and directories currently installed.)\n",
            "Preparing to unpack .../0-gcc-5-base_5.5.0-12ubuntu1_amd64.deb ...\n",
            "Unpacking gcc-5-base:amd64 (5.5.0-12ubuntu1) ...\n",
            "Selecting previously unselected package libisl15:amd64.\n",
            "Preparing to unpack .../1-libisl15_0.18-4_amd64.deb ...\n",
            "Unpacking libisl15:amd64 (0.18-4) ...\n",
            "Selecting previously unselected package cpp-5.\n",
            "Preparing to unpack .../2-cpp-5_5.5.0-12ubuntu1_amd64.deb ...\n",
            "Unpacking cpp-5 (5.5.0-12ubuntu1) ...\n",
            "Selecting previously unselected package libasan2:amd64.\n",
            "Preparing to unpack .../3-libasan2_5.5.0-12ubuntu1_amd64.deb ...\n",
            "Unpacking libasan2:amd64 (5.5.0-12ubuntu1) ...\n",
            "Selecting previously unselected package libmpx0:amd64.\n",
            "Preparing to unpack .../4-libmpx0_5.5.0-12ubuntu1_amd64.deb ...\n",
            "Unpacking libmpx0:amd64 (5.5.0-12ubuntu1) ...\n",
            "Selecting previously unselected package libgcc-5-dev:amd64.\n",
            "Preparing to unpack .../5-libgcc-5-dev_5.5.0-12ubuntu1_amd64.deb ...\n",
            "Unpacking libgcc-5-dev:amd64 (5.5.0-12ubuntu1) ...\n",
            "Selecting previously unselected package gcc-5.\n",
            "Preparing to unpack .../6-gcc-5_5.5.0-12ubuntu1_amd64.deb ...\n",
            "Unpacking gcc-5 (5.5.0-12ubuntu1) ...\n",
            "Selecting previously unselected package libstdc++-5-dev:amd64.\n",
            "Preparing to unpack .../7-libstdc++-5-dev_5.5.0-12ubuntu1_amd64.deb ...\n",
            "Unpacking libstdc++-5-dev:amd64 (5.5.0-12ubuntu1) ...\n",
            "Selecting previously unselected package g++-5.\n",
            "Preparing to unpack .../8-g++-5_5.5.0-12ubuntu1_amd64.deb ...\n",
            "Unpacking g++-5 (5.5.0-12ubuntu1) ...\n",
            "Setting up libisl15:amd64 (0.18-4) ...\n",
            "Setting up gcc-5-base:amd64 (5.5.0-12ubuntu1) ...\n",
            "Setting up libmpx0:amd64 (5.5.0-12ubuntu1) ...\n",
            "Setting up libasan2:amd64 (5.5.0-12ubuntu1) ...\n",
            "Setting up libgcc-5-dev:amd64 (5.5.0-12ubuntu1) ...\n",
            "Setting up cpp-5 (5.5.0-12ubuntu1) ...\n",
            "Setting up libstdc++-5-dev:amd64 (5.5.0-12ubuntu1) ...\n",
            "Setting up gcc-5 (5.5.0-12ubuntu1) ...\n",
            "Setting up g++-5 (5.5.0-12ubuntu1) ...\n",
            "Processing triggers for man-db (2.8.3-2ubuntu0.1) ...\n",
            "Processing triggers for libc-bin (2.27-3ubuntu1.3) ...\n",
            "/sbin/ldconfig.real: /usr/local/lib/python3.7/dist-packages/ideep4py/lib/libmkldnn.so.0 is not a symbolic link\n",
            "\n"
          ]
        }
      ]
    },
    {
      "cell_type": "code",
      "source": [
        "! sudo pip install tsne"
      ],
      "metadata": {
        "colab": {
          "base_uri": "https://localhost:8080/"
        },
        "id": "Ne9g4bbg1Jv7",
        "outputId": "e0a95199-6a3b-4438-bd8d-c1f165dbec83"
      },
      "execution_count": 46,
      "outputs": [
        {
          "output_type": "stream",
          "name": "stdout",
          "text": [
            "Requirement already satisfied: tsne in /usr/local/lib/python3.7/dist-packages (0.3.1)\n",
            "Requirement already satisfied: cython>=0.19.1 in /usr/local/lib/python3.7/dist-packages (from tsne) (0.29.26)\n",
            "Requirement already satisfied: numpy>=1.7.1 in /usr/local/lib/python3.7/dist-packages (from tsne) (1.19.5)\n",
            "Requirement already satisfied: scipy>=0.12.0 in /usr/local/lib/python3.7/dist-packages (from tsne) (1.4.1)\n"
          ]
        }
      ]
    },
    {
      "cell_type": "code",
      "source": [
        "! export CC=gcc-5"
      ],
      "metadata": {
        "id": "AG6NVIRF1qY0"
      },
      "execution_count": 48,
      "outputs": []
    },
    {
      "cell_type": "code",
      "source": [
        "! pip install -r requirements.txt"
      ],
      "metadata": {
        "colab": {
          "base_uri": "https://localhost:8080/"
        },
        "id": "waT-X9bU2adG",
        "outputId": "8eff6c89-d0d4-448e-fcbf-d94f24110e72"
      },
      "execution_count": 54,
      "outputs": [
        {
          "output_type": "stream",
          "name": "stdout",
          "text": [
            "Requirement already satisfied: cython in /usr/local/lib/python3.7/dist-packages (from -r requirements.txt (line 1)) (0.29.26)\n",
            "Requirement already satisfied: cffi in /usr/local/lib/python3.7/dist-packages (from -r requirements.txt (line 2)) (1.15.0)\n",
            "Requirement already satisfied: opencv-python in /usr/local/lib/python3.7/dist-packages (from -r requirements.txt (line 3)) (4.1.2.30)\n",
            "Requirement already satisfied: scipy in /usr/local/lib/python3.7/dist-packages (from -r requirements.txt (line 4)) (1.4.1)\n",
            "Requirement already satisfied: easydict in /usr/local/lib/python3.7/dist-packages (from -r requirements.txt (line 5)) (1.9)\n",
            "Requirement already satisfied: matplotlib in /usr/local/lib/python3.7/dist-packages (from -r requirements.txt (line 6)) (3.2.2)\n",
            "Requirement already satisfied: pyyaml in /usr/local/lib/python3.7/dist-packages (from -r requirements.txt (line 7)) (3.13)\n",
            "Requirement already satisfied: pycparser in /usr/local/lib/python3.7/dist-packages (from cffi->-r requirements.txt (line 2)) (2.21)\n",
            "Requirement already satisfied: numpy>=1.14.5 in /usr/local/lib/python3.7/dist-packages (from opencv-python->-r requirements.txt (line 3)) (1.19.5)\n",
            "Requirement already satisfied: cycler>=0.10 in /usr/local/lib/python3.7/dist-packages (from matplotlib->-r requirements.txt (line 6)) (0.11.0)\n",
            "Requirement already satisfied: pyparsing!=2.0.4,!=2.1.2,!=2.1.6,>=2.0.1 in /usr/local/lib/python3.7/dist-packages (from matplotlib->-r requirements.txt (line 6)) (3.0.7)\n",
            "Requirement already satisfied: python-dateutil>=2.1 in /usr/local/lib/python3.7/dist-packages (from matplotlib->-r requirements.txt (line 6)) (2.8.2)\n",
            "Requirement already satisfied: kiwisolver>=1.0.1 in /usr/local/lib/python3.7/dist-packages (from matplotlib->-r requirements.txt (line 6)) (1.3.2)\n",
            "Requirement already satisfied: six>=1.5 in /usr/local/lib/python3.7/dist-packages (from python-dateutil>=2.1->matplotlib->-r requirements.txt (line 6)) (1.15.0)\n"
          ]
        }
      ]
    },
    {
      "cell_type": "code",
      "source": [
        "%cd lib"
      ],
      "metadata": {
        "colab": {
          "base_uri": "https://localhost:8080/"
        },
        "id": "43ysJe1Y33-_",
        "outputId": "c2a4dd86-7890-48b1-dbca-bf993b1dd99d"
      },
      "execution_count": 55,
      "outputs": [
        {
          "output_type": "stream",
          "name": "stdout",
          "text": [
            "/content/RGBD_fruit_detection_faster-rcnn.pytorch/lib\n"
          ]
        }
      ]
    },
    {
      "cell_type": "code",
      "source": [
        "! python setup.py build"
      ],
      "metadata": {
        "colab": {
          "base_uri": "https://localhost:8080/"
        },
        "id": "XRLvgU-VxOAB",
        "outputId": "f8a216bf-cce1-4c68-b999-a396dd6b6e3f"
      },
      "execution_count": 56,
      "outputs": [
        {
          "output_type": "stream",
          "name": "stdout",
          "text": [
            "running build\n",
            "running build_ext\n",
            "skipping 'model/utils/bbox.c' Cython extension (up-to-date)\n",
            "skipping 'pycocotools/_mask.c' Cython extension (up-to-date)\n",
            "building 'model.utils.cython_bbox' extension\n",
            "{'gcc': ['-Wno-cpp', '-Wno-unused-function']}\n",
            "x86_64-linux-gnu-gcc -pthread -Wno-unused-result -Wsign-compare -DNDEBUG -g -fwrapv -O2 -Wall -g -fdebug-prefix-map=/build/python3.7-Y7dWVB/python3.7-3.7.12=. -fstack-protector-strong -Wformat -Werror=format-security -g -fdebug-prefix-map=/build/python3.7-Y7dWVB/python3.7-3.7.12=. -fstack-protector-strong -Wformat -Werror=format-security -Wdate-time -D_FORTIFY_SOURCE=2 -fPIC -I/usr/local/lib/python3.7/dist-packages/numpy/core/include -I/usr/include/python3.7m -c model/utils/bbox.c -o build/temp.linux-x86_64-3.7/model/utils/bbox.o -Wno-cpp -Wno-unused-function\n",
            "\u001b[01m\u001b[Kmodel/utils/bbox.c:\u001b[m\u001b[K In function ‘\u001b[01m\u001b[K__Pyx__ExceptionSave\u001b[m\u001b[K’:\n",
            "\u001b[01m\u001b[Kmodel/utils/bbox.c:6907:21:\u001b[m\u001b[K \u001b[01;31m\u001b[Kerror: \u001b[m\u001b[K‘\u001b[01m\u001b[KPyThreadState {aka struct _ts}\u001b[m\u001b[K’ has no member named ‘\u001b[01m\u001b[Kexc_type\u001b[m\u001b[K’; did you mean ‘\u001b[01m\u001b[Kcurexc_type\u001b[m\u001b[K’?\n",
            "     *type = tstate->\u001b[01;31m\u001b[Kexc_type\u001b[m\u001b[K;\n",
            "                     \u001b[01;31m\u001b[K^~~~~~~~\u001b[m\u001b[K\n",
            "                     \u001b[32m\u001b[Kcurexc_type\u001b[m\u001b[K\n",
            "\u001b[01m\u001b[Kmodel/utils/bbox.c:6908:22:\u001b[m\u001b[K \u001b[01;31m\u001b[Kerror: \u001b[m\u001b[K‘\u001b[01m\u001b[KPyThreadState {aka struct _ts}\u001b[m\u001b[K’ has no member named ‘\u001b[01m\u001b[Kexc_value\u001b[m\u001b[K’; did you mean ‘\u001b[01m\u001b[Kcurexc_value\u001b[m\u001b[K’?\n",
            "     *value = tstate->\u001b[01;31m\u001b[Kexc_value\u001b[m\u001b[K;\n",
            "                      \u001b[01;31m\u001b[K^~~~~~~~~\u001b[m\u001b[K\n",
            "                      \u001b[32m\u001b[Kcurexc_value\u001b[m\u001b[K\n",
            "\u001b[01m\u001b[Kmodel/utils/bbox.c:6909:19:\u001b[m\u001b[K \u001b[01;31m\u001b[Kerror: \u001b[m\u001b[K‘\u001b[01m\u001b[KPyThreadState {aka struct _ts}\u001b[m\u001b[K’ has no member named ‘\u001b[01m\u001b[Kexc_traceback\u001b[m\u001b[K’; did you mean ‘\u001b[01m\u001b[Kcurexc_traceback\u001b[m\u001b[K’?\n",
            "     *tb = tstate->\u001b[01;31m\u001b[Kexc_traceback\u001b[m\u001b[K;\n",
            "                   \u001b[01;31m\u001b[K^~~~~~~~~~~~~\u001b[m\u001b[K\n",
            "                   \u001b[32m\u001b[Kcurexc_traceback\u001b[m\u001b[K\n",
            "\u001b[01m\u001b[Kmodel/utils/bbox.c:\u001b[m\u001b[K In function ‘\u001b[01m\u001b[K__Pyx__ExceptionReset\u001b[m\u001b[K’:\n",
            "\u001b[01m\u001b[Kmodel/utils/bbox.c:6916:24:\u001b[m\u001b[K \u001b[01;31m\u001b[Kerror: \u001b[m\u001b[K‘\u001b[01m\u001b[KPyThreadState {aka struct _ts}\u001b[m\u001b[K’ has no member named ‘\u001b[01m\u001b[Kexc_type\u001b[m\u001b[K’; did you mean ‘\u001b[01m\u001b[Kcurexc_type\u001b[m\u001b[K’?\n",
            "     tmp_type = tstate->\u001b[01;31m\u001b[Kexc_type\u001b[m\u001b[K;\n",
            "                        \u001b[01;31m\u001b[K^~~~~~~~\u001b[m\u001b[K\n",
            "                        \u001b[32m\u001b[Kcurexc_type\u001b[m\u001b[K\n",
            "\u001b[01m\u001b[Kmodel/utils/bbox.c:6917:25:\u001b[m\u001b[K \u001b[01;31m\u001b[Kerror: \u001b[m\u001b[K‘\u001b[01m\u001b[KPyThreadState {aka struct _ts}\u001b[m\u001b[K’ has no member named ‘\u001b[01m\u001b[Kexc_value\u001b[m\u001b[K’; did you mean ‘\u001b[01m\u001b[Kcurexc_value\u001b[m\u001b[K’?\n",
            "     tmp_value = tstate->\u001b[01;31m\u001b[Kexc_value\u001b[m\u001b[K;\n",
            "                         \u001b[01;31m\u001b[K^~~~~~~~~\u001b[m\u001b[K\n",
            "                         \u001b[32m\u001b[Kcurexc_value\u001b[m\u001b[K\n",
            "\u001b[01m\u001b[Kmodel/utils/bbox.c:6918:22:\u001b[m\u001b[K \u001b[01;31m\u001b[Kerror: \u001b[m\u001b[K‘\u001b[01m\u001b[KPyThreadState {aka struct _ts}\u001b[m\u001b[K’ has no member named ‘\u001b[01m\u001b[Kexc_traceback\u001b[m\u001b[K’; did you mean ‘\u001b[01m\u001b[Kcurexc_traceback\u001b[m\u001b[K’?\n",
            "     tmp_tb = tstate->\u001b[01;31m\u001b[Kexc_traceback\u001b[m\u001b[K;\n",
            "                      \u001b[01;31m\u001b[K^~~~~~~~~~~~~\u001b[m\u001b[K\n",
            "                      \u001b[32m\u001b[Kcurexc_traceback\u001b[m\u001b[K\n",
            "\u001b[01m\u001b[Kmodel/utils/bbox.c:6919:13:\u001b[m\u001b[K \u001b[01;31m\u001b[Kerror: \u001b[m\u001b[K‘\u001b[01m\u001b[KPyThreadState {aka struct _ts}\u001b[m\u001b[K’ has no member named ‘\u001b[01m\u001b[Kexc_type\u001b[m\u001b[K’; did you mean ‘\u001b[01m\u001b[Kcurexc_type\u001b[m\u001b[K’?\n",
            "     tstate->\u001b[01;31m\u001b[Kexc_type\u001b[m\u001b[K = type;\n",
            "             \u001b[01;31m\u001b[K^~~~~~~~\u001b[m\u001b[K\n",
            "             \u001b[32m\u001b[Kcurexc_type\u001b[m\u001b[K\n",
            "\u001b[01m\u001b[Kmodel/utils/bbox.c:6920:13:\u001b[m\u001b[K \u001b[01;31m\u001b[Kerror: \u001b[m\u001b[K‘\u001b[01m\u001b[KPyThreadState {aka struct _ts}\u001b[m\u001b[K’ has no member named ‘\u001b[01m\u001b[Kexc_value\u001b[m\u001b[K’; did you mean ‘\u001b[01m\u001b[Kcurexc_value\u001b[m\u001b[K’?\n",
            "     tstate->\u001b[01;31m\u001b[Kexc_value\u001b[m\u001b[K = value;\n",
            "             \u001b[01;31m\u001b[K^~~~~~~~~\u001b[m\u001b[K\n",
            "             \u001b[32m\u001b[Kcurexc_value\u001b[m\u001b[K\n",
            "\u001b[01m\u001b[Kmodel/utils/bbox.c:6921:13:\u001b[m\u001b[K \u001b[01;31m\u001b[Kerror: \u001b[m\u001b[K‘\u001b[01m\u001b[KPyThreadState {aka struct _ts}\u001b[m\u001b[K’ has no member named ‘\u001b[01m\u001b[Kexc_traceback\u001b[m\u001b[K’; did you mean ‘\u001b[01m\u001b[Kcurexc_traceback\u001b[m\u001b[K’?\n",
            "     tstate->\u001b[01;31m\u001b[Kexc_traceback\u001b[m\u001b[K = tb;\n",
            "             \u001b[01;31m\u001b[K^~~~~~~~~~~~~\u001b[m\u001b[K\n",
            "             \u001b[32m\u001b[Kcurexc_traceback\u001b[m\u001b[K\n",
            "\u001b[01m\u001b[Kmodel/utils/bbox.c:\u001b[m\u001b[K In function ‘\u001b[01m\u001b[K__Pyx__GetException\u001b[m\u001b[K’:\n",
            "\u001b[01m\u001b[Kmodel/utils/bbox.c:6976:24:\u001b[m\u001b[K \u001b[01;31m\u001b[Kerror: \u001b[m\u001b[K‘\u001b[01m\u001b[KPyThreadState {aka struct _ts}\u001b[m\u001b[K’ has no member named ‘\u001b[01m\u001b[Kexc_type\u001b[m\u001b[K’; did you mean ‘\u001b[01m\u001b[Kcurexc_type\u001b[m\u001b[K’?\n",
            "     tmp_type = tstate->\u001b[01;31m\u001b[Kexc_type\u001b[m\u001b[K;\n",
            "                        \u001b[01;31m\u001b[K^~~~~~~~\u001b[m\u001b[K\n",
            "                        \u001b[32m\u001b[Kcurexc_type\u001b[m\u001b[K\n",
            "\u001b[01m\u001b[Kmodel/utils/bbox.c:6977:25:\u001b[m\u001b[K \u001b[01;31m\u001b[Kerror: \u001b[m\u001b[K‘\u001b[01m\u001b[KPyThreadState {aka struct _ts}\u001b[m\u001b[K’ has no member named ‘\u001b[01m\u001b[Kexc_value\u001b[m\u001b[K’; did you mean ‘\u001b[01m\u001b[Kcurexc_value\u001b[m\u001b[K’?\n",
            "     tmp_value = tstate->\u001b[01;31m\u001b[Kexc_value\u001b[m\u001b[K;\n",
            "                         \u001b[01;31m\u001b[K^~~~~~~~~\u001b[m\u001b[K\n",
            "                         \u001b[32m\u001b[Kcurexc_value\u001b[m\u001b[K\n",
            "\u001b[01m\u001b[Kmodel/utils/bbox.c:6978:22:\u001b[m\u001b[K \u001b[01;31m\u001b[Kerror: \u001b[m\u001b[K‘\u001b[01m\u001b[KPyThreadState {aka struct _ts}\u001b[m\u001b[K’ has no member named ‘\u001b[01m\u001b[Kexc_traceback\u001b[m\u001b[K’; did you mean ‘\u001b[01m\u001b[Kcurexc_traceback\u001b[m\u001b[K’?\n",
            "     tmp_tb = tstate->\u001b[01;31m\u001b[Kexc_traceback\u001b[m\u001b[K;\n",
            "                      \u001b[01;31m\u001b[K^~~~~~~~~~~~~\u001b[m\u001b[K\n",
            "                      \u001b[32m\u001b[Kcurexc_traceback\u001b[m\u001b[K\n",
            "\u001b[01m\u001b[Kmodel/utils/bbox.c:6979:13:\u001b[m\u001b[K \u001b[01;31m\u001b[Kerror: \u001b[m\u001b[K‘\u001b[01m\u001b[KPyThreadState {aka struct _ts}\u001b[m\u001b[K’ has no member named ‘\u001b[01m\u001b[Kexc_type\u001b[m\u001b[K’; did you mean ‘\u001b[01m\u001b[Kcurexc_type\u001b[m\u001b[K’?\n",
            "     tstate->\u001b[01;31m\u001b[Kexc_type\u001b[m\u001b[K = local_type;\n",
            "             \u001b[01;31m\u001b[K^~~~~~~~\u001b[m\u001b[K\n",
            "             \u001b[32m\u001b[Kcurexc_type\u001b[m\u001b[K\n",
            "\u001b[01m\u001b[Kmodel/utils/bbox.c:6980:13:\u001b[m\u001b[K \u001b[01;31m\u001b[Kerror: \u001b[m\u001b[K‘\u001b[01m\u001b[KPyThreadState {aka struct _ts}\u001b[m\u001b[K’ has no member named ‘\u001b[01m\u001b[Kexc_value\u001b[m\u001b[K’; did you mean ‘\u001b[01m\u001b[Kcurexc_value\u001b[m\u001b[K’?\n",
            "     tstate->\u001b[01;31m\u001b[Kexc_value\u001b[m\u001b[K = local_value;\n",
            "             \u001b[01;31m\u001b[K^~~~~~~~~\u001b[m\u001b[K\n",
            "             \u001b[32m\u001b[Kcurexc_value\u001b[m\u001b[K\n",
            "\u001b[01m\u001b[Kmodel/utils/bbox.c:6981:13:\u001b[m\u001b[K \u001b[01;31m\u001b[Kerror: \u001b[m\u001b[K‘\u001b[01m\u001b[KPyThreadState {aka struct _ts}\u001b[m\u001b[K’ has no member named ‘\u001b[01m\u001b[Kexc_traceback\u001b[m\u001b[K’; did you mean ‘\u001b[01m\u001b[Kcurexc_traceback\u001b[m\u001b[K’?\n",
            "     tstate->\u001b[01;31m\u001b[Kexc_traceback\u001b[m\u001b[K = local_tb;\n",
            "             \u001b[01;31m\u001b[K^~~~~~~~~~~~~\u001b[m\u001b[K\n",
            "             \u001b[32m\u001b[Kcurexc_traceback\u001b[m\u001b[K\n",
            "error: command 'x86_64-linux-gnu-gcc' failed with exit status 1\n"
          ]
        }
      ]
    },
    {
      "cell_type": "code",
      "source": [
        "! sh make.sh"
      ],
      "metadata": {
        "colab": {
          "base_uri": "https://localhost:8080/"
        },
        "id": "Tp7OkaQdxgzS",
        "outputId": "648f3244-c11d-4084-c183-31bf294b36b7"
      },
      "execution_count": 29,
      "outputs": [
        {
          "output_type": "stream",
          "name": "stdout",
          "text": [
            "running build_ext\n",
            "skipping 'model/utils/bbox.c' Cython extension (up-to-date)\n",
            "skipping 'pycocotools/_mask.c' Cython extension (up-to-date)\n",
            "building 'model.utils.cython_bbox' extension\n",
            "{'gcc': ['-Wno-cpp', '-Wno-unused-function']}\n",
            "x86_64-linux-gnu-gcc -pthread -Wno-unused-result -Wsign-compare -DNDEBUG -g -fwrapv -O2 -Wall -g -fdebug-prefix-map=/build/python3.7-Y7dWVB/python3.7-3.7.12=. -fstack-protector-strong -Wformat -Werror=format-security -g -fdebug-prefix-map=/build/python3.7-Y7dWVB/python3.7-3.7.12=. -fstack-protector-strong -Wformat -Werror=format-security -Wdate-time -D_FORTIFY_SOURCE=2 -fPIC -I/usr/local/lib/python3.7/dist-packages/numpy/core/include -I/usr/include/python3.7m -c model/utils/bbox.c -o build/temp.linux-x86_64-3.7/model/utils/bbox.o -Wno-cpp -Wno-unused-function\n",
            "\u001b[01m\u001b[Kmodel/utils/bbox.c:\u001b[m\u001b[K In function ‘\u001b[01m\u001b[K__Pyx__ExceptionSave\u001b[m\u001b[K’:\n",
            "\u001b[01m\u001b[Kmodel/utils/bbox.c:6907:21:\u001b[m\u001b[K \u001b[01;31m\u001b[Kerror: \u001b[m\u001b[K‘\u001b[01m\u001b[KPyThreadState {aka struct _ts}\u001b[m\u001b[K’ has no member named ‘\u001b[01m\u001b[Kexc_type\u001b[m\u001b[K’; did you mean ‘\u001b[01m\u001b[Kcurexc_type\u001b[m\u001b[K’?\n",
            "     *type = tstate->\u001b[01;31m\u001b[Kexc_type\u001b[m\u001b[K;\n",
            "                     \u001b[01;31m\u001b[K^~~~~~~~\u001b[m\u001b[K\n",
            "                     \u001b[32m\u001b[Kcurexc_type\u001b[m\u001b[K\n",
            "\u001b[01m\u001b[Kmodel/utils/bbox.c:6908:22:\u001b[m\u001b[K \u001b[01;31m\u001b[Kerror: \u001b[m\u001b[K‘\u001b[01m\u001b[KPyThreadState {aka struct _ts}\u001b[m\u001b[K’ has no member named ‘\u001b[01m\u001b[Kexc_value\u001b[m\u001b[K’; did you mean ‘\u001b[01m\u001b[Kcurexc_value\u001b[m\u001b[K’?\n",
            "     *value = tstate->\u001b[01;31m\u001b[Kexc_value\u001b[m\u001b[K;\n",
            "                      \u001b[01;31m\u001b[K^~~~~~~~~\u001b[m\u001b[K\n",
            "                      \u001b[32m\u001b[Kcurexc_value\u001b[m\u001b[K\n",
            "\u001b[01m\u001b[Kmodel/utils/bbox.c:6909:19:\u001b[m\u001b[K \u001b[01;31m\u001b[Kerror: \u001b[m\u001b[K‘\u001b[01m\u001b[KPyThreadState {aka struct _ts}\u001b[m\u001b[K’ has no member named ‘\u001b[01m\u001b[Kexc_traceback\u001b[m\u001b[K’; did you mean ‘\u001b[01m\u001b[Kcurexc_traceback\u001b[m\u001b[K’?\n",
            "     *tb = tstate->\u001b[01;31m\u001b[Kexc_traceback\u001b[m\u001b[K;\n",
            "                   \u001b[01;31m\u001b[K^~~~~~~~~~~~~\u001b[m\u001b[K\n",
            "                   \u001b[32m\u001b[Kcurexc_traceback\u001b[m\u001b[K\n",
            "\u001b[01m\u001b[Kmodel/utils/bbox.c:\u001b[m\u001b[K In function ‘\u001b[01m\u001b[K__Pyx__ExceptionReset\u001b[m\u001b[K’:\n",
            "\u001b[01m\u001b[Kmodel/utils/bbox.c:6916:24:\u001b[m\u001b[K \u001b[01;31m\u001b[Kerror: \u001b[m\u001b[K‘\u001b[01m\u001b[KPyThreadState {aka struct _ts}\u001b[m\u001b[K’ has no member named ‘\u001b[01m\u001b[Kexc_type\u001b[m\u001b[K’; did you mean ‘\u001b[01m\u001b[Kcurexc_type\u001b[m\u001b[K’?\n",
            "     tmp_type = tstate->\u001b[01;31m\u001b[Kexc_type\u001b[m\u001b[K;\n",
            "                        \u001b[01;31m\u001b[K^~~~~~~~\u001b[m\u001b[K\n",
            "                        \u001b[32m\u001b[Kcurexc_type\u001b[m\u001b[K\n",
            "\u001b[01m\u001b[Kmodel/utils/bbox.c:6917:25:\u001b[m\u001b[K \u001b[01;31m\u001b[Kerror: \u001b[m\u001b[K‘\u001b[01m\u001b[KPyThreadState {aka struct _ts}\u001b[m\u001b[K’ has no member named ‘\u001b[01m\u001b[Kexc_value\u001b[m\u001b[K’; did you mean ‘\u001b[01m\u001b[Kcurexc_value\u001b[m\u001b[K’?\n",
            "     tmp_value = tstate->\u001b[01;31m\u001b[Kexc_value\u001b[m\u001b[K;\n",
            "                         \u001b[01;31m\u001b[K^~~~~~~~~\u001b[m\u001b[K\n",
            "                         \u001b[32m\u001b[Kcurexc_value\u001b[m\u001b[K\n",
            "\u001b[01m\u001b[Kmodel/utils/bbox.c:6918:22:\u001b[m\u001b[K \u001b[01;31m\u001b[Kerror: \u001b[m\u001b[K‘\u001b[01m\u001b[KPyThreadState {aka struct _ts}\u001b[m\u001b[K’ has no member named ‘\u001b[01m\u001b[Kexc_traceback\u001b[m\u001b[K’; did you mean ‘\u001b[01m\u001b[Kcurexc_traceback\u001b[m\u001b[K’?\n",
            "     tmp_tb = tstate->\u001b[01;31m\u001b[Kexc_traceback\u001b[m\u001b[K;\n",
            "                      \u001b[01;31m\u001b[K^~~~~~~~~~~~~\u001b[m\u001b[K\n",
            "                      \u001b[32m\u001b[Kcurexc_traceback\u001b[m\u001b[K\n",
            "\u001b[01m\u001b[Kmodel/utils/bbox.c:6919:13:\u001b[m\u001b[K \u001b[01;31m\u001b[Kerror: \u001b[m\u001b[K‘\u001b[01m\u001b[KPyThreadState {aka struct _ts}\u001b[m\u001b[K’ has no member named ‘\u001b[01m\u001b[Kexc_type\u001b[m\u001b[K’; did you mean ‘\u001b[01m\u001b[Kcurexc_type\u001b[m\u001b[K’?\n",
            "     tstate->\u001b[01;31m\u001b[Kexc_type\u001b[m\u001b[K = type;\n",
            "             \u001b[01;31m\u001b[K^~~~~~~~\u001b[m\u001b[K\n",
            "             \u001b[32m\u001b[Kcurexc_type\u001b[m\u001b[K\n",
            "\u001b[01m\u001b[Kmodel/utils/bbox.c:6920:13:\u001b[m\u001b[K \u001b[01;31m\u001b[Kerror: \u001b[m\u001b[K‘\u001b[01m\u001b[KPyThreadState {aka struct _ts}\u001b[m\u001b[K’ has no member named ‘\u001b[01m\u001b[Kexc_value\u001b[m\u001b[K’; did you mean ‘\u001b[01m\u001b[Kcurexc_value\u001b[m\u001b[K’?\n",
            "     tstate->\u001b[01;31m\u001b[Kexc_value\u001b[m\u001b[K = value;\n",
            "             \u001b[01;31m\u001b[K^~~~~~~~~\u001b[m\u001b[K\n",
            "             \u001b[32m\u001b[Kcurexc_value\u001b[m\u001b[K\n",
            "\u001b[01m\u001b[Kmodel/utils/bbox.c:6921:13:\u001b[m\u001b[K \u001b[01;31m\u001b[Kerror: \u001b[m\u001b[K‘\u001b[01m\u001b[KPyThreadState {aka struct _ts}\u001b[m\u001b[K’ has no member named ‘\u001b[01m\u001b[Kexc_traceback\u001b[m\u001b[K’; did you mean ‘\u001b[01m\u001b[Kcurexc_traceback\u001b[m\u001b[K’?\n",
            "     tstate->\u001b[01;31m\u001b[Kexc_traceback\u001b[m\u001b[K = tb;\n",
            "             \u001b[01;31m\u001b[K^~~~~~~~~~~~~\u001b[m\u001b[K\n",
            "             \u001b[32m\u001b[Kcurexc_traceback\u001b[m\u001b[K\n",
            "\u001b[01m\u001b[Kmodel/utils/bbox.c:\u001b[m\u001b[K In function ‘\u001b[01m\u001b[K__Pyx__GetException\u001b[m\u001b[K’:\n",
            "\u001b[01m\u001b[Kmodel/utils/bbox.c:6976:24:\u001b[m\u001b[K \u001b[01;31m\u001b[Kerror: \u001b[m\u001b[K‘\u001b[01m\u001b[KPyThreadState {aka struct _ts}\u001b[m\u001b[K’ has no member named ‘\u001b[01m\u001b[Kexc_type\u001b[m\u001b[K’; did you mean ‘\u001b[01m\u001b[Kcurexc_type\u001b[m\u001b[K’?\n",
            "     tmp_type = tstate->\u001b[01;31m\u001b[Kexc_type\u001b[m\u001b[K;\n",
            "                        \u001b[01;31m\u001b[K^~~~~~~~\u001b[m\u001b[K\n",
            "                        \u001b[32m\u001b[Kcurexc_type\u001b[m\u001b[K\n",
            "\u001b[01m\u001b[Kmodel/utils/bbox.c:6977:25:\u001b[m\u001b[K \u001b[01;31m\u001b[Kerror: \u001b[m\u001b[K‘\u001b[01m\u001b[KPyThreadState {aka struct _ts}\u001b[m\u001b[K’ has no member named ‘\u001b[01m\u001b[Kexc_value\u001b[m\u001b[K’; did you mean ‘\u001b[01m\u001b[Kcurexc_value\u001b[m\u001b[K’?\n",
            "     tmp_value = tstate->\u001b[01;31m\u001b[Kexc_value\u001b[m\u001b[K;\n",
            "                         \u001b[01;31m\u001b[K^~~~~~~~~\u001b[m\u001b[K\n",
            "                         \u001b[32m\u001b[Kcurexc_value\u001b[m\u001b[K\n",
            "\u001b[01m\u001b[Kmodel/utils/bbox.c:6978:22:\u001b[m\u001b[K \u001b[01;31m\u001b[Kerror: \u001b[m\u001b[K‘\u001b[01m\u001b[KPyThreadState {aka struct _ts}\u001b[m\u001b[K’ has no member named ‘\u001b[01m\u001b[Kexc_traceback\u001b[m\u001b[K’; did you mean ‘\u001b[01m\u001b[Kcurexc_traceback\u001b[m\u001b[K’?\n",
            "     tmp_tb = tstate->\u001b[01;31m\u001b[Kexc_traceback\u001b[m\u001b[K;\n",
            "                      \u001b[01;31m\u001b[K^~~~~~~~~~~~~\u001b[m\u001b[K\n",
            "                      \u001b[32m\u001b[Kcurexc_traceback\u001b[m\u001b[K\n",
            "\u001b[01m\u001b[Kmodel/utils/bbox.c:6979:13:\u001b[m\u001b[K \u001b[01;31m\u001b[Kerror: \u001b[m\u001b[K‘\u001b[01m\u001b[KPyThreadState {aka struct _ts}\u001b[m\u001b[K’ has no member named ‘\u001b[01m\u001b[Kexc_type\u001b[m\u001b[K’; did you mean ‘\u001b[01m\u001b[Kcurexc_type\u001b[m\u001b[K’?\n",
            "     tstate->\u001b[01;31m\u001b[Kexc_type\u001b[m\u001b[K = local_type;\n",
            "             \u001b[01;31m\u001b[K^~~~~~~~\u001b[m\u001b[K\n",
            "             \u001b[32m\u001b[Kcurexc_type\u001b[m\u001b[K\n",
            "\u001b[01m\u001b[Kmodel/utils/bbox.c:6980:13:\u001b[m\u001b[K \u001b[01;31m\u001b[Kerror: \u001b[m\u001b[K‘\u001b[01m\u001b[KPyThreadState {aka struct _ts}\u001b[m\u001b[K’ has no member named ‘\u001b[01m\u001b[Kexc_value\u001b[m\u001b[K’; did you mean ‘\u001b[01m\u001b[Kcurexc_value\u001b[m\u001b[K’?\n",
            "     tstate->\u001b[01;31m\u001b[Kexc_value\u001b[m\u001b[K = local_value;\n",
            "             \u001b[01;31m\u001b[K^~~~~~~~~\u001b[m\u001b[K\n",
            "             \u001b[32m\u001b[Kcurexc_value\u001b[m\u001b[K\n",
            "\u001b[01m\u001b[Kmodel/utils/bbox.c:6981:13:\u001b[m\u001b[K \u001b[01;31m\u001b[Kerror: \u001b[m\u001b[K‘\u001b[01m\u001b[KPyThreadState {aka struct _ts}\u001b[m\u001b[K’ has no member named ‘\u001b[01m\u001b[Kexc_traceback\u001b[m\u001b[K’; did you mean ‘\u001b[01m\u001b[Kcurexc_traceback\u001b[m\u001b[K’?\n",
            "     tstate->\u001b[01;31m\u001b[Kexc_traceback\u001b[m\u001b[K = local_tb;\n",
            "             \u001b[01;31m\u001b[K^~~~~~~~~~~~~\u001b[m\u001b[K\n",
            "             \u001b[32m\u001b[Kcurexc_traceback\u001b[m\u001b[K\n",
            "error: command 'x86_64-linux-gnu-gcc' failed with exit status 1\n",
            "Compiling nms kernels by nvcc...\n",
            "Traceback (most recent call last):\n",
            "  File \"build.py\", line 4, in <module>\n",
            "    from torch.utils.ffi import create_extension\n",
            "  File \"/usr/local/lib/python3.7/dist-packages/torch/utils/ffi/__init__.py\", line 1, in <module>\n",
            "    raise ImportError(\"torch.utils.ffi is deprecated. Please use cpp extensions instead.\")\n",
            "ImportError: torch.utils.ffi is deprecated. Please use cpp extensions instead.\n",
            "aveam si ha anat bé\n",
            "Compiling roi pooling kernels by nvcc...\n",
            "Traceback (most recent call last):\n",
            "  File \"build.py\", line 4, in <module>\n",
            "    from torch.utils.ffi import create_extension\n",
            "  File \"/usr/local/lib/python3.7/dist-packages/torch/utils/ffi/__init__.py\", line 1, in <module>\n",
            "    raise ImportError(\"torch.utils.ffi is deprecated. Please use cpp extensions instead.\")\n",
            "ImportError: torch.utils.ffi is deprecated. Please use cpp extensions instead.\n",
            "Compiling roi align kernels by nvcc...\n",
            "Traceback (most recent call last):\n",
            "  File \"build.py\", line 4, in <module>\n",
            "    from torch.utils.ffi import create_extension\n",
            "  File \"/usr/local/lib/python3.7/dist-packages/torch/utils/ffi/__init__.py\", line 1, in <module>\n",
            "    raise ImportError(\"torch.utils.ffi is deprecated. Please use cpp extensions instead.\")\n",
            "ImportError: torch.utils.ffi is deprecated. Please use cpp extensions instead.\n",
            "Compiling roi crop kernels by nvcc...\n",
            "Traceback (most recent call last):\n",
            "  File \"build.py\", line 4, in <module>\n",
            "    from torch.utils.ffi import create_extension\n",
            "  File \"/usr/local/lib/python3.7/dist-packages/torch/utils/ffi/__init__.py\", line 1, in <module>\n",
            "    raise ImportError(\"torch.utils.ffi is deprecated. Please use cpp extensions instead.\")\n",
            "ImportError: torch.utils.ffi is deprecated. Please use cpp extensions instead.\n"
          ]
        }
      ]
    },
    {
      "cell_type": "code",
      "source": [
        "! pwd"
      ],
      "metadata": {
        "colab": {
          "base_uri": "https://localhost:8080/"
        },
        "id": "XOYoux20iAp8",
        "outputId": "038a938e-6678-4bb2-eebf-2c96b61a33fa"
      },
      "execution_count": 34,
      "outputs": [
        {
          "output_type": "stream",
          "name": "stdout",
          "text": [
            "/content/RGBD_fruit_detection_faster-rcnn.pytorch\n"
          ]
        }
      ]
    },
    {
      "cell_type": "code",
      "source": [
        "! python trainval_net.py"
      ],
      "metadata": {
        "colab": {
          "base_uri": "https://localhost:8080/"
        },
        "id": "72shbGuhxuWH",
        "outputId": "9550a0b7-58b7-4452-8076-26f9d973b152"
      },
      "execution_count": 31,
      "outputs": [
        {
          "output_type": "stream",
          "name": "stdout",
          "text": [
            "Traceback (most recent call last):\n",
            "  File \"trainval_net.py\", line 28, in <module>\n",
            "    from roi_data_layer.roidb import combined_roidb\n",
            "  File \"/content/RGBD_fruit_detection_faster-rcnn.pytorch/lib/roi_data_layer/roidb.py\", line 9, in <module>\n",
            "    from datasets.factory import get_imdb\n",
            "  File \"/content/RGBD_fruit_detection_faster-rcnn.pytorch/lib/datasets/factory.py\", line 12, in <module>\n",
            "    from datasets.pascal_voc import pascal_voc\n",
            "ModuleNotFoundError: No module named 'datasets.pascal_voc'\n"
          ]
        }
      ]
    }
  ]
}