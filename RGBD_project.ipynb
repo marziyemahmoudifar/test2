{
  "nbformat": 4,
  "nbformat_minor": 0,
  "metadata": {
    "colab": {
      "name": "Untitled8.ipynb",
      "provenance": [],
      "authorship_tag": "ABX9TyPuqAX5zsnTX8OjBPLWeWpa",
      "include_colab_link": true
    },
    "kernelspec": {
      "name": "python3",
      "display_name": "Python 3"
    },
    "language_info": {
      "name": "python"
    },
    "accelerator": "GPU"
  },
  "cells": [
    {
      "cell_type": "markdown",
      "metadata": {
        "id": "view-in-github",
        "colab_type": "text"
      },
      "source": [
        "<a href=\"https://colab.research.google.com/github/marziyemahmoudifar/test2/blob/new1/RGBD_project.ipynb\" target=\"_parent\"><img src=\"https://colab.research.google.com/assets/colab-badge.svg\" alt=\"Open In Colab\"/></a>"
      ]
    },
    {
      "cell_type": "code",
      "execution_count": 6,
      "metadata": {
        "colab": {
          "base_uri": "https://localhost:8080/"
        },
        "id": "tsOhukMqePmw",
        "outputId": "9d764aff-dcfd-4c99-a360-2d5ad8220346"
      },
      "outputs": [
        {
          "output_type": "stream",
          "name": "stdout",
          "text": [
            "Cloning into 'RGBD_fruit_detection_faster-rcnn.pytorch'...\n",
            "remote: Enumerating objects: 232, done.\u001b[K\n",
            "Receiving objects:   0% (1/232)   \rReceiving objects:   1% (3/232)   \rReceiving objects:   2% (5/232)   \rReceiving objects:   3% (7/232)   \rReceiving objects:   4% (10/232)   \rReceiving objects:   5% (12/232)   \rReceiving objects:   6% (14/232)   \rReceiving objects:   7% (17/232)   \rReceiving objects:   8% (19/232)   \rReceiving objects:   9% (21/232)   \rReceiving objects:  10% (24/232)   \rReceiving objects:  11% (26/232)   \rReceiving objects:  12% (28/232)   \rReceiving objects:  13% (31/232)   \rReceiving objects:  14% (33/232)   \rReceiving objects:  15% (35/232)   \rReceiving objects:  16% (38/232)   \rReceiving objects:  17% (40/232)   \rReceiving objects:  18% (42/232)   \rReceiving objects:  19% (45/232)   \rReceiving objects:  20% (47/232)   \rReceiving objects:  21% (49/232)   \rReceiving objects:  22% (52/232)   \rReceiving objects:  23% (54/232)   \rReceiving objects:  24% (56/232)   \rReceiving objects:  25% (58/232)   \rReceiving objects:  26% (61/232)   \rReceiving objects:  27% (63/232)   \rReceiving objects:  28% (65/232)   \rReceiving objects:  29% (68/232)   \rReceiving objects:  30% (70/232)   \rReceiving objects:  31% (72/232)   \rReceiving objects:  32% (75/232)   \rReceiving objects:  33% (77/232)   \rReceiving objects:  34% (79/232)   \rReceiving objects:  35% (82/232)   \rReceiving objects:  36% (84/232)   \rReceiving objects:  37% (86/232)   \rReceiving objects:  38% (89/232)   \rReceiving objects:  39% (91/232)   \rReceiving objects:  40% (93/232)   \rReceiving objects:  41% (96/232)   \rReceiving objects:  42% (98/232)   \rReceiving objects:  43% (100/232)   \rReceiving objects:  44% (103/232)   \rReceiving objects:  45% (105/232)   \rReceiving objects:  46% (107/232)   \rReceiving objects:  47% (110/232)   \rReceiving objects:  48% (112/232)   \rReceiving objects:  49% (114/232)   \rReceiving objects:  50% (116/232)   \rReceiving objects:  51% (119/232)   \rReceiving objects:  52% (121/232)   \rReceiving objects:  53% (123/232)   \rReceiving objects:  54% (126/232)   \rReceiving objects:  55% (128/232)   \rReceiving objects:  56% (130/232)   \rReceiving objects:  57% (133/232)   \rReceiving objects:  58% (135/232)   \rReceiving objects:  59% (137/232)   \rReceiving objects:  60% (140/232)   \rReceiving objects:  61% (142/232)   \rReceiving objects:  62% (144/232)   \rReceiving objects:  63% (147/232)   \rReceiving objects:  64% (149/232)   \rReceiving objects:  65% (151/232)   \rReceiving objects:  66% (154/232)   \rReceiving objects:  67% (156/232)   \rReceiving objects:  68% (158/232)   \rReceiving objects:  69% (161/232)   \rReceiving objects:  70% (163/232)   \rReceiving objects:  71% (165/232)   \rReceiving objects:  72% (168/232)   \rReceiving objects:  73% (170/232)   \rReceiving objects:  74% (172/232)   \rReceiving objects:  75% (174/232)   \rReceiving objects:  76% (177/232)   \rReceiving objects:  77% (179/232)   \rReceiving objects:  78% (181/232)   \rReceiving objects:  79% (184/232)   \rReceiving objects:  80% (186/232)   \rReceiving objects:  81% (188/232)   \rReceiving objects:  82% (191/232)   \rReceiving objects:  83% (193/232)   \rremote: Total 232 (delta 0), reused 0 (delta 0), pack-reused 232\u001b[K\n",
            "Receiving objects:  84% (195/232)   \rReceiving objects:  85% (198/232)   \rReceiving objects:  86% (200/232)   \rReceiving objects:  87% (202/232)   \rReceiving objects:  88% (205/232)   \rReceiving objects:  89% (207/232)   \rReceiving objects:  90% (209/232)   \rReceiving objects:  91% (212/232)   \rReceiving objects:  92% (214/232)   \rReceiving objects:  93% (216/232)   \rReceiving objects:  94% (219/232)   \rReceiving objects:  95% (221/232)   \rReceiving objects:  96% (223/232)   \rReceiving objects:  97% (226/232)   \rReceiving objects:  98% (228/232)   \rReceiving objects:  99% (230/232)   \rReceiving objects: 100% (232/232)   \rReceiving objects: 100% (232/232), 497.21 KiB | 7.89 MiB/s, done.\n",
            "Resolving deltas:   0% (0/75)   \rResolving deltas:  10% (8/75)   \rResolving deltas:  16% (12/75)   \rResolving deltas:  17% (13/75)   \rResolving deltas:  22% (17/75)   \rResolving deltas:  24% (18/75)   \rResolving deltas:  49% (37/75)   \rResolving deltas:  50% (38/75)   \rResolving deltas:  53% (40/75)   \rResolving deltas:  56% (42/75)   \rResolving deltas:  57% (43/75)   \rResolving deltas:  64% (48/75)   \rResolving deltas:  65% (49/75)   \rResolving deltas:  66% (50/75)   \rResolving deltas:  69% (52/75)   \rResolving deltas:  74% (56/75)   \rResolving deltas:  76% (57/75)   \rResolving deltas:  78% (59/75)   \rResolving deltas:  80% (60/75)   \rResolving deltas:  85% (64/75)   \rResolving deltas:  86% (65/75)   \rResolving deltas:  88% (66/75)   \rResolving deltas:  89% (67/75)   \rResolving deltas:  92% (69/75)   \rResolving deltas:  93% (70/75)   \rResolving deltas:  94% (71/75)   \rResolving deltas:  96% (72/75)   \rResolving deltas:  98% (74/75)   \rResolving deltas: 100% (75/75)   \rResolving deltas: 100% (75/75), done.\n"
          ]
        }
      ],
      "source": [
        "!git clone https://github.com/GRAP-UdL-AT/RGBD_fruit_detection_faster-rcnn.pytorch.git"
      ]
    },
    {
      "cell_type": "code",
      "source": [
        "%cd RGBD_fruit_detection_faster-rcnn.pytorch "
      ],
      "metadata": {
        "colab": {
          "base_uri": "https://localhost:8080/"
        },
        "id": "d38wDLrCekVI",
        "outputId": "c3941000-ceba-4eca-d6b3-c616db855e38"
      },
      "execution_count": 8,
      "outputs": [
        {
          "output_type": "stream",
          "name": "stdout",
          "text": [
            "/content/RGBD_fruit_detection_faster-rcnn.pytorch/RGBD_fruit_detection_faster-rcnn.pytorch\n"
          ]
        }
      ]
    },
    {
      "cell_type": "code",
      "source": [
        "mkdir data"
      ],
      "metadata": {
        "id": "fejB2_eZfBZq"
      },
      "execution_count": 12,
      "outputs": []
    },
    {
      "cell_type": "code",
      "source": [
        "!find . -name \"*.pyc\" -exec rm -f {} \\;"
      ],
      "metadata": {
        "id": "1D85QB4Tj5eX"
      },
      "execution_count": 18,
      "outputs": []
    },
    {
      "cell_type": "code",
      "source": [
        "! python trainval_net.py"
      ],
      "metadata": {
        "colab": {
          "base_uri": "https://localhost:8080/"
        },
        "id": "XOYoux20iAp8",
        "outputId": "46a966ff-344a-4317-d992-9111d749267d"
      },
      "execution_count": 19,
      "outputs": [
        {
          "output_type": "stream",
          "name": "stdout",
          "text": [
            "Traceback (most recent call last):\n",
            "  File \"trainval_net.py\", line 28, in <module>\n",
            "    from roi_data_layer.roidb import combined_roidb\n",
            "  File \"/content/RGBD_fruit_detection_faster-rcnn.pytorch/lib/roi_data_layer/roidb.py\", line 9, in <module>\n",
            "    from datasets.factory import get_imdb\n",
            "  File \"/content/RGBD_fruit_detection_faster-rcnn.pytorch/lib/datasets/factory.py\", line 12, in <module>\n",
            "    from datasets.pascal_voc import pascal_voc\n",
            "ModuleNotFoundError: No module named 'datasets.pascal_voc'\n"
          ]
        }
      ]
    }
  ]
}