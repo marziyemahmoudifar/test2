{
  "nbformat": 4,
  "nbformat_minor": 0,
  "metadata": {
    "colab": {
      "name": "Copy of Untitled8.ipynb",
      "provenance": [],
      "authorship_tag": "ABX9TyOpFdgGafW3pxM6mgMaoO1x",
      "include_colab_link": true
    },
    "kernelspec": {
      "name": "python3",
      "display_name": "Python 3"
    },
    "language_info": {
      "name": "python"
    },
    "accelerator": "GPU"
  },
  "cells": [
    {
      "cell_type": "markdown",
      "metadata": {
        "id": "view-in-github",
        "colab_type": "text"
      },
      "source": [
        "<a href=\"https://colab.research.google.com/github/marziyemahmoudifar/test2/blob/new1/Copy_of_Untitled8.ipynb\" target=\"_parent\"><img src=\"https://colab.research.google.com/assets/colab-badge.svg\" alt=\"Open In Colab\"/></a>"
      ]
    },
    {
      "cell_type": "code",
      "source": [
        "# install Anaconda3\n",
        "!wget -qO ac.sh https://repo.anaconda.com/archive/Anaconda3-2020.07-Linux-x86_64.sh \n",
        "!bash ./ac.sh -b\n",
        "\n",
        "# a fake google.colab library\n",
        "!ln -s /usr/local/lib/python3.7/dist-packages/google \\\n",
        "       /root/anaconda3/lib/python2.7/site-packages/google\n",
        "\n",
        "# start jupyterlab, which now has Python2 = 2.7\n",
        "!nohup /root/anaconda3/bin/jupyter-lab --ip=0.0.0.0&\n",
        "\n",
        "# access through ngrok, click the link\n",
        "!pip install pyngrok -q\n",
        "from pyngrok import ngrok\n",
        "print(ngrok.connect(8888))"
      ],
      "metadata": {
        "colab": {
          "base_uri": "https://localhost:8080/"
        },
        "id": "x3aCthwLaEhz",
        "outputId": "e3d00080-0cb3-409c-a08d-b20bab42c0be"
      },
      "execution_count": 1,
      "outputs": [
        {
          "output_type": "stream",
          "name": "stdout",
          "text": [
            "ERROR: File or directory already exists: '/root/anaconda3'\n",
            "If you want to update an existing installation, use the -u option.\n",
            "ln: failed to create symbolic link '/root/anaconda3/lib/python2.7/site-packages/google': No such file or directory\n",
            "nohup: appending output to 'nohup.out'\n",
            "NgrokTunnel: \"http://91a5-34-123-23-3.ngrok.io\" -> \"http://localhost:8888\"\n"
          ]
        }
      ]
    },
    {
      "cell_type": "code",
      "source": [
        "!pip install \"wheel==0.34.2\""
      ],
      "metadata": {
        "id": "aZgHmR-kwEhk",
        "outputId": "36ad6066-cc2c-4c1f-8250-2bd4895f7f15",
        "colab": {
          "base_uri": "https://localhost:8080/"
        }
      },
      "execution_count": 2,
      "outputs": [
        {
          "output_type": "stream",
          "name": "stdout",
          "text": [
            "Requirement already satisfied: wheel==0.34.2 in /usr/local/lib/python3.7/dist-packages (0.34.2)\n"
          ]
        }
      ]
    },
    {
      "cell_type": "code",
      "source": [
        "!pip3 install torch==1.0.1 torchvision -f https://download.pytorch.org/whl/torch_stable.html"
      ],
      "metadata": {
        "id": "_dh03tdbnb__",
        "outputId": "3ee31e82-1984-4b44-f293-4c5dcf943358",
        "colab": {
          "base_uri": "https://localhost:8080/"
        }
      },
      "execution_count": 3,
      "outputs": [
        {
          "output_type": "stream",
          "name": "stdout",
          "text": [
            "Looking in links: https://download.pytorch.org/whl/torch_stable.html\n",
            "Requirement already satisfied: torch==1.0.1 in /usr/local/lib/python3.7/dist-packages (1.0.1)\n",
            "Requirement already satisfied: torchvision in /usr/local/lib/python3.7/dist-packages (0.2.2.post3)\n",
            "Requirement already satisfied: pillow>=4.1.1 in /usr/local/lib/python3.7/dist-packages (from torchvision) (7.1.2)\n",
            "Requirement already satisfied: numpy in /usr/local/lib/python3.7/dist-packages (from torchvision) (1.19.5)\n",
            "Requirement already satisfied: six in /usr/local/lib/python3.7/dist-packages (from torchvision) (1.15.0)\n"
          ]
        }
      ]
    },
    {
      "cell_type": "code",
      "source": [
        "import torch\n",
        "import torch.nn as nn\n",
        "import torch.nn.functional as F\n",
        "import torchvision\n",
        "import torchvision.transforms as transforms"
      ],
      "metadata": {
        "id": "xpyObCCVcv2d"
      },
      "execution_count": 4,
      "outputs": []
    },
    {
      "cell_type": "code",
      "source": [
        "print(torch.__version__)"
      ],
      "metadata": {
        "id": "1znrkpMndB70",
        "outputId": "dae53679-128f-4af3-c1c3-1c59d1cc4782",
        "colab": {
          "base_uri": "https://localhost:8080/"
        }
      },
      "execution_count": 5,
      "outputs": [
        {
          "output_type": "stream",
          "name": "stdout",
          "text": [
            "1.0.1\n"
          ]
        }
      ]
    },
    {
      "cell_type": "code",
      "execution_count": 6,
      "metadata": {
        "colab": {
          "base_uri": "https://localhost:8080/"
        },
        "id": "tsOhukMqePmw",
        "outputId": "f922bf83-26fb-455f-fdc2-f7b4b965a890"
      },
      "outputs": [
        {
          "output_type": "stream",
          "name": "stdout",
          "text": [
            "fatal: destination path 'RGBD_fruit_detection_faster-rcnn.pytorch' already exists and is not an empty directory.\n"
          ]
        }
      ],
      "source": [
        "!git clone https://github.com/GRAP-UdL-AT/RGBD_fruit_detection_faster-rcnn.pytorch.git"
      ]
    },
    {
      "cell_type": "code",
      "source": [
        "%cd RGBD_fruit_detection_faster-rcnn.pytorch"
      ],
      "metadata": {
        "id": "79yETJqzrF2b",
        "outputId": "9a3219a2-ff31-46b3-c83a-19d2911b5e22",
        "colab": {
          "base_uri": "https://localhost:8080/"
        }
      },
      "execution_count": 7,
      "outputs": [
        {
          "output_type": "stream",
          "name": "stdout",
          "text": [
            "/content/RGBD_fruit_detection_faster-rcnn.pytorch\n"
          ]
        }
      ]
    },
    {
      "cell_type": "code",
      "source": [
        "!pip2 install -r requirements.txt"
      ],
      "metadata": {
        "id": "eyzFKZ0fRkPh",
        "outputId": "345bdfe6-d398-430d-cd2c-2bf06966007b",
        "colab": {
          "base_uri": "https://localhost:8080/"
        }
      },
      "execution_count": 8,
      "outputs": [
        {
          "output_type": "stream",
          "name": "stdout",
          "text": [
            "Requirement already satisfied: cython in /usr/local/lib/python2.7/dist-packages (from -r requirements.txt (line 1)) (0.29.12)\n",
            "Requirement already satisfied: cffi in /usr/local/lib/python2.7/dist-packages (from -r requirements.txt (line 2)) (1.12.3)\n",
            "Requirement already satisfied: opencv-python in /usr/local/lib/python2.7/dist-packages (from -r requirements.txt (line 3)) (3.4.5.20)\n",
            "Requirement already satisfied: scipy in /usr/local/lib/python2.7/dist-packages (from -r requirements.txt (line 4)) (1.2.2)\n",
            "Requirement already satisfied: easydict in /usr/local/lib/python2.7/dist-packages (from -r requirements.txt (line 5)) (1.9)\n",
            "Requirement already satisfied: matplotlib in /usr/local/lib/python2.7/dist-packages (from -r requirements.txt (line 6)) (2.2.4)\n",
            "Requirement already satisfied: pyyaml in /usr/local/lib/python2.7/dist-packages (from -r requirements.txt (line 7)) (3.13)\n",
            "Requirement already satisfied: pycparser in /usr/local/lib/python2.7/dist-packages (from cffi->-r requirements.txt (line 2)) (2.19)\n",
            "Requirement already satisfied: numpy>=1.11.1 in /usr/local/lib/python2.7/dist-packages (from opencv-python->-r requirements.txt (line 3)) (1.16.4)\n",
            "Requirement already satisfied: cycler>=0.10 in /usr/local/lib/python2.7/dist-packages (from matplotlib->-r requirements.txt (line 6)) (0.10.0)\n",
            "Requirement already satisfied: backports.functools-lru-cache in /usr/local/lib/python2.7/dist-packages (from matplotlib->-r requirements.txt (line 6)) (1.5)\n",
            "Requirement already satisfied: subprocess32 in /usr/local/lib/python2.7/dist-packages (from matplotlib->-r requirements.txt (line 6)) (3.5.4)\n",
            "Requirement already satisfied: kiwisolver>=1.0.1 in /usr/local/lib/python2.7/dist-packages (from matplotlib->-r requirements.txt (line 6)) (1.1.0)\n",
            "Requirement already satisfied: pytz in /usr/local/lib/python2.7/dist-packages (from matplotlib->-r requirements.txt (line 6)) (2018.9)\n",
            "Requirement already satisfied: six>=1.10 in /usr/local/lib/python2.7/dist-packages (from matplotlib->-r requirements.txt (line 6)) (1.15.0)\n",
            "Requirement already satisfied: python-dateutil>=2.1 in /usr/local/lib/python2.7/dist-packages (from matplotlib->-r requirements.txt (line 6)) (2.5.3)\n",
            "Requirement already satisfied: pyparsing!=2.0.4,!=2.1.2,!=2.1.6,>=2.0.1 in /usr/local/lib/python2.7/dist-packages (from matplotlib->-r requirements.txt (line 6)) (2.4.0)\n",
            "Requirement already satisfied: setuptools in /usr/local/lib/python2.7/dist-packages (from kiwisolver>=1.0.1->matplotlib->-r requirements.txt (line 6)) (44.1.1)\n"
          ]
        }
      ]
    },
    {
      "cell_type": "code",
      "source": [
        "%cd .."
      ],
      "metadata": {
        "id": "uCtdYMgIocgi",
        "outputId": "8cc4de70-427a-4829-966d-f219b2e24c28",
        "colab": {
          "base_uri": "https://localhost:8080/"
        }
      },
      "execution_count": 9,
      "outputs": [
        {
          "output_type": "stream",
          "name": "stdout",
          "text": [
            "/content\n"
          ]
        }
      ]
    },
    {
      "cell_type": "code",
      "source": [
        "!pip install dnspython"
      ],
      "metadata": {
        "id": "zhzwAdjZpvsq",
        "outputId": "d177f192-8f99-48e6-837d-9790032a65b2",
        "colab": {
          "base_uri": "https://localhost:8080/"
        }
      },
      "execution_count": 10,
      "outputs": [
        {
          "output_type": "stream",
          "name": "stdout",
          "text": [
            "Requirement already satisfied: dnspython in /usr/local/lib/python3.7/dist-packages (2.2.0)\n"
          ]
        }
      ]
    },
    {
      "cell_type": "code",
      "source": [
        " import setuptools"
      ],
      "metadata": {
        "id": "YzTFTyX3lRHC"
      },
      "execution_count": 11,
      "outputs": []
    },
    {
      "cell_type": "code",
      "source": [
        "!pip list"
      ],
      "metadata": {
        "id": "DnvHk7F6tLEb",
        "outputId": "04985afb-967e-48f0-c8fc-e51021ea2b59",
        "colab": {
          "base_uri": "https://localhost:8080/"
        }
      },
      "execution_count": 12,
      "outputs": [
        {
          "output_type": "stream",
          "name": "stdout",
          "text": [
            "Package                       Version\n",
            "----------------------------- --------------\n",
            "absl-py                       1.0.0\n",
            "alabaster                     0.7.12\n",
            "albumentations                0.1.12\n",
            "altair                        4.2.0\n",
            "appdirs                       1.4.4\n",
            "argon2-cffi                   21.3.0\n",
            "argon2-cffi-bindings          21.2.0\n",
            "arviz                         0.11.4\n",
            "astor                         0.8.1\n",
            "astropy                       4.3.1\n",
            "astunparse                    1.6.3\n",
            "atari-py                      0.2.9\n",
            "atomicwrites                  1.4.0\n",
            "attrs                         21.4.0\n",
            "audioread                     2.1.9\n",
            "autograd                      1.3\n",
            "Babel                         2.9.1\n",
            "backcall                      0.2.0\n",
            "beautifulsoup4                4.6.3\n",
            "bleach                        4.1.0\n",
            "blis                          0.4.1\n",
            "bokeh                         2.3.3\n",
            "Bottleneck                    1.3.2\n",
            "branca                        0.4.2\n",
            "bs4                           0.0.1\n",
            "CacheControl                  0.12.10\n",
            "cached-property               1.5.2\n",
            "cachetools                    4.2.4\n",
            "catalogue                     1.0.0\n",
            "certifi                       2021.10.8\n",
            "cffi                          1.15.0\n",
            "cftime                        1.5.2\n",
            "chardet                       3.0.4\n",
            "charset-normalizer            2.0.11\n",
            "click                         7.1.2\n",
            "cloudpickle                   1.3.0\n",
            "cmake                         3.12.0\n",
            "cmdstanpy                     0.9.5\n",
            "colorcet                      3.0.0\n",
            "colorlover                    0.3.0\n",
            "community                     1.0.0b1\n",
            "contextlib2                   0.5.5\n",
            "convertdate                   2.4.0\n",
            "coverage                      3.7.1\n",
            "coveralls                     0.5\n",
            "crcmod                        1.7\n",
            "cufflinks                     0.17.3\n",
            "cupy-cuda111                  9.4.0\n",
            "cvxopt                        1.2.7\n",
            "cvxpy                         1.0.31\n",
            "cycler                        0.11.0\n",
            "cymem                         2.0.6\n",
            "Cython                        0.29.27\n",
            "daft                          0.0.4\n",
            "dask                          2.12.0\n",
            "datascience                   0.10.6\n",
            "debugpy                       1.0.0\n",
            "decorator                     4.4.2\n",
            "defusedxml                    0.7.1\n",
            "descartes                     1.1.0\n",
            "dill                          0.3.4\n",
            "distributed                   1.25.3\n",
            "dlib                          19.18.0\n",
            "dm-tree                       0.1.6\n",
            "dnspython                     2.2.0\n",
            "docopt                        0.6.2\n",
            "docutils                      0.17.1\n",
            "dopamine-rl                   1.0.5\n",
            "earthengine-api               0.1.297\n",
            "easydict                      1.9\n",
            "ecos                          2.0.10\n",
            "editdistance                  0.5.3\n",
            "en-core-web-sm                2.2.5\n",
            "entrypoints                   0.4\n",
            "ephem                         4.1.3\n",
            "et-xmlfile                    1.1.0\n",
            "fa2                           0.3.5\n",
            "fastai                        1.0.61\n",
            "fastdtw                       0.3.4\n",
            "fastprogress                  1.0.0\n",
            "fastrlock                     0.8\n",
            "fbprophet                     0.7.1\n",
            "feather-format                0.4.1\n",
            "filelock                      3.4.2\n",
            "firebase-admin                4.4.0\n",
            "fix-yahoo-finance             0.0.22\n",
            "Flask                         1.1.4\n",
            "flatbuffers                   2.0\n",
            "folium                        0.8.3\n",
            "future                        0.16.0\n",
            "gast                          0.4.0\n",
            "GDAL                          2.2.2\n",
            "gdown                         4.2.1\n",
            "gensim                        3.6.0\n",
            "geographiclib                 1.52\n",
            "geopy                         1.17.0\n",
            "gin-config                    0.5.0\n",
            "glob2                         0.7\n",
            "google                        2.0.3\n",
            "google-api-core               1.26.3\n",
            "google-api-python-client      1.12.10\n",
            "google-auth                   1.35.0\n",
            "google-auth-httplib2          0.0.4\n",
            "google-auth-oauthlib          0.4.6\n",
            "google-cloud-bigquery         1.21.0\n",
            "google-cloud-bigquery-storage 1.1.0\n",
            "google-cloud-core             1.0.3\n",
            "google-cloud-datastore        1.8.0\n",
            "google-cloud-firestore        1.7.0\n",
            "google-cloud-language         1.2.0\n",
            "google-cloud-storage          1.18.1\n",
            "google-cloud-translate        1.5.0\n",
            "google-colab                  1.0.0\n",
            "google-pasta                  0.2.0\n",
            "google-resumable-media        0.4.1\n",
            "googleapis-common-protos      1.54.0\n",
            "googledrivedownloader         0.4\n",
            "graphviz                      0.10.1\n",
            "greenlet                      1.1.2\n",
            "grpcio                        1.43.0\n",
            "gspread                       3.4.2\n",
            "gspread-dataframe             3.0.8\n",
            "gym                           0.17.3\n",
            "h5py                          3.1.0\n",
            "HeapDict                      1.0.1\n",
            "hijri-converter               2.2.2\n",
            "holidays                      0.10.5.2\n",
            "holoviews                     1.14.7\n",
            "html5lib                      1.0.1\n",
            "httpimport                    0.5.18\n",
            "httplib2                      0.17.4\n",
            "httplib2shim                  0.0.3\n",
            "humanize                      0.5.1\n",
            "hyperopt                      0.1.2\n",
            "ideep4py                      2.0.0.post3\n",
            "idna                          2.10\n",
            "imageio                       2.4.1\n",
            "imagesize                     1.3.0\n",
            "imbalanced-learn              0.8.1\n",
            "imblearn                      0.0\n",
            "imgaug                        0.2.9\n",
            "importlib-metadata            4.10.1\n",
            "importlib-resources           5.4.0\n",
            "imutils                       0.5.4\n",
            "inflect                       2.1.0\n",
            "iniconfig                     1.1.1\n",
            "intel-openmp                  2022.0.2\n",
            "intervaltree                  2.1.0\n",
            "ipykernel                     4.10.1\n",
            "ipython                       5.5.0\n",
            "ipython-genutils              0.2.0\n",
            "ipython-sql                   0.3.9\n",
            "ipywidgets                    7.6.5\n",
            "itsdangerous                  1.1.0\n",
            "jax                           0.2.25\n",
            "jaxlib                        0.1.71+cuda111\n",
            "jedi                          0.18.1\n",
            "jieba                         0.42.1\n",
            "Jinja2                        2.11.3\n",
            "joblib                        1.1.0\n",
            "jpeg4py                       0.1.4\n",
            "jsonschema                    4.3.3\n",
            "jupyter                       1.0.0\n",
            "jupyter-client                5.3.5\n",
            "jupyter-console               5.2.0\n",
            "jupyter-core                  4.9.1\n",
            "jupyterlab-pygments           0.1.2\n",
            "jupyterlab-widgets            1.0.2\n",
            "kaggle                        1.5.12\n",
            "kapre                         0.3.7\n",
            "keras                         2.7.0\n",
            "Keras-Preprocessing           1.1.2\n",
            "keras-vis                     0.4.1\n",
            "kiwisolver                    1.3.2\n",
            "korean-lunar-calendar         0.2.1\n",
            "libclang                      13.0.0\n",
            "librosa                       0.8.1\n",
            "lightgbm                      2.2.3\n",
            "llvmlite                      0.34.0\n",
            "lmdb                          0.99\n",
            "LunarCalendar                 0.0.9\n",
            "lxml                          4.2.6\n",
            "Markdown                      3.3.6\n",
            "MarkupSafe                    2.0.1\n",
            "matplotlib                    3.2.2\n",
            "matplotlib-inline             0.1.3\n",
            "matplotlib-venn               0.11.6\n",
            "missingno                     0.5.0\n",
            "mistune                       0.8.4\n",
            "mizani                        0.6.0\n",
            "mkl                           2019.0\n",
            "mlxtend                       0.14.0\n",
            "more-itertools                8.12.0\n",
            "moviepy                       0.2.3.5\n",
            "mpmath                        1.2.1\n",
            "msgpack                       1.0.3\n",
            "multiprocess                  0.70.12.2\n",
            "multitasking                  0.0.10\n",
            "murmurhash                    1.0.6\n",
            "music21                       5.5.0\n",
            "natsort                       5.5.0\n",
            "nbclient                      0.5.10\n",
            "nbconvert                     5.6.1\n",
            "nbformat                      5.1.3\n",
            "nest-asyncio                  1.5.4\n",
            "netCDF4                       1.5.8\n",
            "networkx                      2.6.3\n",
            "nibabel                       3.0.2\n",
            "nltk                          3.2.5\n",
            "notebook                      5.3.1\n",
            "numba                         0.51.2\n",
            "numexpr                       2.8.1\n",
            "numpy                         1.19.5\n",
            "nvidia-ml-py3                 7.352.0\n",
            "oauth2client                  4.1.3\n",
            "oauthlib                      3.2.0\n",
            "okgrade                       0.4.3\n",
            "opencv-contrib-python         4.1.2.30\n",
            "opencv-python                 4.1.2.30\n",
            "openpyxl                      3.0.9\n",
            "opt-einsum                    3.3.0\n",
            "osqp                          0.6.2.post0\n",
            "packaging                     21.3\n",
            "palettable                    3.3.0\n",
            "pandas                        1.3.5\n",
            "pandas-datareader             0.9.0\n",
            "pandas-gbq                    0.13.3\n",
            "pandas-profiling              1.4.1\n",
            "pandocfilters                 1.5.0\n",
            "panel                         0.12.1\n",
            "param                         1.12.0\n",
            "parso                         0.8.3\n",
            "pathlib                       1.0.1\n",
            "patsy                         0.5.2\n",
            "pep517                        0.12.0\n",
            "pexpect                       4.8.0\n",
            "pickleshare                   0.7.5\n",
            "Pillow                        7.1.2\n",
            "pip                           21.1.3\n",
            "pip-tools                     6.2.0\n",
            "plac                          1.1.3\n",
            "plotly                        5.5.0\n",
            "plotnine                      0.6.0\n",
            "pluggy                        0.7.1\n",
            "pooch                         1.6.0\n",
            "portpicker                    1.3.9\n",
            "prefetch-generator            1.0.1\n",
            "preshed                       3.0.6\n",
            "prettytable                   3.0.0\n",
            "progressbar2                  3.38.0\n",
            "prometheus-client             0.13.1\n",
            "promise                       2.3\n",
            "prompt-toolkit                1.0.18\n",
            "protobuf                      3.17.3\n",
            "psutil                        5.4.8\n",
            "psycopg2                      2.7.6.1\n",
            "ptyprocess                    0.7.0\n",
            "py                            1.11.0\n",
            "pyarrow                       6.0.1\n",
            "pyasn1                        0.4.8\n",
            "pyasn1-modules                0.2.8\n",
            "pycocotools                   2.0.4\n",
            "pycparser                     2.21\n",
            "pyct                          0.4.8\n",
            "pydata-google-auth            1.3.0\n",
            "pydot                         1.3.0\n",
            "pydot-ng                      2.0.0\n",
            "pydotplus                     2.0.2\n",
            "PyDrive                       1.3.1\n",
            "pyemd                         0.5.1\n",
            "pyerfa                        2.0.0.1\n",
            "pyglet                        1.5.0\n",
            "Pygments                      2.6.1\n",
            "pygobject                     3.26.1\n",
            "pymc3                         3.11.4\n",
            "PyMeeus                       0.5.11\n",
            "pymongo                       4.0.1\n",
            "pymystem3                     0.2.0\n",
            "pyngrok                       5.1.0\n",
            "PyOpenGL                      3.1.5\n",
            "pyparsing                     3.0.7\n",
            "pyrsistent                    0.18.1\n",
            "pysndfile                     1.3.8\n",
            "PySocks                       1.7.1\n",
            "pystan                        2.19.1.1\n",
            "pytest                        3.6.4\n",
            "python-apt                    0.0.0\n",
            "python-chess                  0.23.11\n",
            "python-dateutil               2.8.2\n",
            "python-louvain                0.16\n",
            "python-slugify                5.0.2\n",
            "python-utils                  3.1.0\n",
            "pytz                          2018.9\n",
            "pyviz-comms                   2.1.0\n",
            "PyWavelets                    1.2.0\n",
            "PyYAML                        3.13\n",
            "pyzmq                         22.3.0\n",
            "qdldl                         0.1.5.post0\n",
            "qtconsole                     5.2.2\n",
            "QtPy                          2.0.1\n",
            "regex                         2019.12.20\n",
            "requests                      2.23.0\n",
            "requests-oauthlib             1.3.1\n",
            "resampy                       0.2.2\n",
            "rpy2                          3.4.5\n",
            "rsa                           4.8\n",
            "scikit-image                  0.18.3\n",
            "scikit-learn                  1.0.2\n",
            "scipy                         1.4.1\n",
            "screen-resolution-extra       0.0.0\n",
            "scs                           3.1.0\n",
            "seaborn                       0.11.2\n",
            "semver                        2.13.0\n",
            "Send2Trash                    1.8.0\n",
            "setuptools                    57.4.0\n",
            "setuptools-git                1.2\n",
            "Shapely                       1.8.0\n",
            "simplegeneric                 0.8.1\n",
            "six                           1.15.0\n",
            "sklearn                       0.0\n",
            "sklearn-pandas                1.8.0\n",
            "smart-open                    5.2.1\n",
            "snowballstemmer               2.2.0\n",
            "sortedcontainers              2.4.0\n",
            "SoundFile                     0.10.3.post1\n",
            "spacy                         2.2.4\n",
            "Sphinx                        1.8.6\n",
            "sphinxcontrib-serializinghtml 1.1.5\n",
            "sphinxcontrib-websupport      1.2.4\n",
            "SQLAlchemy                    1.4.31\n",
            "sqlparse                      0.4.2\n",
            "srsly                         1.0.5\n",
            "statsmodels                   0.10.2\n",
            "sympy                         1.7.1\n",
            "tables                        3.7.0\n",
            "tabulate                      0.8.9\n",
            "tblib                         1.7.0\n",
            "tenacity                      8.0.1\n",
            "tensorboard                   2.7.0\n",
            "tensorboard-data-server       0.6.1\n",
            "tensorboard-plugin-wit        1.8.1\n",
            "tensorflow                    2.7.0\n",
            "tensorflow-datasets           4.0.1\n",
            "tensorflow-estimator          2.7.0\n",
            "tensorflow-gcs-config         2.7.0\n",
            "tensorflow-hub                0.12.0\n",
            "tensorflow-io-gcs-filesystem  0.24.0\n",
            "tensorflow-metadata           1.6.0\n",
            "tensorflow-probability        0.15.0\n",
            "termcolor                     1.1.0\n",
            "terminado                     0.13.1\n",
            "testpath                      0.5.0\n",
            "text-unidecode                1.3\n",
            "textblob                      0.15.3\n",
            "Theano-PyMC                   1.1.2\n",
            "thinc                         7.4.0\n",
            "threadpoolctl                 3.1.0\n",
            "tifffile                      2021.11.2\n",
            "tomli                         2.0.0\n",
            "toolz                         0.11.2\n",
            "torch                         1.0.1\n",
            "torchaudio                    0.10.0+cu111\n",
            "torchsummary                  1.5.1\n",
            "torchtext                     0.11.0\n",
            "torchvision                   0.2.2.post3\n",
            "tornado                       5.1.1\n",
            "tqdm                          4.62.3\n",
            "traitlets                     5.1.1\n",
            "tweepy                        3.10.0\n",
            "typeguard                     2.7.1\n",
            "typing-extensions             3.10.0.2\n",
            "tzlocal                       1.5.1\n",
            "uritemplate                   3.0.1\n",
            "urllib3                       1.24.3\n",
            "vega-datasets                 0.9.0\n",
            "wasabi                        0.9.0\n",
            "wcwidth                       0.2.5\n",
            "webencodings                  0.5.1\n",
            "Werkzeug                      1.0.1\n",
            "wheel                         0.34.2\n",
            "widgetsnbextension            3.5.2\n",
            "wordcloud                     1.5.0\n",
            "wrapt                         1.13.3\n",
            "xarray                        0.18.2\n",
            "xgboost                       0.90\n",
            "xkit                          0.0.0\n",
            "xlrd                          1.1.0\n",
            "xlwt                          1.3.0\n",
            "yellowbrick                   1.3.post1\n",
            "zict                          2.0.0\n",
            "zipp                          3.7.0\n"
          ]
        }
      ]
    },
    {
      "cell_type": "code",
      "source": [
        "%cd RGBD_fruit_detection_faster-rcnn.pytorch/lib"
      ],
      "metadata": {
        "id": "iTf11szQrXbD",
        "outputId": "c5fda210-c16d-4469-f7eb-cbf21c3d1e73",
        "colab": {
          "base_uri": "https://localhost:8080/"
        }
      },
      "execution_count": 13,
      "outputs": [
        {
          "output_type": "stream",
          "name": "stdout",
          "text": [
            "/content/RGBD_fruit_detection_faster-rcnn.pytorch/lib\n"
          ]
        }
      ]
    },
    {
      "cell_type": "code",
      "source": [
        "!pip3 install pycocotools"
      ],
      "metadata": {
        "id": "KaULFnkJymD-",
        "outputId": "4b80aee8-8a61-4458-c946-76cab95b1ae4",
        "colab": {
          "base_uri": "https://localhost:8080/"
        }
      },
      "execution_count": 30,
      "outputs": [
        {
          "output_type": "stream",
          "name": "stdout",
          "text": [
            "Requirement already satisfied: pycocotools in /usr/local/lib/python3.7/dist-packages (2.0.4)\n",
            "Requirement already satisfied: matplotlib>=2.1.0 in /usr/local/lib/python3.7/dist-packages (from pycocotools) (3.2.2)\n",
            "Requirement already satisfied: numpy in /usr/local/lib/python3.7/dist-packages (from pycocotools) (1.19.5)\n",
            "Requirement already satisfied: pyparsing!=2.0.4,!=2.1.2,!=2.1.6,>=2.0.1 in /usr/local/lib/python3.7/dist-packages (from matplotlib>=2.1.0->pycocotools) (3.0.7)\n",
            "Requirement already satisfied: cycler>=0.10 in /usr/local/lib/python3.7/dist-packages (from matplotlib>=2.1.0->pycocotools) (0.11.0)\n",
            "Requirement already satisfied: kiwisolver>=1.0.1 in /usr/local/lib/python3.7/dist-packages (from matplotlib>=2.1.0->pycocotools) (1.3.2)\n",
            "Requirement already satisfied: python-dateutil>=2.1 in /usr/local/lib/python3.7/dist-packages (from matplotlib>=2.1.0->pycocotools) (2.8.2)\n",
            "Requirement already satisfied: six>=1.5 in /usr/local/lib/python3.7/dist-packages (from python-dateutil>=2.1->matplotlib>=2.1.0->pycocotools) (1.15.0)\n"
          ]
        }
      ]
    },
    {
      "cell_type": "code",
      "source": [
        "! python setup.py build "
      ],
      "metadata": {
        "id": "IEaqO_z4wciB",
        "outputId": "25fcdb6c-1dda-44be-df53-bad2c9a03c0e",
        "colab": {
          "base_uri": "https://localhost:8080/"
        }
      },
      "execution_count": 24,
      "outputs": [
        {
          "output_type": "stream",
          "name": "stdout",
          "text": [
            "running build\n",
            "running build_ext\n",
            "skipping 'model/utils/bbox.c' Cython extension (up-to-date)\n",
            "cythoning pycocotools/_mask.pyx to pycocotools/_mask.c\n",
            "error: /content/RGBD_fruit_detection_faster-rcnn.pytorch/lib/pycocotools/_mask.pyx\n"
          ]
        }
      ]
    },
    {
      "cell_type": "code",
      "source": [
        "!sh make.sh"
      ],
      "metadata": {
        "colab": {
          "base_uri": "https://localhost:8080/"
        },
        "id": "d38wDLrCekVI",
        "outputId": "37453217-fbea-4d5c-a7eb-7e2f43e6a3a7"
      },
      "execution_count": 22,
      "outputs": [
        {
          "output_type": "stream",
          "name": "stdout",
          "text": [
            "running build_ext\n",
            "skipping 'model/utils/bbox.c' Cython extension (up-to-date)\n",
            "cythoning pycocotools/_mask.pyx to pycocotools/_mask.c\n",
            "creating pycocotools\n",
            "error: /content/RGBD_fruit_detection_faster-rcnn.pytorch/lib/pycocotools/_mask.pyx\n",
            "Compiling nms kernels by nvcc...\n",
            "Including CUDA code.\n",
            "/content/RGBD_fruit_detection_faster-rcnn.pytorch/lib/model/nms\n",
            "['/content/RGBD_fruit_detection_faster-rcnn.pytorch/lib/model/nms/src/nms_cuda_kernel.cu.o']\n",
            "Traceback (most recent call last):\n",
            "  File \"build.py\", line 32, in <module>\n",
            "    extra_objects=extra_objects\n",
            "  File \"/usr/local/lib/python3.7/dist-packages/torch/utils/cpp_extension.py\", line 228, in __init__\n",
            "    super(BuildExtension, self).__init__(*args, **kwargs)\n",
            "  File \"/usr/local/lib/python3.7/dist-packages/setuptools/__init__.py\", line 172, in __init__\n",
            "    _Command.__init__(self, dist)\n",
            "  File \"/usr/lib/python3.7/distutils/cmd.py\", line 57, in __init__\n",
            "    raise TypeError(\"dist must be a Distribution instance\")\n",
            "TypeError: dist must be a Distribution instance\n",
            "aveam si ha anat bé\n",
            "Compiling roi pooling kernels by nvcc...\n",
            "/content/RGBD_fruit_detection_faster-rcnn.pytorch/lib/model/roi_pooling\n",
            "Including CUDA code.\n",
            "Traceback (most recent call last):\n",
            "  File \"build.py\", line 32, in <module>\n",
            "    extra_objects=extra_objects\n",
            "  File \"/usr/local/lib/python3.7/dist-packages/torch/utils/cpp_extension.py\", line 228, in __init__\n",
            "    super(BuildExtension, self).__init__(*args, **kwargs)\n",
            "  File \"/usr/local/lib/python3.7/dist-packages/setuptools/__init__.py\", line 172, in __init__\n",
            "    _Command.__init__(self, dist)\n",
            "  File \"/usr/lib/python3.7/distutils/cmd.py\", line 57, in __init__\n",
            "    raise TypeError(\"dist must be a Distribution instance\")\n",
            "TypeError: dist must be a Distribution instance\n",
            "Compiling roi align kernels by nvcc...\n",
            "/content/RGBD_fruit_detection_faster-rcnn.pytorch/lib/model/roi_align\n",
            "Including CUDA code.\n",
            "Traceback (most recent call last):\n",
            "  File \"build.py\", line 32, in <module>\n",
            "    extra_objects=extra_objects\n",
            "  File \"/usr/local/lib/python3.7/dist-packages/torch/utils/cpp_extension.py\", line 228, in __init__\n",
            "    super(BuildExtension, self).__init__(*args, **kwargs)\n",
            "  File \"/usr/local/lib/python3.7/dist-packages/setuptools/__init__.py\", line 172, in __init__\n",
            "    _Command.__init__(self, dist)\n",
            "  File \"/usr/lib/python3.7/distutils/cmd.py\", line 57, in __init__\n",
            "    raise TypeError(\"dist must be a Distribution instance\")\n",
            "TypeError: dist must be a Distribution instance\n",
            "Compiling roi crop kernels by nvcc...\n",
            "Including CUDA code.\n",
            "/content/RGBD_fruit_detection_faster-rcnn.pytorch/lib/model/roi_crop\n",
            "Traceback (most recent call last):\n",
            "  File \"build.py\", line 31, in <module>\n",
            "    extra_objects=extra_objects\n",
            "  File \"/usr/local/lib/python3.7/dist-packages/torch/utils/cpp_extension.py\", line 228, in __init__\n",
            "    super(BuildExtension, self).__init__(*args, **kwargs)\n",
            "  File \"/usr/local/lib/python3.7/dist-packages/setuptools/__init__.py\", line 172, in __init__\n",
            "    _Command.__init__(self, dist)\n",
            "  File \"/usr/lib/python3.7/distutils/cmd.py\", line 57, in __init__\n",
            "    raise TypeError(\"dist must be a Distribution instance\")\n",
            "TypeError: dist must be a Distribution instance\n"
          ]
        }
      ]
    },
    {
      "cell_type": "code",
      "source": [
        "mkdir data"
      ],
      "metadata": {
        "id": "fejB2_eZfBZq"
      },
      "execution_count": null,
      "outputs": []
    },
    {
      "cell_type": "code",
      "source": [
        "!find . -name \"*.pyc\" -exec rm -f {} \\;"
      ],
      "metadata": {
        "id": "1D85QB4Tj5eX"
      },
      "execution_count": null,
      "outputs": []
    },
    {
      "cell_type": "code",
      "source": [
        "! python trainval_net.py"
      ],
      "metadata": {
        "colab": {
          "base_uri": "https://localhost:8080/"
        },
        "id": "XOYoux20iAp8",
        "outputId": "46a966ff-344a-4317-d992-9111d749267d"
      },
      "execution_count": null,
      "outputs": [
        {
          "output_type": "stream",
          "name": "stdout",
          "text": [
            "Traceback (most recent call last):\n",
            "  File \"trainval_net.py\", line 28, in <module>\n",
            "    from roi_data_layer.roidb import combined_roidb\n",
            "  File \"/content/RGBD_fruit_detection_faster-rcnn.pytorch/lib/roi_data_layer/roidb.py\", line 9, in <module>\n",
            "    from datasets.factory import get_imdb\n",
            "  File \"/content/RGBD_fruit_detection_faster-rcnn.pytorch/lib/datasets/factory.py\", line 12, in <module>\n",
            "    from datasets.pascal_voc import pascal_voc\n",
            "ModuleNotFoundError: No module named 'datasets.pascal_voc'\n"
          ]
        }
      ]
    }
  ]
}